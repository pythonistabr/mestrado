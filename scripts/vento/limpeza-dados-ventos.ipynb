{
 "cells": [
  {
   "cell_type": "code",
   "execution_count": 24,
   "id": "1adddc79",
   "metadata": {},
   "outputs": [],
   "source": [
    "import numpy as np\n",
    "import pandas as pd\n",
    "import datetime as dt\n",
    "import matplotlib.pyplot as plt"
   ]
  },
  {
   "cell_type": "code",
   "execution_count": 25,
   "id": "7444f310",
   "metadata": {},
   "outputs": [],
   "source": [
    "%matplotlib inline"
   ]
  },
  {
   "cell_type": "markdown",
   "id": "4a9551b0",
   "metadata": {},
   "source": [
    "<p> Equação para encontrar magnitude de vento a 10m da superfície <br><b style='color:red'> U10 = Uz*(10/z)^1/7</b> </p>"
   ]
  },
  {
   "cell_type": "markdown",
   "id": "3a75101a",
   "metadata": {},
   "source": [
    "<p style='font-size:16px; color:black'> funções</p>"
   ]
  },
  {
   "cell_type": "code",
   "execution_count": 3,
   "id": "76657987",
   "metadata": {},
   "outputs": [],
   "source": [
    "def wind10m(wind, height):\n",
    "    \"\"\"\n",
    "    convete um dado de vento\n",
    "    para a altura de 10m\n",
    "    \"\"\"\n",
    "    w10 = wind*((10/height)**(1/7))\n",
    "    return w10"
   ]
  },
  {
   "cell_type": "markdown",
   "id": "8e467ff4",
   "metadata": {},
   "source": [
    "<p style=\"font-size:16px\"><h4>importando dados</h4>. \n",
    "<br>Aqui serão importados os dados da estação automatica do INMET, este equipamento localiza-se a 29.5m da superfície. Os dados são de velocidade media, rajada e direção.</p>"
   ]
  },
  {
   "cell_type": "code",
   "execution_count": 4,
   "id": "92a83e43",
   "metadata": {},
   "outputs": [],
   "source": [
    "path = '/home/gus/Documentos/mestrado/dados-mestrado/vento-inmet'"
   ]
  },
  {
   "cell_type": "code",
   "execution_count": 26,
   "id": "f48402b5",
   "metadata": {},
   "outputs": [],
   "source": [
    "df = pd.read_csv(path+'/vento_bruto.csv', delimiter=';')"
   ]
  },
  {
   "cell_type": "code",
   "execution_count": 27,
   "id": "a32eac52",
   "metadata": {},
   "outputs": [
    {
     "data": {
      "text/html": [
       "<div>\n",
       "<style scoped>\n",
       "    .dataframe tbody tr th:only-of-type {\n",
       "        vertical-align: middle;\n",
       "    }\n",
       "\n",
       "    .dataframe tbody tr th {\n",
       "        vertical-align: top;\n",
       "    }\n",
       "\n",
       "    .dataframe thead th {\n",
       "        text-align: right;\n",
       "    }\n",
       "</style>\n",
       "<table border=\"1\" class=\"dataframe\">\n",
       "  <thead>\n",
       "    <tr style=\"text-align: right;\">\n",
       "      <th></th>\n",
       "      <th>dates</th>\n",
       "      <th>hours</th>\n",
       "      <th>direction</th>\n",
       "      <th>wg</th>\n",
       "      <th>w</th>\n",
       "    </tr>\n",
       "  </thead>\n",
       "  <tbody>\n",
       "    <tr>\n",
       "      <th>0</th>\n",
       "      <td>2016-12-01</td>\n",
       "      <td>00:00:00</td>\n",
       "      <td>92.0</td>\n",
       "      <td>5.1</td>\n",
       "      <td>1.9</td>\n",
       "    </tr>\n",
       "    <tr>\n",
       "      <th>1</th>\n",
       "      <td>2016-12-01</td>\n",
       "      <td>01:00:00</td>\n",
       "      <td>86.0</td>\n",
       "      <td>5.8</td>\n",
       "      <td>2.5</td>\n",
       "    </tr>\n",
       "    <tr>\n",
       "      <th>2</th>\n",
       "      <td>2016-12-01</td>\n",
       "      <td>02:00:00</td>\n",
       "      <td>92.0</td>\n",
       "      <td>6.2</td>\n",
       "      <td>2.4</td>\n",
       "    </tr>\n",
       "    <tr>\n",
       "      <th>3</th>\n",
       "      <td>2016-12-01</td>\n",
       "      <td>03:00:00</td>\n",
       "      <td>87.0</td>\n",
       "      <td>7.0</td>\n",
       "      <td>2.4</td>\n",
       "    </tr>\n",
       "    <tr>\n",
       "      <th>4</th>\n",
       "      <td>2016-12-01</td>\n",
       "      <td>04:00:00</td>\n",
       "      <td>93.0</td>\n",
       "      <td>7.5</td>\n",
       "      <td>3.5</td>\n",
       "    </tr>\n",
       "  </tbody>\n",
       "</table>\n",
       "</div>"
      ],
      "text/plain": [
       "        dates     hours  direction   wg    w\n",
       "0  2016-12-01  00:00:00       92.0  5.1  1.9\n",
       "1  2016-12-01  01:00:00       86.0  5.8  2.5\n",
       "2  2016-12-01  02:00:00       92.0  6.2  2.4\n",
       "3  2016-12-01  03:00:00       87.0  7.0  2.4\n",
       "4  2016-12-01  04:00:00       93.0  7.5  3.5"
      ]
     },
     "execution_count": 27,
     "metadata": {},
     "output_type": "execute_result"
    }
   ],
   "source": [
    "df.head(5)"
   ]
  },
  {
   "cell_type": "markdown",
   "id": "2916ca81",
   "metadata": {},
   "source": [
    "<p style='font-size:20px; color:black'>Encontrando a quatidade de dados invalidos e validos</p>"
   ]
  },
  {
   "cell_type": "code",
   "execution_count": 28,
   "id": "855b6f74",
   "metadata": {},
   "outputs": [
    {
     "name": "stdout",
     "output_type": "stream",
     "text": [
      "dates         0\n",
      "hours         0\n",
      "direction    13\n",
      "wg           13\n",
      "w            13\n",
      "dtype: int64\n"
     ]
    }
   ],
   "source": [
    "print(df.isnull().sum())"
   ]
  },
  {
   "cell_type": "code",
   "execution_count": 29,
   "id": "9850182d",
   "metadata": {},
   "outputs": [
    {
     "data": {
      "text/plain": [
       "dates        9504\n",
       "hours        9504\n",
       "direction    9491\n",
       "wg           9491\n",
       "w            9491\n",
       "dtype: int64"
      ]
     },
     "execution_count": 29,
     "metadata": {},
     "output_type": "execute_result"
    }
   ],
   "source": [
    "df.notna().sum()"
   ]
  },
  {
   "cell_type": "markdown",
   "id": "00c7458a",
   "metadata": {},
   "source": [
    "<p style='font-size:20px; color:black'>transformando velocidade para 10m</p>"
   ]
  },
  {
   "cell_type": "code",
   "execution_count": 30,
   "id": "4a1c9264",
   "metadata": {},
   "outputs": [],
   "source": [
    "df.w = wind10m(df.w, 29.5)\n",
    "df.wg = wind10m(df.wg, 29.5)"
   ]
  },
  {
   "cell_type": "markdown",
   "id": "77fbfebc",
   "metadata": {},
   "source": [
    "<p style=\"font-size:16px\"> colocando o dado em matriz sem lacunas de tempo</p>"
   ]
  },
  {
   "cell_type": "code",
   "execution_count": 31,
   "id": "55a9d7f4",
   "metadata": {},
   "outputs": [],
   "source": [
    "time_str = df.dates +' '+df.hours\n",
    "\n",
    "# removendo valores duplicados\n",
    "time_str = np.unique(time_str).tolist()"
   ]
  },
  {
   "cell_type": "markdown",
   "id": "3a8c6ff0",
   "metadata": {},
   "source": [
    "<p style='font-size:20px; color:black'>rotacionando os dados e calculando as componentes <b>u</b> e <b>v</b></p>"
   ]
  },
  {
   "cell_type": "markdown",
   "id": "c201ba30",
   "metadata": {},
   "source": [
    "<p style='font-size:20px; color:black'>realocando os dados</p>"
   ]
  },
  {
   "cell_type": "code",
   "execution_count": 32,
   "id": "0620506d",
   "metadata": {},
   "outputs": [],
   "source": [
    "# tempo do anemometro\n",
    "time = [dt.datetime.strptime(date,'%Y-%m-%d %H:%M:%S')\n",
    "        for date in time_str]\n",
    "# del time_str"
   ]
  },
  {
   "cell_type": "code",
   "execution_count": 33,
   "id": "74b2888a",
   "metadata": {},
   "outputs": [],
   "source": [
    "# vetor de tempo sem lacunas\n",
    "time_full = pd.date_range(start='2016-12-01 00:00',\n",
    "                          end='2017-12-31 23:00', freq='1H')"
   ]
  },
  {
   "cell_type": "code",
   "execution_count": 34,
   "id": "92a63d6b",
   "metadata": {},
   "outputs": [
    {
     "name": "stdout",
     "output_type": "stream",
     "text": [
      "A base de dados possui lacunas temporais.\n",
      "Voce precisa realocar os dados em uma matriz sem lacunas de tempo!\n"
     ]
    }
   ],
   "source": [
    "if len(time_full) != len(time_str):\n",
    "    print('A base de dados possui lacunas temporais.')\n",
    "    print('Voce precisa realocar os dados em uma matriz sem lacunas de tempo!')"
   ]
  },
  {
   "cell_type": "code",
   "execution_count": 35,
   "id": "604e9bd4",
   "metadata": {},
   "outputs": [],
   "source": [
    "# removendo colunas inuteis no dataframe\n",
    "df.drop(['dates','hours'], axis=1, inplace=True)"
   ]
  },
  {
   "cell_type": "code",
   "execution_count": 36,
   "id": "5ffb2735",
   "metadata": {},
   "outputs": [
    {
     "data": {
      "text/html": [
       "<div>\n",
       "<style scoped>\n",
       "    .dataframe tbody tr th:only-of-type {\n",
       "        vertical-align: middle;\n",
       "    }\n",
       "\n",
       "    .dataframe tbody tr th {\n",
       "        vertical-align: top;\n",
       "    }\n",
       "\n",
       "    .dataframe thead th {\n",
       "        text-align: right;\n",
       "    }\n",
       "</style>\n",
       "<table border=\"1\" class=\"dataframe\">\n",
       "  <thead>\n",
       "    <tr style=\"text-align: right;\">\n",
       "      <th></th>\n",
       "      <th>direction</th>\n",
       "      <th>wg</th>\n",
       "      <th>w</th>\n",
       "    </tr>\n",
       "  </thead>\n",
       "  <tbody>\n",
       "    <tr>\n",
       "      <th>0</th>\n",
       "      <td>92.0</td>\n",
       "      <td>4.369711</td>\n",
       "      <td>1.627932</td>\n",
       "    </tr>\n",
       "    <tr>\n",
       "      <th>1</th>\n",
       "      <td>86.0</td>\n",
       "      <td>4.969476</td>\n",
       "      <td>2.142015</td>\n",
       "    </tr>\n",
       "    <tr>\n",
       "      <th>2</th>\n",
       "      <td>92.0</td>\n",
       "      <td>5.312198</td>\n",
       "      <td>2.056335</td>\n",
       "    </tr>\n",
       "  </tbody>\n",
       "</table>\n",
       "</div>"
      ],
      "text/plain": [
       "   direction        wg         w\n",
       "0       92.0  4.369711  1.627932\n",
       "1       86.0  4.969476  2.142015\n",
       "2       92.0  5.312198  2.056335"
      ]
     },
     "execution_count": 36,
     "metadata": {},
     "output_type": "execute_result"
    }
   ],
   "source": [
    "df.head(3)"
   ]
  },
  {
   "cell_type": "code",
   "execution_count": 37,
   "id": "0c3bd4fc",
   "metadata": {},
   "outputs": [],
   "source": [
    "rc = np.zeros([len(time_full), 3])\n",
    "rc.fill(np.NaN)"
   ]
  },
  {
   "cell_type": "code",
   "execution_count": 38,
   "id": "46fd756d",
   "metadata": {},
   "outputs": [
    {
     "data": {
      "text/plain": [
       "(9504, 3)"
      ]
     },
     "execution_count": 38,
     "metadata": {},
     "output_type": "execute_result"
    }
   ],
   "source": [
    "rc.shape"
   ]
  },
  {
   "cell_type": "code",
   "execution_count": 39,
   "id": "f2adb7c9",
   "metadata": {},
   "outputs": [
    {
     "data": {
      "text/plain": [
       "array([[nan, nan, nan],\n",
       "       [nan, nan, nan],\n",
       "       [nan, nan, nan],\n",
       "       ...,\n",
       "       [nan, nan, nan],\n",
       "       [nan, nan, nan],\n",
       "       [nan, nan, nan]])"
      ]
     },
     "execution_count": 39,
     "metadata": {},
     "output_type": "execute_result"
    }
   ],
   "source": [
    "rc"
   ]
  },
  {
   "cell_type": "code",
   "execution_count": 40,
   "id": "1751b538",
   "metadata": {},
   "outputs": [],
   "source": [
    "for line in range(len(time)):\n",
    "    \n",
    "    idx = np.where(time_full == time[line])\n",
    "    \n",
    "    idx = idx[0]\n",
    "    \n",
    "    rc[idx, 0] = df.iloc[line, 0]\n",
    "    rc[idx, 1] = df.iloc[line, 1]\n",
    "    rc[idx, 2] = df.iloc[line, 2]\n",
    "\n",
    "del line, idx\n"
   ]
  },
  {
   "cell_type": "markdown",
   "id": "d111f017",
   "metadata": {},
   "source": [
    "<p style='font-size:20px'>Agora os dados de vento foram alocados para uma matriz sem lacunas de tempo. Antes de salvar os dados eu irei colocar eles em um dataframe e adicionar uma coluna com os valores de tempo. </p>"
   ]
  },
  {
   "cell_type": "code",
   "execution_count": 41,
   "id": "a38591ed",
   "metadata": {},
   "outputs": [],
   "source": [
    "rc = pd.DataFrame(rc)\n",
    "rc.columns = ['direction', 'wg', 'w']"
   ]
  },
  {
   "cell_type": "code",
   "execution_count": 42,
   "id": "d6ae86ca",
   "metadata": {},
   "outputs": [],
   "source": [
    "# correcao para a direcao oceanografia\n",
    "#direction = df.direction + 180.0\n",
    "#direction[direction>360] = direction[direction>360]%360.0"
   ]
  },
  {
   "cell_type": "code",
   "execution_count": 43,
   "id": "1c134f30",
   "metadata": {},
   "outputs": [],
   "source": [
    "#rc['direction'] = direction\n",
    "#del direction"
   ]
  },
  {
   "cell_type": "code",
   "execution_count": 44,
   "id": "9556f4fc",
   "metadata": {},
   "outputs": [],
   "source": [
    "rc['time'] = time_full"
   ]
  },
  {
   "cell_type": "code",
   "execution_count": 45,
   "id": "e25d645a",
   "metadata": {},
   "outputs": [
    {
     "data": {
      "text/html": [
       "<div>\n",
       "<style scoped>\n",
       "    .dataframe tbody tr th:only-of-type {\n",
       "        vertical-align: middle;\n",
       "    }\n",
       "\n",
       "    .dataframe tbody tr th {\n",
       "        vertical-align: top;\n",
       "    }\n",
       "\n",
       "    .dataframe thead th {\n",
       "        text-align: right;\n",
       "    }\n",
       "</style>\n",
       "<table border=\"1\" class=\"dataframe\">\n",
       "  <thead>\n",
       "    <tr style=\"text-align: right;\">\n",
       "      <th></th>\n",
       "      <th>direction</th>\n",
       "      <th>wg</th>\n",
       "      <th>w</th>\n",
       "      <th>time</th>\n",
       "    </tr>\n",
       "  </thead>\n",
       "  <tbody>\n",
       "    <tr>\n",
       "      <th>0</th>\n",
       "      <td>92.0</td>\n",
       "      <td>4.369711</td>\n",
       "      <td>1.627932</td>\n",
       "      <td>2016-12-01 00:00:00</td>\n",
       "    </tr>\n",
       "    <tr>\n",
       "      <th>1</th>\n",
       "      <td>86.0</td>\n",
       "      <td>4.969476</td>\n",
       "      <td>2.142015</td>\n",
       "      <td>2016-12-01 01:00:00</td>\n",
       "    </tr>\n",
       "    <tr>\n",
       "      <th>2</th>\n",
       "      <td>92.0</td>\n",
       "      <td>5.312198</td>\n",
       "      <td>2.056335</td>\n",
       "      <td>2016-12-01 02:00:00</td>\n",
       "    </tr>\n",
       "    <tr>\n",
       "      <th>3</th>\n",
       "      <td>87.0</td>\n",
       "      <td>5.997643</td>\n",
       "      <td>2.056335</td>\n",
       "      <td>2016-12-01 03:00:00</td>\n",
       "    </tr>\n",
       "    <tr>\n",
       "      <th>4</th>\n",
       "      <td>93.0</td>\n",
       "      <td>6.426046</td>\n",
       "      <td>2.998821</td>\n",
       "      <td>2016-12-01 04:00:00</td>\n",
       "    </tr>\n",
       "  </tbody>\n",
       "</table>\n",
       "</div>"
      ],
      "text/plain": [
       "   direction        wg         w                time\n",
       "0       92.0  4.369711  1.627932 2016-12-01 00:00:00\n",
       "1       86.0  4.969476  2.142015 2016-12-01 01:00:00\n",
       "2       92.0  5.312198  2.056335 2016-12-01 02:00:00\n",
       "3       87.0  5.997643  2.056335 2016-12-01 03:00:00\n",
       "4       93.0  6.426046  2.998821 2016-12-01 04:00:00"
      ]
     },
     "execution_count": 45,
     "metadata": {},
     "output_type": "execute_result"
    }
   ],
   "source": [
    "rc.head()"
   ]
  },
  {
   "cell_type": "markdown",
   "id": "3de54a98",
   "metadata": {},
   "source": [
    "<p style='font-size:16px'> Salvando os dados</p>"
   ]
  },
  {
   "cell_type": "code",
   "execution_count": 46,
   "id": "adeeeabd",
   "metadata": {},
   "outputs": [],
   "source": [
    "rc.to_csv('/home/gus/Documentos/mestrado/dados-mestrado/'+\n",
    "          'vento-inmet/vento_limpo.csv',sep=';', index = False)"
   ]
  },
  {
   "cell_type": "code",
   "execution_count": null,
   "id": "4cc90fe4",
   "metadata": {},
   "outputs": [],
   "source": []
  }
 ],
 "metadata": {
  "kernelspec": {
   "display_name": "Python 3 (ipykernel)",
   "language": "python",
   "name": "python3"
  },
  "language_info": {
   "codemirror_mode": {
    "name": "ipython",
    "version": 3
   },
   "file_extension": ".py",
   "mimetype": "text/x-python",
   "name": "python",
   "nbconvert_exporter": "python",
   "pygments_lexer": "ipython3",
   "version": "3.8.5"
  }
 },
 "nbformat": 4,
 "nbformat_minor": 5
}
