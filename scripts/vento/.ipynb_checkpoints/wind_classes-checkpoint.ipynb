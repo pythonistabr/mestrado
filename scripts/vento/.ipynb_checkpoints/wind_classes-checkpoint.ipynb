{
 "cells": [
  {
   "cell_type": "code",
   "execution_count": 1,
   "id": "c12e51d0",
   "metadata": {},
   "outputs": [
    {
     "name": "stdout",
     "output_type": "stream",
     "text": [
      "/home/gus/Documentos/mestrado/dados-mestrado/vento-inmet\n"
     ]
    }
   ],
   "source": [
    "cd '/home/gus/Documentos/mestrado/dados-mestrado/vento-inmet'"
   ]
  },
  {
   "cell_type": "code",
   "execution_count": 2,
   "id": "46edfa65",
   "metadata": {},
   "outputs": [
    {
     "name": "stdout",
     "output_type": "stream",
     "text": [
      "dados_header.csv\t\t    vento_bruto.csv\r\n",
      "frequencia_direcao.csv\t\t    vento_limpo.csv\r\n",
      "frequencia_direcao_e_magnitude.csv  vento_medias_mensais.csv\r\n",
      "frequencia_magnitude.csv\t    vento_rotacionado.csv\r\n",
      "frequencia_rajada.csv\t\t    vento_std_mensal.csv\r\n",
      "valores_ventos_mensais_.ods\r\n"
     ]
    }
   ],
   "source": [
    "!ls"
   ]
  },
  {
   "cell_type": "code",
   "execution_count": 3,
   "id": "c5fbfcab",
   "metadata": {},
   "outputs": [],
   "source": [
    "import pandas as pd\n",
    "import numpy as np\n",
    "import matplotlib.pyplot as plt\n",
    "import datetime as dt\n",
    "#import matplotlib.dates as mdates\n",
    "#from windrose import WindroseAxes"
   ]
  },
  {
   "cell_type": "markdown",
   "id": "0bb17c6b",
   "metadata": {},
   "source": [
    "<h2> Quadrante </h2>\n",
    "<p>Graus (º)</p>\n",
    "<p>Norte 337º a 360º e 0º a 22º</p>\n",
    "<p>NE 23º a 67º</p>\n",
    "<p>Leste 68º a 112º</p>\n",
    "<p>SE 113º a 157º</p>\n",
    "<p>Sul 158º a 202º</p>\n",
    "<p>SW 203º a 247º</p>\n",
    "<p>Oeste 248º a 292º</p>\n",
    "<p>NW 293º a 337º</p>"
   ]
  },
  {
   "cell_type": "code",
   "execution_count": 4,
   "id": "cdb2052a",
   "metadata": {},
   "outputs": [],
   "source": [
    "df = pd.read_csv('vento_limpo.csv', delimiter=';',\n",
    "                 na_values = -99999.0)"
   ]
  },
  {
   "cell_type": "code",
   "execution_count": 5,
   "id": "bb6d9b7b",
   "metadata": {},
   "outputs": [],
   "source": [
    "df.dropna(inplace=True)"
   ]
  },
  {
   "cell_type": "code",
   "execution_count": 6,
   "id": "9a54bedb",
   "metadata": {},
   "outputs": [
    {
     "data": {
      "text/html": [
       "<div>\n",
       "<style scoped>\n",
       "    .dataframe tbody tr th:only-of-type {\n",
       "        vertical-align: middle;\n",
       "    }\n",
       "\n",
       "    .dataframe tbody tr th {\n",
       "        vertical-align: top;\n",
       "    }\n",
       "\n",
       "    .dataframe thead th {\n",
       "        text-align: right;\n",
       "    }\n",
       "</style>\n",
       "<table border=\"1\" class=\"dataframe\">\n",
       "  <thead>\n",
       "    <tr style=\"text-align: right;\">\n",
       "      <th></th>\n",
       "      <th>direction</th>\n",
       "      <th>wg</th>\n",
       "      <th>w</th>\n",
       "      <th>time</th>\n",
       "    </tr>\n",
       "  </thead>\n",
       "  <tbody>\n",
       "    <tr>\n",
       "      <th>0</th>\n",
       "      <td>92.0</td>\n",
       "      <td>4.369711</td>\n",
       "      <td>1.627932</td>\n",
       "      <td>2016-12-01 00:00:00</td>\n",
       "    </tr>\n",
       "    <tr>\n",
       "      <th>1</th>\n",
       "      <td>86.0</td>\n",
       "      <td>4.969476</td>\n",
       "      <td>2.142015</td>\n",
       "      <td>2016-12-01 01:00:00</td>\n",
       "    </tr>\n",
       "    <tr>\n",
       "      <th>2</th>\n",
       "      <td>92.0</td>\n",
       "      <td>5.312198</td>\n",
       "      <td>2.056335</td>\n",
       "      <td>2016-12-01 02:00:00</td>\n",
       "    </tr>\n",
       "    <tr>\n",
       "      <th>3</th>\n",
       "      <td>87.0</td>\n",
       "      <td>5.997643</td>\n",
       "      <td>2.056335</td>\n",
       "      <td>2016-12-01 03:00:00</td>\n",
       "    </tr>\n",
       "    <tr>\n",
       "      <th>4</th>\n",
       "      <td>93.0</td>\n",
       "      <td>6.426046</td>\n",
       "      <td>2.998821</td>\n",
       "      <td>2016-12-01 04:00:00</td>\n",
       "    </tr>\n",
       "  </tbody>\n",
       "</table>\n",
       "</div>"
      ],
      "text/plain": [
       "   direction        wg         w                 time\n",
       "0       92.0  4.369711  1.627932  2016-12-01 00:00:00\n",
       "1       86.0  4.969476  2.142015  2016-12-01 01:00:00\n",
       "2       92.0  5.312198  2.056335  2016-12-01 02:00:00\n",
       "3       87.0  5.997643  2.056335  2016-12-01 03:00:00\n",
       "4       93.0  6.426046  2.998821  2016-12-01 04:00:00"
      ]
     },
     "execution_count": 6,
     "metadata": {},
     "output_type": "execute_result"
    }
   ],
   "source": [
    "df.head()"
   ]
  },
  {
   "cell_type": "code",
   "execution_count": 7,
   "id": "8518e369",
   "metadata": {},
   "outputs": [],
   "source": [
    "# convertendo string para datetime\n",
    "time = [dt.datetime.strptime(ii, \"%Y-%m-%d %H:%M:%S\") for ii in df.time]"
   ]
  },
  {
   "cell_type": "code",
   "execution_count": 8,
   "id": "a1c205f8",
   "metadata": {},
   "outputs": [],
   "source": [
    "df.time = time\n",
    "del time"
   ]
  },
  {
   "cell_type": "code",
   "execution_count": 9,
   "id": "c656cd92",
   "metadata": {},
   "outputs": [],
   "source": [
    "df['year'] = df.time.dt.year\n",
    "df['month'] = df.time.dt.month"
   ]
  },
  {
   "cell_type": "markdown",
   "id": "97b34bb0",
   "metadata": {},
   "source": [
    "### agrupando os dados em classes"
   ]
  },
  {
   "cell_type": "markdown",
   "id": "758a2d11",
   "metadata": {},
   "source": [
    "##### direção"
   ]
  },
  {
   "cell_type": "code",
   "execution_count": 10,
   "id": "aeba0236",
   "metadata": {},
   "outputs": [],
   "source": [
    "octante = []\n",
    "for linha in range(8699):\n",
    "\n",
    "    if 0<= df.iloc[linha, 0] < 23:\n",
    "        octante.append(\"N\")\n",
    "\n",
    "    elif 23 <= df.iloc[linha, 0] < 67:\n",
    "        octante.append(\"NE\")\n",
    "\n",
    "    elif 67 <= df.iloc[linha, 0] < 112:\n",
    "        octante.append(\"E\")\n",
    "\n",
    "    elif 112 <= df.iloc[linha, 0] < 157:\n",
    "        octante.append(\"SE\")\n",
    "\n",
    "    elif 157<= df.iloc[linha, 0] < 202:\n",
    "        octante.append(\"S\")\n",
    "\n",
    "    elif 202<= df.iloc[linha, 0] < 247:\n",
    "        octante.append(\"SW\")\n",
    "\n",
    "    elif 247 <= df.iloc[linha, 0] < 292:\n",
    "        octante.append(\"W\")\n",
    "\n",
    "    elif 292 <= df.iloc[linha, 0] < 337:\n",
    "        octante.append(\"NW\")\n",
    "    elif 337<=df.iloc[linha,0]<= 360:\n",
    "        octante.append(\"N\")\n"
   ]
  },
  {
   "cell_type": "markdown",
   "id": "e7d403c4",
   "metadata": {},
   "source": [
    "##### rajada"
   ]
  },
  {
   "cell_type": "code",
   "execution_count": 11,
   "id": "6799214b",
   "metadata": {},
   "outputs": [],
   "source": [
    "gust_class = []\n",
    "\n",
    "for linha in range(8699):\n",
    "\n",
    "    if 0 <= df.iloc[linha, 1] <= 2:\n",
    "        gust_class.append(\"0-2\")\n",
    "\n",
    "    elif 2 < df.iloc[linha, 1] <= 4:\n",
    "        gust_class.append(\"2-4\")\n",
    "\n",
    "    elif 4 < df.iloc[linha, 1] <= 6:\n",
    "        gust_class.append(\"4-6\")\n",
    "\n",
    "    elif 6 < df.iloc[linha, 1] <= 8:\n",
    "        gust_class.append(\"6-8\")\n",
    "    \n",
    "    elif 8 < df.iloc[linha, 1] <= 10:\n",
    "        gust_class.append(\"8-10\")\n",
    "        \n",
    "    elif 10 < df.iloc[linha, 1] <= 12:\n",
    "        gust_class.append(\"10-12\")\n",
    "        \n",
    "    elif 12 < df.iloc[linha, 1] <= 14:\n",
    "        gust_class.append(\"12-14\")\n",
    "        \n",
    "    elif 14 < df.iloc[linha, 1]:\n",
    "        gust_class.append(\"+14\")  \n",
    "        \n"
   ]
  },
  {
   "cell_type": "code",
   "execution_count": 12,
   "id": "c73667a7",
   "metadata": {},
   "outputs": [],
   "source": [
    "interval = []\n",
    "\n",
    "for linha in range(8699):\n",
    "\n",
    "    if 0 <= df.iloc[linha, 2] <= 2:\n",
    "        interval.append(\"0-2\")\n",
    "\n",
    "    elif 2 < df.iloc[linha, 2] <= 4:\n",
    "        interval.append(\"2-4\")\n",
    "\n",
    "    elif 4 < df.iloc[linha, 2] <= 6:\n",
    "        interval.append(\"4-6\")\n",
    "\n",
    "    elif 6 < df.iloc[linha, 2] <= 8:\n",
    "        interval.append(\"6-8\")\n",
    "    else:\n",
    "        interval.append(\"8+\")"
   ]
  },
  {
   "cell_type": "code",
   "execution_count": 13,
   "id": "4b0b1552",
   "metadata": {},
   "outputs": [],
   "source": [
    "rc = pd.DataFrame({\"octante\":octante, \"intervalo_vento\": interval,\n",
    "                   'intervalo_rajada': gust_class})"
   ]
  },
  {
   "cell_type": "code",
   "execution_count": 14,
   "id": "3a6c5de0",
   "metadata": {},
   "outputs": [],
   "source": [
    "rc['year'] = df.time.dt.year.copy()\n",
    "rc['month'] = df.time.dt.month.copy()"
   ]
  },
  {
   "cell_type": "markdown",
   "id": "5a0831f8",
   "metadata": {},
   "source": [
    "### frequncia total"
   ]
  },
  {
   "cell_type": "code",
   "execution_count": 15,
   "id": "532aa77a",
   "metadata": {},
   "outputs": [
    {
     "data": {
      "text/plain": [
       "6-8      0.286010\n",
       "4-6      0.275204\n",
       "2-4      0.166571\n",
       "8-10     0.150017\n",
       "0-2      0.098057\n",
       "10-12    0.022991\n",
       "12-14    0.001150\n",
       "Name: intervalo_rajada, dtype: float64"
      ]
     },
     "execution_count": 15,
     "metadata": {},
     "output_type": "execute_result"
    }
   ],
   "source": [
    "rc.intervalo_rajada.value_counts()/rc.intervalo_rajada.value_counts().sum()"
   ]
  },
  {
   "cell_type": "code",
   "execution_count": 16,
   "id": "2c3a8eea",
   "metadata": {},
   "outputs": [
    {
     "data": {
      "text/plain": [
       "2-4    0.476836\n",
       "0-2    0.474537\n",
       "4-6    0.048626\n",
       "Name: intervalo_vento, dtype: float64"
      ]
     },
     "execution_count": 16,
     "metadata": {},
     "output_type": "execute_result"
    }
   ],
   "source": [
    "rc.intervalo_vento.value_counts()/rc.intervalo_vento.value_counts().sum()"
   ]
  },
  {
   "cell_type": "code",
   "execution_count": 17,
   "id": "37aa7d73",
   "metadata": {
    "scrolled": true
   },
   "outputs": [
    {
     "data": {
      "text/plain": [
       "E     0.494080\n",
       "SE    0.257386\n",
       "S     0.198644\n",
       "SW    0.020117\n",
       "NE    0.018738\n",
       "NW    0.004598\n",
       "W     0.004023\n",
       "N     0.002414\n",
       "Name: octante, dtype: float64"
      ]
     },
     "execution_count": 17,
     "metadata": {},
     "output_type": "execute_result"
    }
   ],
   "source": [
    "rc.octante.value_counts()/rc.octante.value_counts().sum()"
   ]
  },
  {
   "cell_type": "markdown",
   "id": "a92e38e0",
   "metadata": {},
   "source": [
    "### frequencia chuvoso"
   ]
  },
  {
   "cell_type": "code",
   "execution_count": 18,
   "id": "b4fadb4d",
   "metadata": {},
   "outputs": [],
   "source": [
    "rc_chuvoso = rc.loc[(rc.month>=3)&\\\n",
    "                     (rc.month<=5),:].copy()"
   ]
  },
  {
   "cell_type": "code",
   "execution_count": 19,
   "id": "117bd682",
   "metadata": {},
   "outputs": [
    {
     "data": {
      "text/plain": [
       "E     0.354136\n",
       "S     0.293710\n",
       "SE    0.232789\n",
       "SW    0.054978\n",
       "NE    0.033185\n",
       "NW    0.013868\n",
       "W     0.010896\n",
       "N     0.006439\n",
       "Name: octante, dtype: float64"
      ]
     },
     "execution_count": 19,
     "metadata": {},
     "output_type": "execute_result"
    }
   ],
   "source": [
    "rc_chuvoso.octante.value_counts()/rc_chuvoso.octante.value_counts().sum()"
   ]
  },
  {
   "cell_type": "code",
   "execution_count": 20,
   "id": "1f03e52a",
   "metadata": {},
   "outputs": [
    {
     "data": {
      "text/plain": [
       "0-2    0.725607\n",
       "2-4    0.269936\n",
       "4-6    0.004458\n",
       "Name: intervalo_vento, dtype: float64"
      ]
     },
     "execution_count": 20,
     "metadata": {},
     "output_type": "execute_result"
    }
   ],
   "source": [
    "rc_chuvoso.intervalo_vento.value_counts()/rc_chuvoso.intervalo_vento.value_counts().sum()"
   ]
  },
  {
   "cell_type": "code",
   "execution_count": 21,
   "id": "4949f146",
   "metadata": {},
   "outputs": [
    {
     "data": {
      "text/plain": [
       "2-4     0.283804\n",
       "0-2     0.251114\n",
       "4-6     0.239227\n",
       "6-8     0.191184\n",
       "8-10    0.034671\n",
       "Name: intervalo_rajada, dtype: float64"
      ]
     },
     "execution_count": 21,
     "metadata": {},
     "output_type": "execute_result"
    }
   ],
   "source": [
    "rc_chuvoso.intervalo_rajada.value_counts()/rc_chuvoso.intervalo_rajada.value_counts().sum()"
   ]
  },
  {
   "cell_type": "markdown",
   "id": "e44adfa8",
   "metadata": {},
   "source": [
    "### frequencia seco"
   ]
  },
  {
   "cell_type": "code",
   "execution_count": 22,
   "id": "dc643851",
   "metadata": {},
   "outputs": [],
   "source": [
    "rc_seco = rc.loc[(rc.month>=8)&\\\n",
    "                     (rc.month<=10),:].copy()"
   ]
  },
  {
   "cell_type": "code",
   "execution_count": 23,
   "id": "51e85d90",
   "metadata": {},
   "outputs": [
    {
     "data": {
      "text/plain": [
       "E     0.549901\n",
       "SE    0.367095\n",
       "S     0.082510\n",
       "NE    0.000494\n",
       "Name: octante, dtype: float64"
      ]
     },
     "execution_count": 23,
     "metadata": {},
     "output_type": "execute_result"
    }
   ],
   "source": [
    "rc_seco.octante.value_counts()/rc_seco.octante.value_counts().sum()"
   ]
  },
  {
   "cell_type": "code",
   "execution_count": 24,
   "id": "3e30a5e1",
   "metadata": {},
   "outputs": [
    {
     "data": {
      "text/plain": [
       "2-4    0.667984\n",
       "0-2    0.195652\n",
       "4-6    0.136364\n",
       "Name: intervalo_vento, dtype: float64"
      ]
     },
     "execution_count": 24,
     "metadata": {},
     "output_type": "execute_result"
    }
   ],
   "source": [
    "rc_seco.intervalo_vento.value_counts()/rc_seco.intervalo_vento.value_counts().sum()"
   ]
  },
  {
   "cell_type": "code",
   "execution_count": 25,
   "id": "3837fd5c",
   "metadata": {},
   "outputs": [
    {
     "data": {
      "text/plain": [
       "6-8      0.348320\n",
       "8-10     0.320652\n",
       "4-6      0.199111\n",
       "10-12    0.070158\n",
       "2-4      0.050889\n",
       "0-2      0.006423\n",
       "12-14    0.004447\n",
       "Name: intervalo_rajada, dtype: float64"
      ]
     },
     "execution_count": 25,
     "metadata": {},
     "output_type": "execute_result"
    }
   ],
   "source": [
    "rc_seco.intervalo_rajada.value_counts()/rc_seco.intervalo_rajada.value_counts().sum()"
   ]
  }
 ],
 "metadata": {
  "kernelspec": {
   "display_name": "Python 3 (ipykernel)",
   "language": "python",
   "name": "python3"
  },
  "language_info": {
   "codemirror_mode": {
    "name": "ipython",
    "version": 3
   },
   "file_extension": ".py",
   "mimetype": "text/x-python",
   "name": "python",
   "nbconvert_exporter": "python",
   "pygments_lexer": "ipython3",
   "version": "3.8.5"
  }
 },
 "nbformat": 4,
 "nbformat_minor": 5
}
