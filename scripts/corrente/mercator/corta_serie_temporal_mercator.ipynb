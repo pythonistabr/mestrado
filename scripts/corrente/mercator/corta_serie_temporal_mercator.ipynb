{
 "cells": [
  {
   "cell_type": "markdown",
   "id": "0c27efc5",
   "metadata": {},
   "source": [
    "<h2> rotina para cortar os dados do mercator e ajustar ao mesmo intervalo te tempo da boia</h2>"
   ]
  },
  {
   "cell_type": "code",
   "execution_count": 17,
   "id": "f50436ef",
   "metadata": {},
   "outputs": [],
   "source": [
    "import numpy as np\n",
    "import pandas as pd\n",
    "import matplotlib.pyplot as plt\n",
    "from datetime import datetime as dt"
   ]
  },
  {
   "cell_type": "code",
   "execution_count": 18,
   "id": "df339bf3",
   "metadata": {},
   "outputs": [
    {
     "name": "stdout",
     "output_type": "stream",
     "text": [
      "/home/gus/Documentos/mestrado/dados-mestrado/dados-mercator\n"
     ]
    }
   ],
   "source": [
    "cd '/home/gus/Documentos/mestrado/dados-mestrado/dados-mercator'"
   ]
  },
  {
   "cell_type": "code",
   "execution_count": 19,
   "id": "ffd51bef",
   "metadata": {},
   "outputs": [
    {
     "name": "stdout",
     "output_type": "stream",
     "text": [
      "coordenadas_mercator.csv\t   mercator_validacao.nc\r\n",
      "mercator_dado_validacao.nc\t   MercatorZonal1.csv\r\n",
      "MercatorMeridional1.csv\t\t   mercator_zonal_2011a2019.csv\r\n",
      "mercator_meridional_2011a2019.csv  mercator_zonal_2016a2017.csv\r\n",
      "mercator_meridional_2016a2017.csv  MercatorZonal2.csv\r\n",
      "MercatorMeridional2.csv\t\t   mercator_zonal_ajustado.csv\r\n",
      "mercator_meridional_ajustado.csv\r\n"
     ]
    }
   ],
   "source": [
    "!ls"
   ]
  },
  {
   "cell_type": "code",
   "execution_count": 20,
   "id": "22a6519e",
   "metadata": {},
   "outputs": [],
   "source": [
    "dfu = pd.read_csv('mercator_zonal_2016a2017.csv',delimiter=';')\n",
    "dfv = pd.read_csv('mercator_meridional_2016a2017.csv',delimiter=';')"
   ]
  },
  {
   "cell_type": "code",
   "execution_count": 21,
   "id": "ec51c79d",
   "metadata": {},
   "outputs": [],
   "source": [
    "time = [dt.strptime(ii,'%Y-%m-%d %H:%M:%S') for ii in dfu.loc[:,'time']]\n",
    "time2 = np.array(time)"
   ]
  },
  {
   "cell_type": "code",
   "execution_count": 22,
   "id": "09f0fb60",
   "metadata": {},
   "outputs": [],
   "source": [
    "dfu.drop(['time'],inplace=True,axis=1)\n",
    "dfv.drop(['time'],inplace=True,axis=1)"
   ]
  },
  {
   "cell_type": "code",
   "execution_count": 23,
   "id": "25244ea0",
   "metadata": {},
   "outputs": [
    {
     "data": {
      "text/plain": [
       "Index(['8m', '16m', '32m', '40m'], dtype='object')"
      ]
     },
     "execution_count": 23,
     "metadata": {},
     "output_type": "execute_result"
    }
   ],
   "source": [
    "dfu.columns"
   ]
  },
  {
   "cell_type": "markdown",
   "id": "93dcbbf7",
   "metadata": {},
   "source": [
    "### cortando os dados do mercatos"
   ]
  },
  {
   "cell_type": "code",
   "execution_count": 24,
   "id": "75aba95c",
   "metadata": {},
   "outputs": [],
   "source": [
    "limInferior = dt.strptime('2016-11-19 02:00','%Y-%m-%d %H:%M')\n",
    "limSuperior = dt.strptime('2017-09-19 08:00','%Y-%m-%d %H:%M')"
   ]
  },
  {
   "cell_type": "code",
   "execution_count": 25,
   "id": "da9eedfc",
   "metadata": {},
   "outputs": [],
   "source": [
    "condtime = ((limInferior <= time2) & (time2<= limSuperior))"
   ]
  },
  {
   "cell_type": "code",
   "execution_count": 26,
   "id": "bc235001",
   "metadata": {},
   "outputs": [],
   "source": [
    "dfu_cortado = dfu.iloc[condtime,:].copy()\n",
    "dfv_cortado = dfv.iloc[condtime,:].copy()"
   ]
  },
  {
   "cell_type": "code",
   "execution_count": 27,
   "id": "22e31d53",
   "metadata": {},
   "outputs": [],
   "source": [
    "dfu_cortado['time'] = time2[condtime];\n",
    "dfv_cortado['time'] = time2[condtime];"
   ]
  },
  {
   "cell_type": "code",
   "execution_count": 28,
   "id": "2d25a085",
   "metadata": {},
   "outputs": [],
   "source": [
    "dfu_cortado.to_csv('mercator_zonal_ajustado.csv',sep=';',index=False)\n",
    "dfv_cortado.to_csv('mercator_meridional_ajustado.csv',sep=';',index=False)"
   ]
  },
  {
   "cell_type": "markdown",
   "id": "33eb6666",
   "metadata": {},
   "source": [
    "### Separando os dados em duas series"
   ]
  },
  {
   "cell_type": "code",
   "execution_count": 29,
   "id": "3eec72b8",
   "metadata": {},
   "outputs": [],
   "source": [
    "limInferior1 = dt.strptime('2016-11-19 06:00:00', \"%Y-%m-%d %H:%M:%S\")\n",
    "limSuperior1 = dt.strptime('2017-04-14 12:00:00', \"%Y-%m-%d %H:%M:%S\")\n",
    "\n",
    "limInferior2 = dt.strptime('2017-06-16 09:00:00', \"%Y-%m-%d %H:%M:%S\")\n",
    "limSuperior2 = dt.strptime('2017-09-07 02:00:00', \"%Y-%m-%d %H:%M:%S\")"
   ]
  },
  {
   "cell_type": "code",
   "execution_count": 30,
   "id": "869d5afa",
   "metadata": {},
   "outputs": [],
   "source": [
    "condtime1 = ((limInferior1 <= dfu_cortado.time) & (dfu_cortado.time <= limSuperior1))\n",
    "condtime2 = ((limInferior2 <= dfu_cortado.time) & (dfu_cortado.time <= limSuperior2))"
   ]
  },
  {
   "cell_type": "code",
   "execution_count": 31,
   "id": "8125393b",
   "metadata": {},
   "outputs": [],
   "source": [
    "mercatorZonal1 = dfu_cortado.loc[condtime1, :]\n",
    "mercatorZonal2 = dfu_cortado.loc[condtime2, :]\n",
    "\n",
    "\n",
    "mercatorMeridional1 = dfv_cortado.loc[condtime1, :]\n",
    "mercatorMeridional2 = dfv_cortado.loc[condtime2, :]"
   ]
  },
  {
   "cell_type": "code",
   "execution_count": 32,
   "id": "296cb7a4",
   "metadata": {},
   "outputs": [],
   "source": [
    "mercatorZonal1.to_csv('MercatorZonal1.csv', sep=';',index= False)\n",
    "mercatorZonal2.to_csv('MercatorZonal2.csv', sep=';',index= False)\n",
    "\n",
    "\n",
    "mercatorMeridional1.to_csv('MercatorMeridional1.csv', sep=';',index= False)\n",
    "mercatorMeridional2.to_csv('MercatorMeridional2.csv', sep=';',index= False)"
   ]
  },
  {
   "cell_type": "markdown",
   "id": "e99177df",
   "metadata": {},
   "source": [
    "### FIM"
   ]
  }
 ],
 "metadata": {
  "kernelspec": {
   "display_name": "Python 3 (ipykernel)",
   "language": "python",
   "name": "python3"
  },
  "language_info": {
   "codemirror_mode": {
    "name": "ipython",
    "version": 3
   },
   "file_extension": ".py",
   "mimetype": "text/x-python",
   "name": "python",
   "nbconvert_exporter": "python",
   "pygments_lexer": "ipython3",
   "version": "3.8.5"
  }
 },
 "nbformat": 4,
 "nbformat_minor": 5
}
