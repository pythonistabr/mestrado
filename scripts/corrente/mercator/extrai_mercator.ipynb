{
 "cells": [
  {
   "cell_type": "markdown",
   "id": "7a5c65c0",
   "metadata": {},
   "source": [
    "## lendo os dados do hycom"
   ]
  },
  {
   "cell_type": "code",
   "execution_count": 88,
   "id": "700025fb",
   "metadata": {},
   "outputs": [],
   "source": [
    "import numpy as np\n",
    "import pandas as pd\n",
    "from glob import glob\n",
    "from netCDF4 import Dataset"
   ]
  },
  {
   "cell_type": "code",
   "execution_count": 89,
   "id": "0c452609",
   "metadata": {},
   "outputs": [
    {
     "name": "stdout",
     "output_type": "stream",
     "text": [
      "/home/gus/Documentos/mestrado/dados-mestrado/dados-mercator\n"
     ]
    }
   ],
   "source": [
    "cd '/home/gus/Documentos/mestrado/dados-mestrado/dados-mercator'"
   ]
  },
  {
   "cell_type": "code",
   "execution_count": 90,
   "id": "9d34741c",
   "metadata": {},
   "outputs": [],
   "source": [
    "#reading data\n",
    "data = Dataset('mercator_dado_validacao.nc')"
   ]
  },
  {
   "cell_type": "code",
   "execution_count": 91,
   "id": "547173ed",
   "metadata": {},
   "outputs": [
    {
     "data": {
      "text/plain": [
       "{'time': <class 'netCDF4._netCDF4.Dimension'>: name = 'time', size = 293,\n",
       " 'depth': <class 'netCDF4._netCDF4.Dimension'>: name = 'depth', size = 19,\n",
       " 'latitude': <class 'netCDF4._netCDF4.Dimension'>: name = 'latitude', size = 37,\n",
       " 'longitude': <class 'netCDF4._netCDF4.Dimension'>: name = 'longitude', size = 37}"
      ]
     },
     "execution_count": 91,
     "metadata": {},
     "output_type": "execute_result"
    }
   ],
   "source": [
    "data.dimensions"
   ]
  },
  {
   "cell_type": "code",
   "execution_count": 92,
   "id": "98c571ff",
   "metadata": {},
   "outputs": [
    {
     "data": {
      "text/plain": [
       "{'depth': <class 'netCDF4._netCDF4.Variable'>\n",
       " float32 depth(depth)\n",
       "     valid_min: 0.494025\n",
       "     valid_max: 55.76429\n",
       "     units: m\n",
       "     positive: down\n",
       "     unit_long: Meters\n",
       "     long_name: Depth\n",
       "     standard_name: depth\n",
       "     axis: Z\n",
       "     _ChunkSizes: 50\n",
       "     _CoordinateAxisType: Height\n",
       "     _CoordinateZisPositive: down\n",
       " unlimited dimensions: \n",
       " current shape = (19,)\n",
       " filling on, default _FillValue of 9.969209968386869e+36 used,\n",
       " 'latitude': <class 'netCDF4._netCDF4.Variable'>\n",
       " float32 latitude(latitude)\n",
       "     valid_min: -5.0\n",
       "     valid_max: -2.0\n",
       "     step: 0.08333588\n",
       "     units: degrees_north\n",
       "     unit_long: Degrees North\n",
       "     long_name: Latitude\n",
       "     standard_name: latitude\n",
       "     axis: Y\n",
       "     _ChunkSizes: 2041\n",
       "     _CoordinateAxisType: Lat\n",
       " unlimited dimensions: \n",
       " current shape = (37,)\n",
       " filling on, default _FillValue of 9.969209968386869e+36 used,\n",
       " 'vo': <class 'netCDF4._netCDF4.Variable'>\n",
       " int16 vo(time, depth, latitude, longitude)\n",
       "     long_name: Northward velocity\n",
       "     standard_name: northward_sea_water_velocity\n",
       "     units: m s-1\n",
       "     unit_long: Meters per second\n",
       "     _FillValue: -32767\n",
       "     add_offset: 0.0\n",
       "     scale_factor: 0.0006103701889514923\n",
       "     cell_methods: area: mean\n",
       "     _ChunkSizes: [  1   7 341 720]\n",
       " unlimited dimensions: \n",
       " current shape = (293, 19, 37, 37)\n",
       " filling on,\n",
       " 'uo': <class 'netCDF4._netCDF4.Variable'>\n",
       " int16 uo(time, depth, latitude, longitude)\n",
       "     long_name: Eastward velocity\n",
       "     standard_name: eastward_sea_water_velocity\n",
       "     units: m s-1\n",
       "     unit_long: Meters per second\n",
       "     _FillValue: -32767\n",
       "     add_offset: 0.0\n",
       "     scale_factor: 0.0006103701889514923\n",
       "     cell_methods: area: mean\n",
       "     _ChunkSizes: [  1   7 341 720]\n",
       " unlimited dimensions: \n",
       " current shape = (293, 19, 37, 37)\n",
       " filling on,\n",
       " 'time': <class 'netCDF4._netCDF4.Variable'>\n",
       " float64 time(time)\n",
       "     long_name: Time (hours since 1950-01-01)\n",
       "     standard_name: time\n",
       "     calendar: gregorian\n",
       "     units: hours since 1950-01-01 00:00:00\n",
       "     axis: T\n",
       "     _ChunkSizes: 1024\n",
       "     _CoordinateAxisType: Time\n",
       "     valid_min: 586596.0\n",
       "     valid_max: 593604.0\n",
       " unlimited dimensions: \n",
       " current shape = (293,)\n",
       " filling on, default _FillValue of 9.969209968386869e+36 used,\n",
       " 'longitude': <class 'netCDF4._netCDF4.Variable'>\n",
       " float32 longitude(longitude)\n",
       "     valid_min: -40.0\n",
       "     valid_max: -37.0\n",
       "     step: 0.08332825\n",
       "     units: degrees_east\n",
       "     unit_long: Degrees East\n",
       "     long_name: Longitude\n",
       "     standard_name: longitude\n",
       "     axis: X\n",
       "     _ChunkSizes: 4320\n",
       "     _CoordinateAxisType: Lon\n",
       " unlimited dimensions: \n",
       " current shape = (37,)\n",
       " filling on, default _FillValue of 9.969209968386869e+36 used}"
      ]
     },
     "execution_count": 92,
     "metadata": {},
     "output_type": "execute_result"
    }
   ],
   "source": [
    "data.variables"
   ]
  },
  {
   "cell_type": "code",
   "execution_count": 93,
   "id": "9c8cabba",
   "metadata": {},
   "outputs": [],
   "source": [
    "def cartesian(x, y):\n",
    "\n",
    "    # This function creates a matrix with two columns, \n",
    "    # the first referring to the x axis and the second to the y axis. \n",
    "    # Each row in the matrix contains a pair (x, y).\n",
    "\n",
    "    from numpy import zeros\n",
    "    global pairs\n",
    "    pairs = zeros ([len(x) * len(y), 2])\n",
    "\n",
    "    counter = 0\n",
    "\n",
    "    for line in range (len(x)):\n",
    "\n",
    "        for colunm in range(len(y)):\n",
    "\n",
    "            pairs [counter, 0] = x [line]\n",
    "            pairs [counter, 1] = y [colunm]\n",
    "            counter += 1\n",
    "\n",
    "    return pairs"
   ]
  },
  {
   "cell_type": "code",
   "execution_count": 94,
   "id": "2e23c755",
   "metadata": {},
   "outputs": [],
   "source": [
    "def closest(array, x0, y0):\n",
    "\n",
    "    distances = ((array[:,0]-x0)**2\\\n",
    "        + (array[:,1]-y0)**2)**.5\n",
    "    d_min = distances.min()\n",
    "\n",
    "    lon_point= array[distances == d_min, 0]\n",
    "\n",
    "    lat_point = array[distances == d_min, 1]\n",
    "\n",
    "    return lon_point, lat_point"
   ]
  },
  {
   "cell_type": "code",
   "execution_count": 95,
   "id": "072dec73",
   "metadata": {},
   "outputs": [],
   "source": [
    "def lon360to180(lon):\n",
    "    \"\"\"\n",
    "    Converts longitude values in the range [0,360]\n",
    "    to longitude values in the range [-180,+180].\n",
    "    \"\"\"\n",
    "    lon = np.asanyarray(lon)\n",
    "    \n",
    "    return ((lon + 180.) % 360.) - 180"
   ]
  },
  {
   "cell_type": "code",
   "execution_count": 96,
   "id": "e5b120ed",
   "metadata": {},
   "outputs": [],
   "source": [
    "def hours2dates(reference_date, values):\n",
    "    \"\"\"\"\n",
    "    Converts hours values in datetime based in a\n",
    "    specific date.  The reference date must be in the\n",
    "    format Day/Month/Year Hour:Minutes\n",
    "    \"\"\"\n",
    "    import datetime as dt\n",
    "    \n",
    "    date_python = dt.datetime.strptime(reference_date,\n",
    "                                  '%d/%m/%Y %H:%M')\n",
    "    \n",
    "    Time = [date_python + dt.timedelta(hours = x) for x in values]\n",
    "    \n",
    "    return Time"
   ]
  },
  {
   "cell_type": "code",
   "execution_count": 97,
   "id": "cf750647",
   "metadata": {},
   "outputs": [],
   "source": [
    "#getting the values lon, lat and time\n",
    "\n",
    "lat = data['latitude'][:].squeeze()\n",
    "\n",
    "lon = data['longitude'][:].squeeze()\n",
    "\n",
    "depth = data['depth'][:].squeeze()\n",
    "\n",
    "#lon = lon360to180(lon)\n",
    "\n",
    "Time = data['time'][:]\n",
    "\n",
    "TimeDatetime = hours2dates('01/01/1950 00:00',Time)"
   ]
  },
  {
   "cell_type": "code",
   "execution_count": 98,
   "id": "6932bc9f",
   "metadata": {},
   "outputs": [
    {
     "data": {
      "text/plain": [
       "(0.494025, 55.76429)"
      ]
     },
     "execution_count": 98,
     "metadata": {},
     "output_type": "execute_result"
    }
   ],
   "source": [
    "min(depth), max(depth)"
   ]
  },
  {
   "cell_type": "code",
   "execution_count": 99,
   "id": "5adb74c0",
   "metadata": {},
   "outputs": [
    {
     "data": {
      "text/plain": [
       "(-40.0, -37.0)"
      ]
     },
     "execution_count": 99,
     "metadata": {},
     "output_type": "execute_result"
    }
   ],
   "source": [
    "lon.min(), lon.max()"
   ]
  },
  {
   "cell_type": "code",
   "execution_count": 100,
   "id": "f91b91b2",
   "metadata": {},
   "outputs": [],
   "source": [
    "array = cartesian(lon, lat);\n",
    "coordinates = closest(array, -38.5, -3.17)"
   ]
  },
  {
   "cell_type": "code",
   "execution_count": 101,
   "id": "7f943c99",
   "metadata": {},
   "outputs": [],
   "source": [
    "lon_point = coordinates[0].squeeze()\n",
    "lat_point = coordinates[1].squeeze()"
   ]
  },
  {
   "cell_type": "code",
   "execution_count": 102,
   "id": "a73d3e5c",
   "metadata": {},
   "outputs": [
    {
     "data": {
      "text/plain": [
       "(array(-38.5), array(-3.16666675))"
      ]
     },
     "execution_count": 102,
     "metadata": {},
     "output_type": "execute_result"
    }
   ],
   "source": [
    "lon_point, lat_point"
   ]
  },
  {
   "cell_type": "code",
   "execution_count": 103,
   "id": "e127ec56",
   "metadata": {},
   "outputs": [],
   "source": [
    "np.savetxt('coordenadas_mercator.csv',pairs,'%.2f', delimiter=';')"
   ]
  },
  {
   "cell_type": "code",
   "execution_count": 104,
   "id": "869b1aaa",
   "metadata": {},
   "outputs": [
    {
     "data": {
      "text/plain": [
       "[(0, 0.494025),\n",
       " (1, 1.541375),\n",
       " (2, 2.645669),\n",
       " (3, 3.819495),\n",
       " (4, 5.078224),\n",
       " (5, 6.440614),\n",
       " (6, 7.92956),\n",
       " (7, 9.572997),\n",
       " (8, 11.405),\n",
       " (9, 13.46714),\n",
       " (10, 15.81007),\n",
       " (11, 18.49556),\n",
       " (12, 21.59882),\n",
       " (13, 25.21141),\n",
       " (14, 29.44473),\n",
       " (15, 34.43415),\n",
       " (16, 40.34405),\n",
       " (17, 47.37369),\n",
       " (18, 55.76429)]"
      ]
     },
     "execution_count": 104,
     "metadata": {},
     "output_type": "execute_result"
    }
   ],
   "source": [
    "list(enumerate(depth))"
   ]
  },
  {
   "cell_type": "code",
   "execution_count": 105,
   "id": "da81f4e2",
   "metadata": {},
   "outputs": [
    {
     "name": "stdout",
     "output_type": "stream",
     "text": [
      "Variable       Type           Data/Info\n",
      "---------------------------------------\n",
      "CompU          DataFrame                  8m        16m<...>n\\n[293 rows x 5 columns]\n",
      "CompV          DataFrame                  8m        16m<...>n\\n[293 rows x 5 columns]\n",
      "Dataset        type           <class 'netCDF4._netCDF4.Dataset'>\n",
      "Time           MaskedArray    [586596. 586620. 586644. <...> 593556. 593580. 593604.]\n",
      "TimeDatetime   list           n=293\n",
      "array          ndarray        1369x2: 2738 elems, type `float64`, 21904 bytes\n",
      "cartesian      function       <function cartesian at 0x7f7e58d6e550>\n",
      "closest        function       <function closest at 0x7f7e58d86dc0>\n",
      "coordinates    tuple          n=2\n",
      "data           Dataset        <class 'netCDF4._netCDF4.<...>(longitude)\\n    groups: \n",
      "depth          MaskedArray    [ 0.494025  1.541375  2.6<...>405  47.37369  55.76429 ]\n",
      "glob           function       <function glob at 0x7f7ec41d81f0>\n",
      "hours2dates    function       <function hours2dates at 0x7f7e58170ee0>\n",
      "lat            MaskedArray    [-5.        -4.9166665 -4<...> -2.0833333\\n -2.       ]\n",
      "lat_point      ndarray        : 1 elems, type `float64`, 8 bytes\n",
      "lon            MaskedArray    [-40.       -39.916668 -3<...> -37.083332\\n -37.      ]\n",
      "lon360to180    function       <function lon360to180 at 0x7f7e58170ca0>\n",
      "lon_point      ndarray        : 1 elems, type `float64`, 8 bytes\n",
      "np             module         <module 'numpy' from '/ho<...>kages/numpy/__init__.py'>\n",
      "pairs          ndarray        1369x2: 2738 elems, type `float64`, 21904 bytes\n",
      "pd             module         <module 'pandas' from '/h<...>ages/pandas/__init__.py'>\n",
      "zdepths        list           n=4\n",
      "zlevels        list           n=4\n"
     ]
    }
   ],
   "source": [
    "whos"
   ]
  },
  {
   "cell_type": "code",
   "execution_count": 106,
   "id": "95843e1d",
   "metadata": {},
   "outputs": [],
   "source": [
    "zlevels = [6, 10, 14, 16]\n",
    "zdepths = ['8m', '16m','32m','40m']"
   ]
  },
  {
   "cell_type": "code",
   "execution_count": 107,
   "id": "705894d7",
   "metadata": {},
   "outputs": [],
   "source": [
    "CompV = data['vo'][:, zlevels,lat==lat_point,\n",
    "                   lon==lon_point].squeeze()\n",
    "CompU = data['uo'][:, zlevels,lat==lat_point,\n",
    "                   lon==lon_point].squeeze()"
   ]
  },
  {
   "cell_type": "code",
   "execution_count": 108,
   "id": "e6c77a6e",
   "metadata": {},
   "outputs": [
    {
     "data": {
      "text/plain": [
       "((293, 4), (293, 4))"
      ]
     },
     "execution_count": 108,
     "metadata": {},
     "output_type": "execute_result"
    }
   ],
   "source": [
    "CompV.shape, CompU.shape"
   ]
  },
  {
   "cell_type": "code",
   "execution_count": 109,
   "id": "4a073f4b",
   "metadata": {},
   "outputs": [
    {
     "data": {
      "text/plain": [
       "(datetime.datetime(2016, 12, 1, 12, 0), datetime.datetime(2017, 9, 19, 12, 0))"
      ]
     },
     "execution_count": 109,
     "metadata": {},
     "output_type": "execute_result"
    }
   ],
   "source": [
    "TimeDatetime[0], TimeDatetime[-1]"
   ]
  },
  {
   "cell_type": "code",
   "execution_count": 110,
   "id": "72d82bc3",
   "metadata": {},
   "outputs": [],
   "source": [
    "CompU *= 100;\n",
    "CompV *= 100;"
   ]
  },
  {
   "cell_type": "markdown",
   "id": "f05a530b",
   "metadata": {},
   "source": [
    "## salvando os dados"
   ]
  },
  {
   "cell_type": "code",
   "execution_count": 111,
   "id": "3cbc62b5",
   "metadata": {},
   "outputs": [],
   "source": [
    "CompU = pd.DataFrame(CompU);\n",
    "CompV = pd.DataFrame(CompV);"
   ]
  },
  {
   "cell_type": "code",
   "execution_count": 112,
   "id": "54dc658a",
   "metadata": {},
   "outputs": [],
   "source": [
    "CompU.columns = zdepths\n",
    "CompV.columns = zdepths"
   ]
  },
  {
   "cell_type": "code",
   "execution_count": 113,
   "id": "975e0104",
   "metadata": {},
   "outputs": [
    {
     "data": {
      "text/html": [
       "<div>\n",
       "<style scoped>\n",
       "    .dataframe tbody tr th:only-of-type {\n",
       "        vertical-align: middle;\n",
       "    }\n",
       "\n",
       "    .dataframe tbody tr th {\n",
       "        vertical-align: top;\n",
       "    }\n",
       "\n",
       "    .dataframe thead th {\n",
       "        text-align: right;\n",
       "    }\n",
       "</style>\n",
       "<table border=\"1\" class=\"dataframe\">\n",
       "  <thead>\n",
       "    <tr style=\"text-align: right;\">\n",
       "      <th></th>\n",
       "      <th>8m</th>\n",
       "      <th>16m</th>\n",
       "      <th>32m</th>\n",
       "      <th>40m</th>\n",
       "    </tr>\n",
       "  </thead>\n",
       "  <tbody>\n",
       "    <tr>\n",
       "      <th>0</th>\n",
       "      <td>-43.397320</td>\n",
       "      <td>-41.566210</td>\n",
       "      <td>-40.284432</td>\n",
       "      <td>-39.124729</td>\n",
       "    </tr>\n",
       "    <tr>\n",
       "      <th>1</th>\n",
       "      <td>-45.655690</td>\n",
       "      <td>-44.190802</td>\n",
       "      <td>-43.458357</td>\n",
       "      <td>-43.214209</td>\n",
       "    </tr>\n",
       "    <tr>\n",
       "      <th>2</th>\n",
       "      <td>-42.664876</td>\n",
       "      <td>-41.199988</td>\n",
       "      <td>-40.650655</td>\n",
       "      <td>-40.650655</td>\n",
       "    </tr>\n",
       "    <tr>\n",
       "      <th>3</th>\n",
       "      <td>-36.255989</td>\n",
       "      <td>-34.607990</td>\n",
       "      <td>-34.058657</td>\n",
       "      <td>-34.119694</td>\n",
       "    </tr>\n",
       "    <tr>\n",
       "      <th>4</th>\n",
       "      <td>-37.049470</td>\n",
       "      <td>-35.462508</td>\n",
       "      <td>-34.791101</td>\n",
       "      <td>-34.730064</td>\n",
       "    </tr>\n",
       "  </tbody>\n",
       "</table>\n",
       "</div>"
      ],
      "text/plain": [
       "          8m        16m        32m        40m\n",
       "0 -43.397320 -41.566210 -40.284432 -39.124729\n",
       "1 -45.655690 -44.190802 -43.458357 -43.214209\n",
       "2 -42.664876 -41.199988 -40.650655 -40.650655\n",
       "3 -36.255989 -34.607990 -34.058657 -34.119694\n",
       "4 -37.049470 -35.462508 -34.791101 -34.730064"
      ]
     },
     "execution_count": 113,
     "metadata": {},
     "output_type": "execute_result"
    }
   ],
   "source": [
    "CompU.head()"
   ]
  },
  {
   "cell_type": "code",
   "execution_count": 114,
   "id": "92c1924e",
   "metadata": {},
   "outputs": [],
   "source": [
    "CompU['time'] = TimeDatetime\n",
    "CompV['time'] = TimeDatetime"
   ]
  },
  {
   "cell_type": "code",
   "execution_count": 115,
   "id": "0fc576a9",
   "metadata": {},
   "outputs": [],
   "source": [
    "CompU.to_csv('mercator_zonal_2011a2019.csv', sep=';', index=False)\n",
    "CompV.to_csv('mercator_meridional_2011a2019.csv', sep=';', index=False)"
   ]
  }
 ],
 "metadata": {
  "kernelspec": {
   "display_name": "Python 3 (ipykernel)",
   "language": "python",
   "name": "python3"
  },
  "language_info": {
   "codemirror_mode": {
    "name": "ipython",
    "version": 3
   },
   "file_extension": ".py",
   "mimetype": "text/x-python",
   "name": "python",
   "nbconvert_exporter": "python",
   "pygments_lexer": "ipython3",
   "version": "3.8.5"
  }
 },
 "nbformat": 4,
 "nbformat_minor": 5
}
