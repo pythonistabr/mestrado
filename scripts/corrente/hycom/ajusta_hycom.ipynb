{
 "cells": [
  {
   "cell_type": "code",
   "execution_count": 1,
   "id": "8a536c56",
   "metadata": {},
   "outputs": [],
   "source": [
    "import numpy as np\n",
    "import pandas as pd\n",
    "from glob import glob\n",
    "import matplotlib.pyplot as plt"
   ]
  },
  {
   "cell_type": "code",
   "execution_count": 2,
   "id": "e6ffdfd4",
   "metadata": {},
   "outputs": [],
   "source": [
    "from datetime import datetime as dtime"
   ]
  },
  {
   "cell_type": "code",
   "execution_count": 3,
   "id": "b8a655ed",
   "metadata": {},
   "outputs": [],
   "source": [
    "def rotaciona_corrente(zonal, meridional, phi):\n",
    "    \n",
    "    phi = np.deg2rad(phi)\n",
    "    ul = zonal* np.cos(phi) + meridional * np.sin(phi)\n",
    "    vl = -zonal * np.sin(phi) + meridional * np.cos(phi)\n",
    "    \n",
    "    return ul, vl"
   ]
  },
  {
   "cell_type": "code",
   "execution_count": 4,
   "id": "fc134478",
   "metadata": {},
   "outputs": [
    {
     "name": "stdout",
     "output_type": "stream",
     "text": [
      "/home/gus/Documentos/mestrado/dados-mestrado/dados-hycom\n"
     ]
    }
   ],
   "source": [
    "cd '/home/gus/Documentos/mestrado/dados-mestrado/dados-hycom'"
   ]
  },
  {
   "cell_type": "code",
   "execution_count": 5,
   "id": "ff9d8e88",
   "metadata": {},
   "outputs": [],
   "source": [
    "lista1 = sorted(glob('csv/*zonal.csv'))"
   ]
  },
  {
   "cell_type": "code",
   "execution_count": 6,
   "id": "34279206",
   "metadata": {},
   "outputs": [],
   "source": [
    "lista2 = sorted(glob('csv/*meridional.csv'))"
   ]
  },
  {
   "cell_type": "markdown",
   "id": "607acabe",
   "metadata": {},
   "source": [
    "## carregando os dados"
   ]
  },
  {
   "cell_type": "code",
   "execution_count": 7,
   "id": "24af7319",
   "metadata": {},
   "outputs": [],
   "source": [
    "dfu = pd.read_csv(lista1[0], skip_blank_lines=True,\\\n",
    "                  error_bad_lines=False, delimiter= ';')\n",
    "\n",
    "dfv = pd.read_csv(lista2[0], skip_blank_lines=True,\\\n",
    "                  error_bad_lines=False, delimiter=';')\n",
    "\n",
    "lista_dfu = [dfu]\n",
    "lista_dfv = [dfv]"
   ]
  },
  {
   "cell_type": "code",
   "execution_count": 8,
   "id": "f2420948",
   "metadata": {},
   "outputs": [],
   "source": [
    "\n",
    "for file1, file2 in zip(lista1[1:], lista2[1:]):\n",
    "\n",
    "    data1 = pd.read_csv(file1, skip_blank_lines=True,\n",
    "        error_bad_lines=False, delimiter=\";\")\n",
    "\n",
    "    data2 = pd.read_csv(file2, skip_blank_lines=True,\n",
    "        error_bad_lines=False, delimiter=\";\")\n",
    "\n",
    "    lista_dfu.append(data1)\n",
    "    lista_dfv.append(data2)\n"
   ]
  },
  {
   "cell_type": "code",
   "execution_count": 9,
   "id": "3da70868",
   "metadata": {},
   "outputs": [
    {
     "data": {
      "text/html": [
       "<div>\n",
       "<style scoped>\n",
       "    .dataframe tbody tr th:only-of-type {\n",
       "        vertical-align: middle;\n",
       "    }\n",
       "\n",
       "    .dataframe tbody tr th {\n",
       "        vertical-align: top;\n",
       "    }\n",
       "\n",
       "    .dataframe thead th {\n",
       "        text-align: right;\n",
       "    }\n",
       "</style>\n",
       "<table border=\"1\" class=\"dataframe\">\n",
       "  <thead>\n",
       "    <tr style=\"text-align: right;\">\n",
       "      <th></th>\n",
       "      <th>8m</th>\n",
       "      <th>16m</th>\n",
       "      <th>32m</th>\n",
       "      <th>40m</th>\n",
       "      <th>time</th>\n",
       "    </tr>\n",
       "  </thead>\n",
       "  <tbody>\n",
       "    <tr>\n",
       "      <th>0</th>\n",
       "      <td>-0.357</td>\n",
       "      <td>-0.325</td>\n",
       "      <td>-0.311</td>\n",
       "      <td>-0.306</td>\n",
       "      <td>2016-12-02 12:00:00</td>\n",
       "    </tr>\n",
       "    <tr>\n",
       "      <th>1</th>\n",
       "      <td>-0.407</td>\n",
       "      <td>-0.336</td>\n",
       "      <td>-0.302</td>\n",
       "      <td>-0.300</td>\n",
       "      <td>2016-12-02 15:00:00</td>\n",
       "    </tr>\n",
       "    <tr>\n",
       "      <th>2</th>\n",
       "      <td>-0.382</td>\n",
       "      <td>-0.285</td>\n",
       "      <td>-0.228</td>\n",
       "      <td>-0.227</td>\n",
       "      <td>2016-12-02 18:00:00</td>\n",
       "    </tr>\n",
       "    <tr>\n",
       "      <th>3</th>\n",
       "      <td>-0.352</td>\n",
       "      <td>-0.291</td>\n",
       "      <td>-0.152</td>\n",
       "      <td>-0.150</td>\n",
       "      <td>2016-12-02 21:00:00</td>\n",
       "    </tr>\n",
       "    <tr>\n",
       "      <th>4</th>\n",
       "      <td>-0.308</td>\n",
       "      <td>-0.285</td>\n",
       "      <td>-0.225</td>\n",
       "      <td>-0.182</td>\n",
       "      <td>2016-12-03 00:00:00</td>\n",
       "    </tr>\n",
       "  </tbody>\n",
       "</table>\n",
       "</div>"
      ],
      "text/plain": [
       "      8m    16m    32m    40m                 time\n",
       "0 -0.357 -0.325 -0.311 -0.306  2016-12-02 12:00:00\n",
       "1 -0.407 -0.336 -0.302 -0.300  2016-12-02 15:00:00\n",
       "2 -0.382 -0.285 -0.228 -0.227  2016-12-02 18:00:00\n",
       "3 -0.352 -0.291 -0.152 -0.150  2016-12-02 21:00:00\n",
       "4 -0.308 -0.285 -0.225 -0.182  2016-12-03 00:00:00"
      ]
     },
     "execution_count": 9,
     "metadata": {},
     "output_type": "execute_result"
    }
   ],
   "source": [
    "dfu.head()"
   ]
  },
  {
   "cell_type": "code",
   "execution_count": 10,
   "id": "fbb0c90e",
   "metadata": {},
   "outputs": [
    {
     "data": {
      "text/html": [
       "<div>\n",
       "<style scoped>\n",
       "    .dataframe tbody tr th:only-of-type {\n",
       "        vertical-align: middle;\n",
       "    }\n",
       "\n",
       "    .dataframe tbody tr th {\n",
       "        vertical-align: top;\n",
       "    }\n",
       "\n",
       "    .dataframe thead th {\n",
       "        text-align: right;\n",
       "    }\n",
       "</style>\n",
       "<table border=\"1\" class=\"dataframe\">\n",
       "  <thead>\n",
       "    <tr style=\"text-align: right;\">\n",
       "      <th></th>\n",
       "      <th>8m</th>\n",
       "      <th>16m</th>\n",
       "      <th>32m</th>\n",
       "      <th>40m</th>\n",
       "      <th>time</th>\n",
       "    </tr>\n",
       "  </thead>\n",
       "  <tbody>\n",
       "    <tr>\n",
       "      <th>7</th>\n",
       "      <td>-0.340</td>\n",
       "      <td>-0.327</td>\n",
       "      <td>-0.309</td>\n",
       "      <td>-0.299</td>\n",
       "      <td>2016-12-03 09:00:00</td>\n",
       "    </tr>\n",
       "    <tr>\n",
       "      <th>8</th>\n",
       "      <td>-0.366</td>\n",
       "      <td>-0.326</td>\n",
       "      <td>-0.297</td>\n",
       "      <td>-0.288</td>\n",
       "      <td>2016-12-03 12:00:00</td>\n",
       "    </tr>\n",
       "    <tr>\n",
       "      <th>9</th>\n",
       "      <td>-0.389</td>\n",
       "      <td>-0.323</td>\n",
       "      <td>-0.275</td>\n",
       "      <td>-0.265</td>\n",
       "      <td>2016-12-03 15:00:00</td>\n",
       "    </tr>\n",
       "    <tr>\n",
       "      <th>10</th>\n",
       "      <td>-0.419</td>\n",
       "      <td>-0.322</td>\n",
       "      <td>-0.252</td>\n",
       "      <td>-0.240</td>\n",
       "      <td>2016-12-03 18:00:00</td>\n",
       "    </tr>\n",
       "    <tr>\n",
       "      <th>11</th>\n",
       "      <td>-0.431</td>\n",
       "      <td>-0.381</td>\n",
       "      <td>-0.241</td>\n",
       "      <td>-0.218</td>\n",
       "      <td>2016-12-03 21:00:00</td>\n",
       "    </tr>\n",
       "  </tbody>\n",
       "</table>\n",
       "</div>"
      ],
      "text/plain": [
       "       8m    16m    32m    40m                 time\n",
       "7  -0.340 -0.327 -0.309 -0.299  2016-12-03 09:00:00\n",
       "8  -0.366 -0.326 -0.297 -0.288  2016-12-03 12:00:00\n",
       "9  -0.389 -0.323 -0.275 -0.265  2016-12-03 15:00:00\n",
       "10 -0.419 -0.322 -0.252 -0.240  2016-12-03 18:00:00\n",
       "11 -0.431 -0.381 -0.241 -0.218  2016-12-03 21:00:00"
      ]
     },
     "execution_count": 10,
     "metadata": {},
     "output_type": "execute_result"
    }
   ],
   "source": [
    "dfu.tail()"
   ]
  },
  {
   "cell_type": "markdown",
   "id": "3892c084",
   "metadata": {},
   "source": [
    "## concatenando"
   ]
  },
  {
   "cell_type": "code",
   "execution_count": 11,
   "id": "0b31d076",
   "metadata": {},
   "outputs": [],
   "source": [
    "dfu = pd.concat(lista_dfu, ignore_index=True)\n",
    "dfv = pd.concat(lista_dfv, ignore_index=True)"
   ]
  },
  {
   "cell_type": "code",
   "execution_count": 12,
   "id": "3aa4c13b",
   "metadata": {},
   "outputs": [],
   "source": [
    "dfu = dfu.iloc[:, 0:5]\n",
    "dfv = dfv.iloc[:, 0:5]"
   ]
  },
  {
   "cell_type": "code",
   "execution_count": 13,
   "id": "7cfd2838",
   "metadata": {},
   "outputs": [
    {
     "data": {
      "text/plain": [
       "(1780, 5)"
      ]
     },
     "execution_count": 13,
     "metadata": {},
     "output_type": "execute_result"
    }
   ],
   "source": [
    "dfu.shape"
   ]
  },
  {
   "cell_type": "code",
   "execution_count": 14,
   "id": "17b057a4",
   "metadata": {},
   "outputs": [],
   "source": [
    "del data1, data2, lista_dfu, lista_dfv, lista1, lista2"
   ]
  },
  {
   "cell_type": "code",
   "execution_count": 15,
   "id": "8364f151",
   "metadata": {},
   "outputs": [],
   "source": [
    "time = np.copy(dfu.time)"
   ]
  },
  {
   "cell_type": "code",
   "execution_count": 16,
   "id": "18656d1b",
   "metadata": {},
   "outputs": [],
   "source": [
    "time = [dtime.strptime(ii, \"%Y-%m-%d %H:%M:%S\") for ii in time]\n",
    "time = np.array(time)"
   ]
  },
  {
   "cell_type": "code",
   "execution_count": 17,
   "id": "89da0883",
   "metadata": {},
   "outputs": [],
   "source": [
    "dfu.drop(['time'], inplace=True, axis=1)\n",
    "dfv.drop(['time'], inplace=True, axis=1)"
   ]
  },
  {
   "cell_type": "code",
   "execution_count": 18,
   "id": "c2771ae4",
   "metadata": {},
   "outputs": [
    {
     "data": {
      "text/plain": [
       "(datetime.datetime(2016, 12, 2, 12, 0), datetime.datetime(2017, 9, 29, 21, 0))"
      ]
     },
     "execution_count": 18,
     "metadata": {},
     "output_type": "execute_result"
    }
   ],
   "source": [
    "time.min(), time.max()"
   ]
  },
  {
   "cell_type": "code",
   "execution_count": 19,
   "id": "fb902480",
   "metadata": {},
   "outputs": [],
   "source": [
    "dfu = dfu *100;\n",
    "dfv = dfv *100;"
   ]
  },
  {
   "cell_type": "code",
   "execution_count": 20,
   "id": "dd73d490",
   "metadata": {},
   "outputs": [],
   "source": [
    "ul, vl = rotaciona_corrente(dfu, dfv, 60)"
   ]
  },
  {
   "cell_type": "markdown",
   "id": "a70bf1b1",
   "metadata": {},
   "source": [
    "# realocando na matriz com intervalo de 1h"
   ]
  },
  {
   "cell_type": "code",
   "execution_count": 21,
   "id": "fd726638",
   "metadata": {},
   "outputs": [],
   "source": [
    "#plt.plot(time,'.r')"
   ]
  },
  {
   "cell_type": "code",
   "execution_count": 22,
   "id": "5eb8d87f",
   "metadata": {},
   "outputs": [],
   "source": [
    "#min(time), max(time)"
   ]
  },
  {
   "cell_type": "code",
   "execution_count": 23,
   "id": "f9678825",
   "metadata": {},
   "outputs": [
    {
     "data": {
      "text/plain": [
       "\"\\ntempoAjustado = pd.date_range(start='2016-12-01 12:00',                              end='2017-12-31 09:00', freq='1H')\\n\\nulAjustado = np.zeros([len(tempoAjustado), 4])\\nvlAjustado = np.zeros([len(tempoAjustado), 4])\\n\\nulAjustado[:] = np.NaN\\nvlAjustado[:] =  np.NaN\\n\\nfor line in range(len(time)):\\n\\n    index = np.nonzero(tempoAjustado == time[line])\\n\\n    ulAjustado[index[0], :] = ul.iloc[line, :]\\n    vlAjustado[index[0], :] = vl.iloc[line, :]\\n\""
      ]
     },
     "execution_count": 23,
     "metadata": {},
     "output_type": "execute_result"
    }
   ],
   "source": [
    "\"\"\"\n",
    "tempoAjustado = pd.date_range(start='2016-12-01 12:00',\\\n",
    "                              end='2017-12-31 09:00', freq='1H')\n",
    "\n",
    "ulAjustado = np.zeros([len(tempoAjustado), 4])\n",
    "vlAjustado = np.zeros([len(tempoAjustado), 4])\n",
    "\n",
    "ulAjustado[:] = np.NaN\n",
    "vlAjustado[:] =  np.NaN\n",
    "\n",
    "for line in range(len(time)):\n",
    "\n",
    "    index = np.nonzero(tempoAjustado == time[line])\n",
    "\n",
    "    ulAjustado[index[0], :] = ul.iloc[line, :]\n",
    "    vlAjustado[index[0], :] = vl.iloc[line, :]\n",
    "\"\"\""
   ]
  },
  {
   "cell_type": "code",
   "execution_count": 24,
   "id": "3cd795ad",
   "metadata": {},
   "outputs": [
    {
     "name": "stdout",
     "output_type": "stream",
     "text": [
      "Using matplotlib backend: Qt5Agg\n"
     ]
    }
   ],
   "source": [
    "%matplotlib auto"
   ]
  },
  {
   "cell_type": "code",
   "execution_count": 25,
   "id": "6500ea9c",
   "metadata": {},
   "outputs": [
    {
     "data": {
      "text/plain": [
       "\"\\nplt.plot(tempoAjustado, ulAjustado[:, 2],'.')\\nplt.ylim([-50,50])\\n\\n\""
      ]
     },
     "execution_count": 25,
     "metadata": {},
     "output_type": "execute_result"
    }
   ],
   "source": [
    "\"\"\"\n",
    "plt.plot(tempoAjustado, ulAjustado[:, 2],'.')\n",
    "plt.ylim([-50,50])\n",
    "\n",
    "\"\"\""
   ]
  },
  {
   "cell_type": "code",
   "execution_count": 26,
   "id": "bd957862",
   "metadata": {},
   "outputs": [
    {
     "data": {
      "text/plain": [
       "\"\\nlimInferior = dtime.strptime('2016-11-18 20:00:00','%Y-%m-%d %H:%M:%S')\\nlimSuperior = dtime.strptime('2017-09-19 08:00:00','%Y-%m-%d %H:%M:%S')\\n\""
      ]
     },
     "execution_count": 26,
     "metadata": {},
     "output_type": "execute_result"
    }
   ],
   "source": [
    "\"\"\"\n",
    "limInferior = dtime.strptime('2016-11-18 20:00:00','%Y-%m-%d %H:%M:%S')\n",
    "limSuperior = dtime.strptime('2017-09-19 08:00:00','%Y-%m-%d %H:%M:%S')\n",
    "\"\"\""
   ]
  },
  {
   "cell_type": "code",
   "execution_count": 27,
   "id": "7f56b372",
   "metadata": {},
   "outputs": [
    {
     "data": {
      "text/plain": [
       "'\\ncondtime = ((limInferior <= tempoAjustado) & (tempoAjustado<= limSuperior))\\n'"
      ]
     },
     "execution_count": 27,
     "metadata": {},
     "output_type": "execute_result"
    }
   ],
   "source": [
    "\"\"\"\n",
    "condtime = ((limInferior <= tempoAjustado) & (tempoAjustado<= limSuperior))\n",
    "\"\"\""
   ]
  },
  {
   "cell_type": "code",
   "execution_count": 28,
   "id": "b4be9618",
   "metadata": {},
   "outputs": [
    {
     "data": {
      "text/plain": [
       "'\\ndfu_cortado = pd.DataFrame(ulAjustado[condtime])\\ndfv_cortado = pd.DataFrame(vlAjustado[condtime])\\n'"
      ]
     },
     "execution_count": 28,
     "metadata": {},
     "output_type": "execute_result"
    }
   ],
   "source": [
    "\"\"\"\n",
    "dfu_cortado = pd.DataFrame(ulAjustado[condtime])\n",
    "dfv_cortado = pd.DataFrame(vlAjustado[condtime])\n",
    "\"\"\""
   ]
  },
  {
   "cell_type": "code",
   "execution_count": 29,
   "id": "ad87b695",
   "metadata": {},
   "outputs": [
    {
     "data": {
      "text/plain": [
       "'\\ndfu_cortado.columns = dfu.columns\\ndfv_cortado.columns = dfv.columns\\n'"
      ]
     },
     "execution_count": 29,
     "metadata": {},
     "output_type": "execute_result"
    }
   ],
   "source": [
    "\"\"\"\n",
    "dfu_cortado.columns = dfu.columns\n",
    "dfv_cortado.columns = dfv.columns\n",
    "\"\"\""
   ]
  },
  {
   "cell_type": "code",
   "execution_count": 30,
   "id": "c39c09a7",
   "metadata": {},
   "outputs": [
    {
     "data": {
      "text/plain": [
       "\"\\ndfu_cortado['time'] = tempoAjustado[condtime]\\ndfv_cortado['time'] = tempoAjustado[condtime]\\n\""
      ]
     },
     "execution_count": 30,
     "metadata": {},
     "output_type": "execute_result"
    }
   ],
   "source": [
    "\"\"\"\n",
    "dfu_cortado['time'] = tempoAjustado[condtime]\n",
    "dfv_cortado['time'] = tempoAjustado[condtime]\n",
    "\"\"\""
   ]
  },
  {
   "cell_type": "code",
   "execution_count": 31,
   "id": "bd29f229",
   "metadata": {},
   "outputs": [
    {
     "name": "stdout",
     "output_type": "stream",
     "text": [
      "coordenadas.txt      hycom_ul_total_ajustado1h.csv  mvalidation.py\r\n",
      "\u001b[0m\u001b[01;34mcsv\u001b[0m/                 hycom_vl_total_ajustado1h.csv  \u001b[01;34moutputs\u001b[0m/\r\n",
      "hycom_nc4_to_csv.py  join_csv.py\r\n"
     ]
    }
   ],
   "source": [
    "ls"
   ]
  },
  {
   "cell_type": "markdown",
   "id": "7a5c2d7b",
   "metadata": {},
   "source": [
    "## salvando os dados"
   ]
  },
  {
   "cell_type": "code",
   "execution_count": 32,
   "id": "ae131bf1",
   "metadata": {},
   "outputs": [
    {
     "data": {
      "text/plain": [
       "\"\\ndfu_cortado.to_csv('hycom_ul_total_ajustado1h.csv', sep= ';', index=False)\\ndfv_cortado.to_csv('hycom_vl_total_ajustado1h.csv', sep= ';', index=False)\\n\""
      ]
     },
     "execution_count": 32,
     "metadata": {},
     "output_type": "execute_result"
    }
   ],
   "source": [
    "\"\"\"\n",
    "dfu_cortado.to_csv('hycom_ul_total_ajustado1h.csv', sep= ';', index=False)\n",
    "dfv_cortado.to_csv('hycom_vl_total_ajustado1h.csv', sep= ';', index=False)\n",
    "\"\"\""
   ]
  },
  {
   "cell_type": "code",
   "execution_count": 33,
   "id": "9092367f",
   "metadata": {},
   "outputs": [
    {
     "name": "stdout",
     "output_type": "stream",
     "text": [
      "dfu\t dfv\t dtime\t file1\t file2\t glob\t np\t pd\t plt\t \n",
      "rotaciona_corrente\t time\t ul\t vl\t \n"
     ]
    }
   ],
   "source": [
    "who"
   ]
  },
  {
   "cell_type": "code",
   "execution_count": 34,
   "id": "7530e3be",
   "metadata": {},
   "outputs": [
    {
     "data": {
      "text/plain": [
       "(1780, 1780, 1780)"
      ]
     },
     "execution_count": 34,
     "metadata": {},
     "output_type": "execute_result"
    }
   ],
   "source": [
    "len(ul), len(vl), len(time)"
   ]
  },
  {
   "cell_type": "markdown",
   "id": "35efffda",
   "metadata": {},
   "source": [
    "# Realocando os dados em intervalos de 3h sem buracos no tempo"
   ]
  },
  {
   "cell_type": "markdown",
   "id": "1bb7b6ac",
   "metadata": {},
   "source": [
    "### Essa matriz será usada na filtragem na banda submareal"
   ]
  },
  {
   "cell_type": "code",
   "execution_count": 35,
   "id": "420ebf0f",
   "metadata": {},
   "outputs": [],
   "source": [
    "tempoAjustado = pd.date_range(start='2016-12-02 12:00',\\\n",
    "                              end='2017-09-29 21:00', freq='3H')\n",
    "\n",
    "ulAjustado = np.zeros([len(tempoAjustado), 4])\n",
    "vlAjustado = np.zeros([len(tempoAjustado), 4])\n",
    "\n",
    "ulAjustado[:] = np.NaN\n",
    "vlAjustado[:] =  np.NaN\n",
    "\n",
    "for line in range(len(time)):\n",
    "\n",
    "    index = np.nonzero(tempoAjustado == time[line])\n",
    "\n",
    "    ulAjustado[index[0], :] = ul.iloc[line, :]\n",
    "    vlAjustado[index[0], :] = vl.iloc[line, :]"
   ]
  },
  {
   "cell_type": "code",
   "execution_count": 36,
   "id": "a6e0e139",
   "metadata": {},
   "outputs": [
    {
     "data": {
      "text/plain": [
       "(-50.0, 50.0)"
      ]
     },
     "execution_count": 36,
     "metadata": {},
     "output_type": "execute_result"
    }
   ],
   "source": [
    "plt.plot(tempoAjustado, ulAjustado[:, 2],'-')\n",
    "plt.ylim([-50,50])"
   ]
  },
  {
   "cell_type": "code",
   "execution_count": 37,
   "id": "094e711e",
   "metadata": {},
   "outputs": [],
   "source": [
    "limInferior = dtime.strptime('2016-11-18 20:00:00','%Y-%m-%d %H:%M:%S')\n",
    "limSuperior = dtime.strptime('2017-09-19 08:00:00','%Y-%m-%d %H:%M:%S')"
   ]
  },
  {
   "cell_type": "code",
   "execution_count": 38,
   "id": "283653e2",
   "metadata": {},
   "outputs": [],
   "source": [
    "condtime = ((limInferior <= tempoAjustado) & (tempoAjustado<= limSuperior))"
   ]
  },
  {
   "cell_type": "code",
   "execution_count": 39,
   "id": "6a8ae417",
   "metadata": {},
   "outputs": [],
   "source": [
    "dfu_cortado = pd.DataFrame(ulAjustado[condtime])\n",
    "dfv_cortado = pd.DataFrame(vlAjustado[condtime])"
   ]
  },
  {
   "cell_type": "code",
   "execution_count": 40,
   "id": "df8181f7",
   "metadata": {},
   "outputs": [],
   "source": [
    "dfu_cortado.columns = dfu.columns\n",
    "dfv_cortado.columns = dfv.columns"
   ]
  },
  {
   "cell_type": "markdown",
   "id": "10f5cc45",
   "metadata": {},
   "source": [
    "### interpolacao dos dados"
   ]
  },
  {
   "cell_type": "code",
   "execution_count": 46,
   "id": "660bbaaf",
   "metadata": {},
   "outputs": [],
   "source": [
    "dfu_cortado.interpolate(method='linear', axis=1,limit=4 ,inplace=True)\n",
    "dfv_cortado.interpolate(method='linear', axis=1,limit=4 ,inplace=True)"
   ]
  },
  {
   "cell_type": "code",
   "execution_count": 49,
   "id": "77a0862d",
   "metadata": {},
   "outputs": [
    {
     "data": {
      "text/plain": [
       "[<matplotlib.lines.Line2D at 0x7feb9cbd7d30>]"
      ]
     },
     "execution_count": 49,
     "metadata": {},
     "output_type": "execute_result"
    }
   ],
   "source": [
    "plt.plot(dfu_cortado.iloc[:,0],'.-r')"
   ]
  },
  {
   "cell_type": "code",
   "execution_count": null,
   "id": "08da12c0",
   "metadata": {},
   "outputs": [],
   "source": [
    "dfu_cortado['time'] = tempoAjustado[condtime]\n",
    "dfv_cortado['time'] = tempoAjustado[condtime]"
   ]
  },
  {
   "cell_type": "code",
   "execution_count": 51,
   "id": "5142e6db",
   "metadata": {},
   "outputs": [
    {
     "data": {
      "text/plain": [
       "[<matplotlib.lines.Line2D at 0x7feb9c7caa00>]"
      ]
     },
     "execution_count": 51,
     "metadata": {},
     "output_type": "execute_result"
    }
   ],
   "source": [
    "plt.plot(dfv_cortado.iloc[:,1])"
   ]
  },
  {
   "cell_type": "code",
   "execution_count": 52,
   "id": "24c8f649",
   "metadata": {},
   "outputs": [],
   "source": [
    "dfu_cortado.to_csv('hycom_ul_total_ajustado3h.csv', sep= ';', index=False)\n",
    "dfv_cortado.to_csv('hycom_vl_total_ajustado3h.csv', sep= ';', index=False)"
   ]
  }
 ],
 "metadata": {
  "kernelspec": {
   "display_name": "Python 3 (ipykernel)",
   "language": "python",
   "name": "python3"
  },
  "language_info": {
   "codemirror_mode": {
    "name": "ipython",
    "version": 3
   },
   "file_extension": ".py",
   "mimetype": "text/x-python",
   "name": "python",
   "nbconvert_exporter": "python",
   "pygments_lexer": "ipython3",
   "version": "3.8.5"
  }
 },
 "nbformat": 4,
 "nbformat_minor": 5
}
