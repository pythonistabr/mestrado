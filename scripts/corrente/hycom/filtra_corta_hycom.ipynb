{
 "cells": [
  {
   "cell_type": "markdown",
   "id": "0c27efc5",
   "metadata": {},
   "source": [
    "<h2> rotina para cortar os dados do hycom e ajustar no mesmo intervalo te tempo da boia</h2>"
   ]
  },
  {
   "cell_type": "markdown",
   "id": "b646fddc",
   "metadata": {},
   "source": [
    "<p> Serie 1 - [2016-11-19 06:00:00, 2017-04-14 12:00:00]</p>\n",
    "<p> Serie 2 - [2017-06-16 09:00:00, 2017-09-07 02:00:00]</p>"
   ]
  },
  {
   "cell_type": "code",
   "execution_count": 1,
   "id": "f50436ef",
   "metadata": {},
   "outputs": [],
   "source": [
    "import numpy as np\n",
    "import pandas as pd\n",
    "from glob import glob\n",
    "import matplotlib.pyplot as plt\n",
    "from datetime import datetime as dtime"
   ]
  },
  {
   "cell_type": "code",
   "execution_count": 2,
   "id": "5ba19b56",
   "metadata": {},
   "outputs": [],
   "source": [
    "from low_pass_filter import butter_low_pass_filter"
   ]
  },
  {
   "cell_type": "code",
   "execution_count": 3,
   "id": "1214725e",
   "metadata": {},
   "outputs": [],
   "source": [
    "from numpy import pi"
   ]
  },
  {
   "cell_type": "code",
   "execution_count": 4,
   "id": "926e7b6b",
   "metadata": {},
   "outputs": [],
   "source": [
    "def rotaciona_corrente(zonal, meridional, phi):\n",
    "    \n",
    "    phi = np.deg2rad(phi)\n",
    "    ul = zonal* np.cos(phi) + meridional * np.sin(phi)\n",
    "    vl = -zonal * np.sin(phi) + meridional * np.cos(phi)\n",
    "    \n",
    "    return ul, vl"
   ]
  },
  {
   "cell_type": "code",
   "execution_count": 5,
   "id": "df339bf3",
   "metadata": {},
   "outputs": [
    {
     "name": "stdout",
     "output_type": "stream",
     "text": [
      "/home/gus/Documentos/mestrado/dados-mestrado/dados-hycom/csv\n"
     ]
    }
   ],
   "source": [
    "cd '/home/gus/Documentos/mestrado/dados-mestrado/dados-hycom/csv'"
   ]
  },
  {
   "cell_type": "code",
   "execution_count": 6,
   "id": "2c5f90f5",
   "metadata": {},
   "outputs": [],
   "source": [
    "%matplotlib inline"
   ]
  },
  {
   "cell_type": "code",
   "execution_count": 7,
   "id": "ffd51bef",
   "metadata": {},
   "outputs": [],
   "source": [
    "lista1 = sorted(glob('*zonal.csv'))"
   ]
  },
  {
   "cell_type": "code",
   "execution_count": 8,
   "id": "d40d7aa5",
   "metadata": {},
   "outputs": [],
   "source": [
    "lista2 = sorted(glob('*meridional.csv'))"
   ]
  },
  {
   "cell_type": "code",
   "execution_count": 9,
   "id": "22a6519e",
   "metadata": {},
   "outputs": [],
   "source": [
    "dfu = pd.read_csv(lista1[0], skip_blank_lines=True,\\\n",
    "                  error_bad_lines=False, delimiter= ';')\n",
    "\n",
    "dfv = pd.read_csv(lista2[0], skip_blank_lines=True,\\\n",
    "                  error_bad_lines=False, delimiter=';')\n",
    "\n",
    "lista_dfu = [dfu]\n",
    "lista_dfv = [dfv]\n",
    "\n",
    "for file1, file2 in zip(lista1[1:], lista2[1:]):\n",
    "\n",
    "    data1 = pd.read_csv(file1, skip_blank_lines=True,\n",
    "                        error_bad_lines=False, delimiter=\";\")\n",
    "\n",
    "    data2 = pd.read_csv(file2, skip_blank_lines=True,\n",
    "                        error_bad_lines=False, delimiter=\";\")\n",
    "\n",
    "    lista_dfu.append(data1)\n",
    "    lista_dfv.append(data2)"
   ]
  },
  {
   "cell_type": "code",
   "execution_count": 10,
   "id": "68d9a901",
   "metadata": {},
   "outputs": [],
   "source": [
    "dfu = pd.concat(lista_dfu, ignore_index=True)\n",
    "dfv = pd.concat(lista_dfv, ignore_index=True)"
   ]
  },
  {
   "cell_type": "code",
   "execution_count": 11,
   "id": "c2833cbb",
   "metadata": {},
   "outputs": [],
   "source": [
    "del data1, data2, lista_dfu, lista_dfv, lista1, lista2"
   ]
  },
  {
   "cell_type": "code",
   "execution_count": 12,
   "id": "a0622e31",
   "metadata": {},
   "outputs": [],
   "source": [
    "time = np.copy(dfu.time)"
   ]
  },
  {
   "cell_type": "code",
   "execution_count": 13,
   "id": "b9547140",
   "metadata": {},
   "outputs": [],
   "source": [
    "time = [dtime.strptime(ii, \"%Y-%m-%d %H:%M:%S\") for ii in time]\n",
    "time = np.array(time)"
   ]
  },
  {
   "cell_type": "code",
   "execution_count": 14,
   "id": "09f0fb60",
   "metadata": {},
   "outputs": [],
   "source": [
    "dfu.drop(['time'], inplace=True, axis=1)\n",
    "dfv.drop(['time'], inplace=True, axis=1)"
   ]
  },
  {
   "cell_type": "code",
   "execution_count": 15,
   "id": "e5bc38d0",
   "metadata": {},
   "outputs": [
    {
     "data": {
      "text/plain": [
       "(datetime.datetime(2016, 12, 2, 12, 0), datetime.datetime(2017, 9, 29, 21, 0))"
      ]
     },
     "execution_count": 15,
     "metadata": {},
     "output_type": "execute_result"
    }
   ],
   "source": [
    "time.min(), time.max()"
   ]
  },
  {
   "cell_type": "code",
   "execution_count": 16,
   "id": "ec24792a",
   "metadata": {},
   "outputs": [
    {
     "data": {
      "text/plain": [
       "[<matplotlib.lines.Line2D at 0x7efeb2cfd3d0>]"
      ]
     },
     "execution_count": 16,
     "metadata": {},
     "output_type": "execute_result"
    },
    {
     "data": {
      "image/png": "[encoded data removed]",
      "text/plain": [
       "<Figure size 432x288 with 1 Axes>"
      ]
     },
     "metadata": {
      "needs_background": "light"
     },
     "output_type": "display_data"
    }
   ],
   "source": [
    "plt.plot(time,'.') #checando para ver se há buracos"
   ]
  },
  {
   "cell_type": "markdown",
   "id": "5866b270",
   "metadata": {},
   "source": [
    "### m/s para cm/s"
   ]
  },
  {
   "cell_type": "code",
   "execution_count": 17,
   "id": "b443961b",
   "metadata": {},
   "outputs": [],
   "source": [
    "dfu = dfu *100;\n",
    "dfv = dfv *100;"
   ]
  },
  {
   "cell_type": "markdown",
   "id": "85618536",
   "metadata": {},
   "source": [
    "### Rotacao dos dados em relaçao a costa"
   ]
  },
  {
   "cell_type": "code",
   "execution_count": 18,
   "id": "f3a52179",
   "metadata": {},
   "outputs": [],
   "source": [
    "ul, vl = rotaciona_corrente(dfu, dfv, 60)"
   ]
  },
  {
   "cell_type": "markdown",
   "id": "0bfbb27d",
   "metadata": {},
   "source": [
    "## realocando os dados do hycom para filtrar"
   ]
  },
  {
   "cell_type": "code",
   "execution_count": 19,
   "id": "f7cdd605",
   "metadata": {},
   "outputs": [],
   "source": [
    "tempoAjustado = pd.date_range(start='2016-12-01 12:00',\\\n",
    "                              end='2017-12-31 09:00', freq='3H')\n",
    "\n",
    "\n",
    "ulAjustado = np.zeros([len(tempoAjustado), 4])\n",
    "vlAjustado = np.zeros([len(tempoAjustado), 4])\n",
    "\n",
    "ulAjustado[:] = np.NaN\n",
    "vlAjustado[:] =  np.NaN\n",
    "\n",
    "for line in range(len(time)):\n",
    "\n",
    "    index = np.nonzero(tempoAjustado == time[line])\n",
    "\n",
    "    ulAjustado[index[0], :] = ul.iloc[line, :]\n",
    "    vlAjustado[index[0], :] = vl.iloc[line, :]"
   ]
  },
  {
   "cell_type": "code",
   "execution_count": 20,
   "id": "564ff0cd",
   "metadata": {},
   "outputs": [
    {
     "data": {
      "text/plain": [
       "(3160, 3160)"
      ]
     },
     "execution_count": 20,
     "metadata": {},
     "output_type": "execute_result"
    }
   ],
   "source": [
    "len(tempoAjustado), len(ulAjustado)"
   ]
  },
  {
   "cell_type": "code",
   "execution_count": 21,
   "id": "fc64d530",
   "metadata": {},
   "outputs": [
    {
     "data": {
      "text/plain": [
       "[<matplotlib.lines.Line2D at 0x7efeaac3e280>]"
      ]
     },
     "execution_count": 21,
     "metadata": {},
     "output_type": "execute_result"
    },
    {
     "data": {
      "image/png": "[encoded data removed]",
      "text/plain": [
       "<Figure size 432x288 with 1 Axes>"
      ]
     },
     "metadata": {
      "needs_background": "light"
     },
     "output_type": "display_data"
    }
   ],
   "source": [
    "plt.plot(tempoAjustado)"
   ]
  },
  {
   "cell_type": "markdown",
   "id": "4b0d4198",
   "metadata": {},
   "source": [
    "### criando um ruido branco"
   ]
  },
  {
   "cell_type": "code",
   "execution_count": 22,
   "id": "0124d4cd",
   "metadata": {},
   "outputs": [],
   "source": [
    "Length = len(vlAjustado)\n",
    "Noise = [np.cos(pi*k) for k in range(Length)]"
   ]
  },
  {
   "cell_type": "code",
   "execution_count": 23,
   "id": "8b5fd9f6",
   "metadata": {},
   "outputs": [
    {
     "data": {
      "text/plain": [
       "[<matplotlib.lines.Line2D at 0x7efeaabafeb0>]"
      ]
     },
     "execution_count": 23,
     "metadata": {},
     "output_type": "execute_result"
    },
    {
     "data": {
      "image/png": "[encoded data removed]",
      "text/plain": [
       "<Figure size 432x288 with 1 Axes>"
      ]
     },
     "metadata": {
      "needs_background": "light"
     },
     "output_type": "display_data"
    }
   ],
   "source": [
    "plt.plot(Noise,'-')"
   ]
  },
  {
   "cell_type": "markdown",
   "id": "95264e6e",
   "metadata": {},
   "source": [
    "### criando as matrizes para receber os dados filtrados"
   ]
  },
  {
   "cell_type": "code",
   "execution_count": 24,
   "id": "8f86e110",
   "metadata": {},
   "outputs": [],
   "source": [
    "ulFiltrado = np.zeros_like(ulAjustado)\n",
    "vlFiltrado = np.zeros_like(vlAjustado)\n",
    "\n",
    "ulFiltrado[:] = np.NaN\n",
    "vlFiltrado[:] = np.NaN\n",
    "\n",
    "# trocando nan por 0\n",
    "vlAjustado[np.isnan(vlAjustado)] = 0\n",
    "ulAjustado[np.isnan(ulAjustado)] = 0"
   ]
  },
  {
   "cell_type": "markdown",
   "id": "db27e01b",
   "metadata": {},
   "source": [
    "### filtrando os dados"
   ]
  },
  {
   "cell_type": "code",
   "execution_count": 25,
   "id": "9a54fdef",
   "metadata": {},
   "outputs": [],
   "source": [
    "for column in range(4):\n",
    "\n",
    "    # add ruido branco nos dados\n",
    "    vlAjustado[:, column] += Noise\n",
    "    ulAjustado[:, column] += Noise\n",
    "\n",
    "    \n",
    "    #filtragem\n",
    "    y = butter_low_pass_filter(vlAjustado[:, column], 2, 12)\n",
    "    x = butter_low_pass_filter(ulAjustado[:, column], 2, 12)\n",
    "\n",
    "    ulFiltrado[:, column] = x\n",
    "    vlFiltrado[:, column] = y\n"
   ]
  },
  {
   "cell_type": "code",
   "execution_count": 26,
   "id": "020afea2",
   "metadata": {},
   "outputs": [],
   "source": [
    "tempoSemBuraco = pd.date_range(start='2016-12-01 12:00', end='2017-12-31 09:00', freq='1H')"
   ]
  },
  {
   "cell_type": "markdown",
   "id": "d6f7553a",
   "metadata": {},
   "source": [
    "## remocao do ruido dos dados originais e filtrados"
   ]
  },
  {
   "cell_type": "code",
   "execution_count": 27,
   "id": "24979463",
   "metadata": {},
   "outputs": [],
   "source": [
    "for ii in range(4):\n",
    "    ulAjustado[:, ii] -= Noise\n",
    "    vlAjustado[:, ii] -= Noise\n",
    "    \n",
    "    ulFiltrado[:, ii] -= Noise\n",
    "    vlFiltrado[:, ii] -= Noise\n",
    "    "
   ]
  },
  {
   "cell_type": "code",
   "execution_count": 28,
   "id": "9d80b608",
   "metadata": {},
   "outputs": [],
   "source": [
    "ulAjustado[ulAjustado==0] = np.NaN\n",
    "vlAjustado[vlAjustado==0] = np.NaN\n",
    "\n",
    "\n",
    "ulFiltrado[ulFiltrado==0] = np.NaN\n",
    "vlFiltrado[vlFiltrado==0] = np.NaN"
   ]
  },
  {
   "cell_type": "code",
   "execution_count": 29,
   "id": "57c1f1d4",
   "metadata": {},
   "outputs": [
    {
     "data": {
      "text/plain": [
       "[<matplotlib.lines.Line2D at 0x7efeaabbbb50>]"
      ]
     },
     "execution_count": 29,
     "metadata": {},
     "output_type": "execute_result"
    },
    {
     "data": {
      "image/png": "[encoded data removed]",
      "text/plain": [
       "<Figure size 432x288 with 1 Axes>"
      ]
     },
     "metadata": {
      "needs_background": "light"
     },
     "output_type": "display_data"
    }
   ],
   "source": [
    "plt.plot(ulAjustado[:,3], '-b')\n",
    "plt.plot(ulFiltrado[:,3], '-r')"
   ]
  },
  {
   "cell_type": "markdown",
   "id": "7b599245",
   "metadata": {},
   "source": [
    "## realocamento dos dados"
   ]
  },
  {
   "cell_type": "code",
   "execution_count": 30,
   "id": "b1eb86cb",
   "metadata": {},
   "outputs": [],
   "source": [
    "ulFiltradoSemBuraco = np.zeros([len(tempoSemBuraco), 4])\n",
    "vlFiltradoSemBuraco = np.zeros([len(tempoSemBuraco), 4])\n",
    "\n",
    "ulFiltradoSemBuraco[:] = np.NaN\n",
    "vlFiltradoSemBuraco[:] = np.NaN\n",
    "\n",
    "\n",
    "for ii in range(len(tempoAjustado)):\n",
    "\n",
    "    index = np.nonzero(tempoSemBuraco == tempoAjustado[ii])\n",
    "\n",
    "    ulFiltradoSemBuraco[index[0], :] = ulFiltrado[ii, :]\n",
    "    vlFiltradoSemBuraco[index[0], :] = vlFiltrado[ii, :]\n",
    "    "
   ]
  },
  {
   "cell_type": "code",
   "execution_count": 31,
   "id": "7089ce62",
   "metadata": {},
   "outputs": [
    {
     "name": "stdout",
     "output_type": "stream",
     "text": [
      "realocamento feito com sucesso!\n"
     ]
    }
   ],
   "source": [
    "if len(ulFiltradoSemBuraco) == len(tempoSemBuraco):\n",
    "    print('realocamento feito com sucesso!')"
   ]
  },
  {
   "cell_type": "markdown",
   "id": "93dcbbf7",
   "metadata": {},
   "source": [
    "### cortando os dados fitrados do hycom "
   ]
  },
  {
   "cell_type": "code",
   "execution_count": 32,
   "id": "75aba95c",
   "metadata": {},
   "outputs": [],
   "source": [
    "limInferior = dtime.strptime('2016-11-18 20:00:00','%Y-%m-%d %H:%M:%S')\n",
    "limSuperior = dtime.strptime('2017-09-19 08:00:00','%Y-%m-%d %H:%M:%S')"
   ]
  },
  {
   "cell_type": "code",
   "execution_count": 33,
   "id": "da9eedfc",
   "metadata": {},
   "outputs": [],
   "source": [
    "condtime = ((limInferior <= tempoSemBuraco) & (tempoSemBuraco<= limSuperior))"
   ]
  },
  {
   "cell_type": "code",
   "execution_count": 34,
   "id": "bc235001",
   "metadata": {},
   "outputs": [],
   "source": [
    "dfu_cortado = pd.DataFrame(ulFiltradoSemBuraco[condtime])\n",
    "dfv_cortado = pd.DataFrame(vlFiltradoSemBuraco[condtime])"
   ]
  },
  {
   "cell_type": "markdown",
   "id": "5e1871c2",
   "metadata": {},
   "source": [
    "### interpolando os dados "
   ]
  },
  {
   "cell_type": "code",
   "execution_count": 35,
   "id": "cc638508",
   "metadata": {},
   "outputs": [],
   "source": [
    "dfu_cortado.interpolate(method='polynomial', order=2,limit=8, inplace=True)\n",
    "dfv_cortado.interpolate(method='polynomial', order=2,limit=8, inplace=True)"
   ]
  },
  {
   "cell_type": "code",
   "execution_count": 36,
   "id": "b5f4004d",
   "metadata": {},
   "outputs": [
    {
     "data": {
      "text/plain": [
       "[<matplotlib.lines.Line2D at 0x7efeaa15cd00>]"
      ]
     },
     "execution_count": 36,
     "metadata": {},
     "output_type": "execute_result"
    },
    {
     "data": {
      "image/png": "[encoded data removed]",
      "text/plain": [
       "<Figure size 432x288 with 1 Axes>"
      ]
     },
     "metadata": {
      "needs_background": "light"
     },
     "output_type": "display_data"
    }
   ],
   "source": [
    "plt.plot(dfu_cortado.iloc[:,3],'-b')"
   ]
  },
  {
   "cell_type": "code",
   "execution_count": 37,
   "id": "233205a7",
   "metadata": {},
   "outputs": [],
   "source": [
    "dfu[dfu==0]=np.NaN\n",
    "dfv[dfv==0]=np.NaN"
   ]
  },
  {
   "cell_type": "code",
   "execution_count": 38,
   "id": "052c6940",
   "metadata": {},
   "outputs": [],
   "source": [
    "dfu_cortado[dfu_cortado==0]=np.NaN\n",
    "dfv_cortado[dfv_cortado==0]=np.NaN"
   ]
  },
  {
   "cell_type": "code",
   "execution_count": 39,
   "id": "82e3c093",
   "metadata": {},
   "outputs": [],
   "source": [
    "column_names = np.copy(dfu.columns)\n",
    "dfu_cortado.columns = column_names\n",
    "dfv_cortado.columns = column_names"
   ]
  },
  {
   "cell_type": "code",
   "execution_count": 40,
   "id": "22e31d53",
   "metadata": {},
   "outputs": [],
   "source": [
    "dfu_cortado['time'] = tempoSemBuraco[condtime];\n",
    "dfv_cortado['time'] = tempoSemBuraco[condtime];"
   ]
  },
  {
   "cell_type": "code",
   "execution_count": 42,
   "id": "b6f86d2e",
   "metadata": {},
   "outputs": [
    {
     "data": {
      "text/html": [
       "<div>\n",
       "<style scoped>\n",
       "    .dataframe tbody tr th:only-of-type {\n",
       "        vertical-align: middle;\n",
       "    }\n",
       "\n",
       "    .dataframe tbody tr th {\n",
       "        vertical-align: top;\n",
       "    }\n",
       "\n",
       "    .dataframe thead th {\n",
       "        text-align: right;\n",
       "    }\n",
       "</style>\n",
       "<table border=\"1\" class=\"dataframe\">\n",
       "  <thead>\n",
       "    <tr style=\"text-align: right;\">\n",
       "      <th></th>\n",
       "      <th>8m</th>\n",
       "      <th>16m</th>\n",
       "      <th>32m</th>\n",
       "      <th>40m</th>\n",
       "      <th>time</th>\n",
       "    </tr>\n",
       "  </thead>\n",
       "  <tbody>\n",
       "    <tr>\n",
       "      <th>0</th>\n",
       "      <td>0.073046</td>\n",
       "      <td>0.076505</td>\n",
       "      <td>0.058715</td>\n",
       "      <td>0.041306</td>\n",
       "      <td>2016-12-01 12:00:00</td>\n",
       "    </tr>\n",
       "    <tr>\n",
       "      <th>1</th>\n",
       "      <td>1.345355</td>\n",
       "      <td>1.359159</td>\n",
       "      <td>1.332073</td>\n",
       "      <td>1.305007</td>\n",
       "      <td>2016-12-01 13:00:00</td>\n",
       "    </tr>\n",
       "    <tr>\n",
       "      <th>2</th>\n",
       "      <td>1.992463</td>\n",
       "      <td>2.016933</td>\n",
       "      <td>1.981405</td>\n",
       "      <td>1.944422</td>\n",
       "      <td>2016-12-01 14:00:00</td>\n",
       "    </tr>\n",
       "    <tr>\n",
       "      <th>3</th>\n",
       "      <td>2.014371</td>\n",
       "      <td>2.049828</td>\n",
       "      <td>2.006711</td>\n",
       "      <td>1.959553</td>\n",
       "      <td>2016-12-01 15:00:00</td>\n",
       "    </tr>\n",
       "    <tr>\n",
       "      <th>4</th>\n",
       "      <td>1.411078</td>\n",
       "      <td>1.457844</td>\n",
       "      <td>1.407990</td>\n",
       "      <td>1.350398</td>\n",
       "      <td>2016-12-01 16:00:00</td>\n",
       "    </tr>\n",
       "  </tbody>\n",
       "</table>\n",
       "</div>"
      ],
      "text/plain": [
       "         8m       16m       32m       40m                time\n",
       "0  0.073046  0.076505  0.058715  0.041306 2016-12-01 12:00:00\n",
       "1  1.345355  1.359159  1.332073  1.305007 2016-12-01 13:00:00\n",
       "2  1.992463  2.016933  1.981405  1.944422 2016-12-01 14:00:00\n",
       "3  2.014371  2.049828  2.006711  1.959553 2016-12-01 15:00:00\n",
       "4  1.411078  1.457844  1.407990  1.350398 2016-12-01 16:00:00"
      ]
     },
     "execution_count": 42,
     "metadata": {},
     "output_type": "execute_result"
    }
   ],
   "source": [
    "dfu_cortado.head()"
   ]
  },
  {
   "cell_type": "code",
   "execution_count": 43,
   "id": "db3b44cd",
   "metadata": {},
   "outputs": [
    {
     "data": {
      "text/plain": [
       "'/home/gus/Documentos/mestrado/dados-mestrado/dados-hycom/csv'"
      ]
     },
     "execution_count": 43,
     "metadata": {},
     "output_type": "execute_result"
    }
   ],
   "source": [
    "pwd"
   ]
  },
  {
   "cell_type": "code",
   "execution_count": 44,
   "id": "2d25a085",
   "metadata": {},
   "outputs": [],
   "source": [
    "dfu_cortado.to_csv('../dado_filtrado/hycom_ul_filtrado_total.csv', sep=';',index= False)\n",
    "dfv_cortado.to_csv('../dado_filtrado/hycom_vl_filtrado_total.csv', sep=';',index= False)"
   ]
  },
  {
   "cell_type": "code",
   "execution_count": 45,
   "id": "119a0d64",
   "metadata": {},
   "outputs": [
    {
     "data": {
      "text/plain": [
       "0      2016-12-01 12:00:00\n",
       "1      2016-12-01 13:00:00\n",
       "2      2016-12-01 14:00:00\n",
       "3      2016-12-01 15:00:00\n",
       "4      2016-12-01 16:00:00\n",
       "               ...        \n",
       "7000   2017-09-19 04:00:00\n",
       "7001   2017-09-19 05:00:00\n",
       "7002   2017-09-19 06:00:00\n",
       "7003   2017-09-19 07:00:00\n",
       "7004   2017-09-19 08:00:00\n",
       "Name: time, Length: 7005, dtype: datetime64[ns]"
      ]
     },
     "execution_count": 45,
     "metadata": {},
     "output_type": "execute_result"
    }
   ],
   "source": [
    "dfu_cortado.time"
   ]
  },
  {
   "cell_type": "markdown",
   "id": "3d405303",
   "metadata": {},
   "source": [
    "### Separando as duas séries"
   ]
  },
  {
   "cell_type": "code",
   "execution_count": null,
   "id": "10ce07a7",
   "metadata": {},
   "outputs": [],
   "source": [
    "\"\"\"\n",
    "limInferior1 = dtime.strptime('2016-11-19 06:00:00', \"%Y-%m-%d %H:%M:%S\")\n",
    "limSuperior1 = dtime.strptime('2017-04-14 12:00:00', \"%Y-%m-%d %H:%M:%S\")\n",
    "\n",
    "limInferior2 = dtime.strptime('2017-06-16 09:00:00', \"%Y-%m-%d %H:%M:%S\")\n",
    "limSuperior2 = dtime.strptime('2017-09-07 02:00:00', \"%Y-%m-%d %H:%M:%S\")\n",
    "\"\"\";"
   ]
  },
  {
   "cell_type": "code",
   "execution_count": null,
   "id": "6e5ad531",
   "metadata": {},
   "outputs": [],
   "source": [
    "\"\"\"\n",
    "condtime1 = ((limInferior1 <= dfu_cortado.time) & (dfu_cortado.time <= limSuperior1))\n",
    "condtime2 = ((limInferior2 <= dfu_cortado.time) & (dfu_cortado.time <= limSuperior2))\n",
    "\"\"\";"
   ]
  },
  {
   "cell_type": "code",
   "execution_count": null,
   "id": "20c61a42",
   "metadata": {},
   "outputs": [],
   "source": [
    "\"\"\"\n",
    "hycomZonal1 = dfu_cortado.loc[condtime1, :]\n",
    "hycomZonal2 = dfu_cortado.loc[condtime2, :]\n",
    "\n",
    "\n",
    "hycomMeridional1 = dfv_cortado.loc[condtime1, :]\n",
    "hycomMeridional2 = dfv_cortado.loc[condtime2, :]\n",
    "\"\"\";"
   ]
  },
  {
   "cell_type": "code",
   "execution_count": null,
   "id": "29acf0d2",
   "metadata": {},
   "outputs": [],
   "source": [
    "#hycomZonal1.head(2)"
   ]
  },
  {
   "cell_type": "code",
   "execution_count": null,
   "id": "08e0128e",
   "metadata": {},
   "outputs": [],
   "source": [
    "#hycomZonal1.tail(2)"
   ]
  },
  {
   "cell_type": "code",
   "execution_count": null,
   "id": "175a8025",
   "metadata": {},
   "outputs": [],
   "source": [
    "#hycomZonal2.head(2)"
   ]
  },
  {
   "cell_type": "code",
   "execution_count": null,
   "id": "bd3e38bd",
   "metadata": {},
   "outputs": [],
   "source": [
    "#hycomZonal2.tail(2)"
   ]
  },
  {
   "cell_type": "code",
   "execution_count": null,
   "id": "b6373897",
   "metadata": {},
   "outputs": [],
   "source": [
    "\"\"\"\n",
    "\n",
    "hycomZonal1.to_csv('HycomZonal1.csv', sep=';',index= False)\n",
    "hycomZonal2.to_csv('HycomZonal2.csv', sep=';',index= False)\n",
    "\n",
    "\n",
    "hycomMeridional1.to_csv('HycomMeridional1.csv', sep=';',index= False)\n",
    "hycomMeridional2.to_csv('HycomMeridional2.csv', sep=';',index= False)\n",
    "\"\"\";"
   ]
  },
  {
   "cell_type": "markdown",
   "id": "e99177df",
   "metadata": {},
   "source": [
    "### FIM"
   ]
  }
 ],
 "metadata": {
  "kernelspec": {
   "display_name": "Python 3 (ipykernel)",
   "language": "python",
   "name": "python3"
  },
  "language_info": {
   "codemirror_mode": {
    "name": "ipython",
    "version": 3
   },
   "file_extension": ".py",
   "mimetype": "text/x-python",
   "name": "python",
   "nbconvert_exporter": "python",
   "pygments_lexer": "ipython3",
   "version": "3.8.5"
  }
 },
 "nbformat": 4,
 "nbformat_minor": 5
}
