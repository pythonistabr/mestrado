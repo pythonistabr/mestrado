{
 "cells": [
  {
   "cell_type": "markdown",
   "metadata": {},
   "source": [
    "<p>\n",
    "Os dados da boia estão referenciados com base no norte magnético, ou seja 21°W em relação ao norte geográfico. As linhas de batimetria do ponto de fundeio possuem uma inclinacão de 60°W em relação ao norte geográfico. Para o cálculo das componentes paralelas e perpendiculares à costa os dados aqui tratados serão rotacionados 39W.\n",
    "</p>"
   ]
  },
  {
   "cell_type": "code",
   "execution_count": 1,
   "metadata": {},
   "outputs": [],
   "source": [
    "import filters\n",
    "import numpy as np\n",
    "import pandas as pd\n",
    "import datetime as dt\n",
    "import matplotlib.pyplot as plt"
   ]
  },
  {
   "cell_type": "code",
   "execution_count": 2,
   "metadata": {},
   "outputs": [],
   "source": [
    "def calcula_uv(magnitude, direcao):\n",
    "    \"\"\"\n",
    "    Funcao para calcular componentes u e v de\n",
    "    correntes na orientacao oceanografica. Ref:\n",
    "    Long, David G. Display and computation of\n",
    "    winds in oceanography and Meteorology.\n",
    "    MERS Technical Report.\n",
    "    \n",
    "    \"\"\"\n",
    "    from numpy import deg2rad, cos, sin\n",
    "    phi_u = (90 - direcao) % 360\n",
    "    phi_u = deg2rad(phi_u) #radianos\n",
    "    u = magnitude * cos(phi_u) #zonal\n",
    "    v = magnitude * sin(phi_u) #meridional\n",
    "    return u, v"
   ]
  },
  {
   "cell_type": "code",
   "execution_count": 3,
   "metadata": {},
   "outputs": [],
   "source": [
    "path = '/home/gus/Documentos/mestrado/dados-mestrado/dados-adcp-completos'"
   ]
  },
  {
   "cell_type": "code",
   "execution_count": 4,
   "metadata": {},
   "outputs": [],
   "source": [
    "df = pd.read_csv(path+'/adcp_fortaleza.csv', delimiter=';')"
   ]
  },
  {
   "cell_type": "code",
   "execution_count": 5,
   "metadata": {},
   "outputs": [
    {
     "data": {
      "text/plain": [
       "(9129, 44)"
      ]
     },
     "execution_count": 5,
     "metadata": {},
     "output_type": "execute_result"
    }
   ],
   "source": [
    "df.shape"
   ]
  },
  {
   "cell_type": "markdown",
   "metadata": {},
   "source": [
    "<p style=\"font-size:20px; color:black\"> Velocidade </p>"
   ]
  },
  {
   "cell_type": "code",
   "execution_count": 6,
   "metadata": {},
   "outputs": [],
   "source": [
    "velocity = np.array(df.iloc[:,4:45:2])*0.1\n",
    "direction = np.array(df.iloc[:,5:45:2])\n"
   ]
  },
  {
   "cell_type": "code",
   "execution_count": 7,
   "metadata": {},
   "outputs": [],
   "source": [
    "#Velocity = df.iloc[:,4:45:2]*0.1;\n",
    "#Direction = df.iloc[:,5:45:2]"
   ]
  },
  {
   "cell_type": "markdown",
   "metadata": {},
   "source": [
    "##### rotacionando  os dados"
   ]
  },
  {
   "cell_type": "code",
   "execution_count": 8,
   "metadata": {},
   "outputs": [],
   "source": [
    "# correcao magnetica e rotacao \n",
    "#direction += 21\n",
    "#direction[direction >360] -= 360\n"
   ]
  },
  {
   "cell_type": "markdown",
   "metadata": {},
   "source": [
    "##### calculo de u e v"
   ]
  },
  {
   "cell_type": "code",
   "execution_count": 9,
   "metadata": {},
   "outputs": [],
   "source": [
    "componentes = calcula_uv(velocity, direction)\n",
    "u, v = componentes[0], componentes[1]\n",
    "del componentes"
   ]
  },
  {
   "cell_type": "code",
   "execution_count": 10,
   "metadata": {},
   "outputs": [
    {
     "data": {
      "text/plain": [
       "((9129, 20), (9129, 20))"
      ]
     },
     "execution_count": 10,
     "metadata": {},
     "output_type": "execute_result"
    }
   ],
   "source": [
    "u.shape, v.shape"
   ]
  },
  {
   "cell_type": "markdown",
   "metadata": {},
   "source": [
    "<p style=\"font-size:20px; color:black\"> Tempo </p>"
   ]
  },
  {
   "cell_type": "code",
   "execution_count": 11,
   "metadata": {},
   "outputs": [],
   "source": [
    "Ano = (df.year+2000).astype(str);\n",
    "Mes = df.month.astype(str);\n",
    "Dia = df.day.astype(str);\n",
    "Hora = df.hour.astype(str);\n",
    "\n",
    "Time = Dia+'/'+ Mes + '/'+ Ano +' '+ Hora +':'+'00';\n",
    "\n",
    "del Ano, Mes, Dia, Hora;"
   ]
  },
  {
   "cell_type": "code",
   "execution_count": 12,
   "metadata": {},
   "outputs": [],
   "source": [
    "timeBoia = [];\n",
    "\n",
    "for iterator in Time:\n",
    "    timeBoia.append(dt.datetime.strptime\n",
    "                     (iterator,'%d/%m/%Y %H:%M'));\n",
    "del Time;"
   ]
  },
  {
   "cell_type": "code",
   "execution_count": 13,
   "metadata": {},
   "outputs": [
    {
     "name": "stdout",
     "output_type": "stream",
     "text": [
      "(9138,)\n"
     ]
    }
   ],
   "source": [
    "timeContinuo = pd.date_range(start='2016-11-18 20:00',\n",
    "                             end ='2017-12-04 13', freq='1H')\n",
    "print(timeContinuo.shape)"
   ]
  },
  {
   "cell_type": "markdown",
   "metadata": {},
   "source": [
    "<p style=\"font-size:16px; color:black\"> Criando uma matriz sem lacunas no tempo para receber os dados\n",
    "de u e v </p>"
   ]
  },
  {
   "cell_type": "code",
   "execution_count": 14,
   "metadata": {},
   "outputs": [
    {
     "name": "stdout",
     "output_type": "stream",
     "text": [
      "Os dados da boia possuem lacunas no tempo\n"
     ]
    }
   ],
   "source": [
    "if len(timeBoia) != len(timeContinuo):\n",
    "    print('Os dados da boia possuem lacunas no tempo')"
   ]
  },
  {
   "cell_type": "code",
   "execution_count": 15,
   "metadata": {},
   "outputs": [],
   "source": [
    "del df"
   ]
  },
  {
   "cell_type": "code",
   "execution_count": 16,
   "metadata": {},
   "outputs": [],
   "source": [
    "u_tempo_continuo = np.zeros([len(timeContinuo), 20])\n",
    "v_tempo_continuo = np.zeros([len(timeContinuo), 20])\n",
    "\n",
    "u_tempo_continuo.fill(np.nan)\n",
    "v_tempo_continuo.fill(np.nan)"
   ]
  },
  {
   "cell_type": "markdown",
   "metadata": {},
   "source": [
    "<p style=\"font-size:16px; color:black\"> Preenchendo as matrizes <b>u </b> e <b>v</b> continuas no tempo </p>"
   ]
  },
  {
   "cell_type": "code",
   "execution_count": 17,
   "metadata": {},
   "outputs": [
    {
     "name": "stdout",
     "output_type": "stream",
     "text": [
      "CPU times: user 4 µs, sys: 2 µs, total: 6 µs\n",
      "Wall time: 11.9 µs\n"
     ]
    }
   ],
   "source": [
    "%time\n",
    "\n",
    "line = 0\n",
    "\n",
    "for time in timeBoia:\n",
    "\n",
    "    idx = np.where(timeContinuo == time)\n",
    "\n",
    "    idx = idx[0]\n",
    "\n",
    "    u_tempo_continuo[idx,:] = u[line,:]\n",
    "\n",
    "    v_tempo_continuo[idx,:] = v[line,:]\n",
    "\n",
    "    line += 1\n",
    "\n",
    "u = np.copy(u_tempo_continuo)\n",
    "\n",
    "v = np.copy(v_tempo_continuo)\n",
    "\n",
    "#del (u_tempo_continuo, v_tempo_continuo, direction,\n",
    "#    timeBoia, velocity, time)"
   ]
  },
  {
   "cell_type": "markdown",
   "metadata": {},
   "source": [
    "<p style=\"font-size:20px; color:black\"> Filtros de limpeza </p> \n",
    "<p>Aqui irei passar o filtro de media temporal sobre os dados u e v </p>"
   ]
  },
  {
   "cell_type": "code",
   "execution_count": 18,
   "metadata": {},
   "outputs": [],
   "source": [
    "uFiltrado= np.copy(u)\n",
    "vFiltrado = np.copy(v)\n",
    "\n",
    "uFiltrado.fill(np.NaN)\n",
    "vFiltrado.fill(np.NaN)\n",
    "   "
   ]
  },
  {
   "cell_type": "code",
   "execution_count": 19,
   "metadata": {},
   "outputs": [
    {
     "name": "stderr",
     "output_type": "stream",
     "text": [
      "/home/gus/Documentos/scripts/python_scripts/corrente/adcp/filters.py:28: RuntimeWarning: Mean of empty slice\n",
      "  mean = nanmean(vector[line - window:\n",
      "/home/gus/miniconda3/envs/ocean_env/lib/python3.8/site-packages/numpy/lib/nanfunctions.py:1666: RuntimeWarning: Degrees of freedom <= 0 for slice.\n",
      "  var = nanvar(a, axis=axis, dtype=dtype, out=out, ddof=ddof,\n"
     ]
    },
    {
     "name": "stdout",
     "output_type": "stream",
     "text": [
      "CPU times: user 1min 24s, sys: 168 ms, total: 1min 24s\n",
      "Wall time: 1min 24s\n"
     ]
    }
   ],
   "source": [
    "%%time\n",
    "\n",
    "for colunm in range(0,20,1):\n",
    "    \n",
    "    x = filters.remove_outliers( u[:, colunm], 6)\n",
    "    y = filters.remove_outliers( v[:, colunm], 6)\n",
    "    \n",
    "    uFiltrado [:, colunm] = x\n",
    "    vFiltrado [:, colunm] = y\n",
    "    \n",
    "    del x, y"
   ]
  },
  {
   "cell_type": "code",
   "execution_count": 20,
   "metadata": {},
   "outputs": [],
   "source": [
    "# substituindo -99999 por NaN\n",
    "\n",
    "uFiltrado[uFiltrado == -99999] = np.NaN\n",
    "vFiltrado[vFiltrado== -99999] = np.NaN"
   ]
  },
  {
   "cell_type": "code",
   "execution_count": 21,
   "metadata": {},
   "outputs": [
    {
     "data": {
      "image/png": "[encoded data removed]",
      "text/plain": [
       "<Figure size 432x288 with 1 Axes>"
      ]
     },
     "metadata": {
      "needs_background": "light"
     },
     "output_type": "display_data"
    }
   ],
   "source": [
    "plt.hist(vFiltrado);"
   ]
  },
  {
   "cell_type": "code",
   "execution_count": 22,
   "metadata": {},
   "outputs": [
    {
     "data": {
      "image/png": "[encoded data removed]",
      "text/plain": [
       "<Figure size 432x288 with 1 Axes>"
      ]
     },
     "metadata": {
      "needs_background": "light"
     },
     "output_type": "display_data"
    }
   ],
   "source": [
    "plt.hist(uFiltrado);"
   ]
  },
  {
   "cell_type": "code",
   "execution_count": 23,
   "metadata": {},
   "outputs": [],
   "source": [
    "#v_filtered[v_filtered > 250] = np.NaN\n",
    "#u_filtered[u_filtered > 250] = np.NaN"
   ]
  },
  {
   "cell_type": "code",
   "execution_count": 26,
   "metadata": {},
   "outputs": [
    {
     "name": "stdout",
     "output_type": "stream",
     "text": [
      "0 \t 0\n",
      "0 \t 0\n",
      "0 \t 0\n",
      "0 \t 0\n",
      "0 \t 0\n",
      "0 \t 0\n",
      "0 \t 6\n",
      "0 \t 4\n",
      "0 \t 5\n",
      "0 \t 4\n",
      "0 \t 0\n",
      "0 \t 0\n",
      "0 \t 0\n",
      "0 \t 0\n",
      "0 \t 0\n",
      "0 \t 0\n",
      "0 \t 0\n",
      "0 \t 0\n",
      "0 \t 0\n",
      "0 \t 1\n"
     ]
    }
   ],
   "source": [
    "# contando a ocorrencia de valores > 150 cm/s\n",
    "for column in range(20):\n",
    "    print((uFiltrado[:,column]>150).sum(),\\\n",
    "          '\\t',(vFiltrado[:,column]>150).sum())"
   ]
  },
  {
   "cell_type": "code",
   "execution_count": 27,
   "metadata": {},
   "outputs": [
    {
     "name": "stdout",
     "output_type": "stream",
     "text": [
      "0 \t 0\n",
      "0 \t 0\n",
      "0 \t 0\n",
      "0 \t 0\n",
      "0 \t 1\n",
      "0 \t 1\n",
      "0 \t 0\n",
      "0 \t 0\n",
      "0 \t 0\n",
      "0 \t 0\n",
      "0 \t 0\n",
      "0 \t 0\n",
      "0 \t 0\n",
      "0 \t 0\n",
      "0 \t 0\n",
      "0 \t 0\n",
      "0 \t 0\n",
      "0 \t 0\n",
      "0 \t 0\n",
      "7 \t 1\n"
     ]
    }
   ],
   "source": [
    "#contando a ocorrencia de valores < -150cm/s\n",
    "for column in range(20):\n",
    "    print((uFiltrado[:,column]<-150).sum(),\\\n",
    "          '\\t',(vFiltrado[:,column]<-150).sum())"
   ]
  },
  {
   "cell_type": "markdown",
   "metadata": {},
   "source": [
    "<p style=\"font-size:20px; color:black\">Salvando os dados rotacionados e limpos </p>"
   ]
  },
  {
   "cell_type": "code",
   "execution_count": 28,
   "metadata": {},
   "outputs": [],
   "source": [
    "uFiltrado = pd.DataFrame(uFiltrado)\n",
    "vFiltrado = pd.DataFrame(vFiltrado)"
   ]
  },
  {
   "cell_type": "code",
   "execution_count": 29,
   "metadata": {},
   "outputs": [],
   "source": [
    "numeros = np.arange(1, 21, 1)\n",
    "u_names = ['u'+str(ii) for ii in numeros]\n",
    "v_names = ['v'+str(ii) for ii in numeros]"
   ]
  },
  {
   "cell_type": "code",
   "execution_count": 30,
   "metadata": {},
   "outputs": [],
   "source": [
    "# nome das colunas\n",
    "uFiltrado.columns = u_names\n",
    "vFiltrado.columns = v_names"
   ]
  },
  {
   "cell_type": "code",
   "execution_count": 31,
   "metadata": {},
   "outputs": [
    {
     "data": {
      "text/html": [
       "<div>\n",
       "<style scoped>\n",
       "    .dataframe tbody tr th:only-of-type {\n",
       "        vertical-align: middle;\n",
       "    }\n",
       "\n",
       "    .dataframe tbody tr th {\n",
       "        vertical-align: top;\n",
       "    }\n",
       "\n",
       "    .dataframe thead th {\n",
       "        text-align: right;\n",
       "    }\n",
       "</style>\n",
       "<table border=\"1\" class=\"dataframe\">\n",
       "  <thead>\n",
       "    <tr style=\"text-align: right;\">\n",
       "      <th></th>\n",
       "      <th>u1</th>\n",
       "      <th>u2</th>\n",
       "      <th>u3</th>\n",
       "      <th>u4</th>\n",
       "      <th>u5</th>\n",
       "      <th>u6</th>\n",
       "      <th>u7</th>\n",
       "      <th>u8</th>\n",
       "      <th>u9</th>\n",
       "      <th>u10</th>\n",
       "      <th>u11</th>\n",
       "      <th>u12</th>\n",
       "      <th>u13</th>\n",
       "      <th>u14</th>\n",
       "      <th>u15</th>\n",
       "      <th>u16</th>\n",
       "      <th>u17</th>\n",
       "      <th>u18</th>\n",
       "      <th>u19</th>\n",
       "      <th>u20</th>\n",
       "    </tr>\n",
       "  </thead>\n",
       "  <tbody>\n",
       "    <tr>\n",
       "      <th>count</th>\n",
       "      <td>5095.000000</td>\n",
       "      <td>5121.000000</td>\n",
       "      <td>5125.000000</td>\n",
       "      <td>5136.000000</td>\n",
       "      <td>5128.000000</td>\n",
       "      <td>5135.000000</td>\n",
       "      <td>5137.000000</td>\n",
       "      <td>5142.000000</td>\n",
       "      <td>5134.000000</td>\n",
       "      <td>5132.000000</td>\n",
       "      <td>5114.000000</td>\n",
       "      <td>5115.000000</td>\n",
       "      <td>5100.000000</td>\n",
       "      <td>5099.000000</td>\n",
       "      <td>5086.000000</td>\n",
       "      <td>5083.000000</td>\n",
       "      <td>5079.000000</td>\n",
       "      <td>5070.000000</td>\n",
       "      <td>5089.000000</td>\n",
       "      <td>5072.000000</td>\n",
       "    </tr>\n",
       "    <tr>\n",
       "      <th>mean</th>\n",
       "      <td>-29.682421</td>\n",
       "      <td>-31.600401</td>\n",
       "      <td>-30.636503</td>\n",
       "      <td>-29.801318</td>\n",
       "      <td>-29.084540</td>\n",
       "      <td>-28.336859</td>\n",
       "      <td>-27.506386</td>\n",
       "      <td>-27.464396</td>\n",
       "      <td>-27.134142</td>\n",
       "      <td>-26.855432</td>\n",
       "      <td>-26.825103</td>\n",
       "      <td>-27.004955</td>\n",
       "      <td>-27.387555</td>\n",
       "      <td>-27.899873</td>\n",
       "      <td>-28.448843</td>\n",
       "      <td>-29.424954</td>\n",
       "      <td>-32.037823</td>\n",
       "      <td>-35.011584</td>\n",
       "      <td>-38.736942</td>\n",
       "      <td>-44.329472</td>\n",
       "    </tr>\n",
       "    <tr>\n",
       "      <th>std</th>\n",
       "      <td>12.937629</td>\n",
       "      <td>14.990110</td>\n",
       "      <td>14.380169</td>\n",
       "      <td>13.787517</td>\n",
       "      <td>13.212628</td>\n",
       "      <td>12.791102</td>\n",
       "      <td>12.294058</td>\n",
       "      <td>12.095897</td>\n",
       "      <td>11.812572</td>\n",
       "      <td>11.535763</td>\n",
       "      <td>11.466917</td>\n",
       "      <td>11.494633</td>\n",
       "      <td>11.814076</td>\n",
       "      <td>12.510155</td>\n",
       "      <td>13.555590</td>\n",
       "      <td>15.276901</td>\n",
       "      <td>17.649218</td>\n",
       "      <td>20.598713</td>\n",
       "      <td>24.880695</td>\n",
       "      <td>29.759710</td>\n",
       "    </tr>\n",
       "    <tr>\n",
       "      <th>min</th>\n",
       "      <td>-82.764632</td>\n",
       "      <td>-96.634897</td>\n",
       "      <td>-97.353669</td>\n",
       "      <td>-93.595635</td>\n",
       "      <td>-88.647479</td>\n",
       "      <td>-88.716816</td>\n",
       "      <td>-87.772978</td>\n",
       "      <td>-84.946067</td>\n",
       "      <td>-83.898602</td>\n",
       "      <td>-80.932222</td>\n",
       "      <td>-81.301095</td>\n",
       "      <td>-79.459656</td>\n",
       "      <td>-82.815992</td>\n",
       "      <td>-93.254582</td>\n",
       "      <td>-96.866433</td>\n",
       "      <td>-108.236300</td>\n",
       "      <td>-114.966731</td>\n",
       "      <td>-128.822039</td>\n",
       "      <td>-149.475474</td>\n",
       "      <td>-176.069663</td>\n",
       "    </tr>\n",
       "    <tr>\n",
       "      <th>25%</th>\n",
       "      <td>-36.373936</td>\n",
       "      <td>-39.133140</td>\n",
       "      <td>-38.345142</td>\n",
       "      <td>-37.342647</td>\n",
       "      <td>-36.686760</td>\n",
       "      <td>-35.825208</td>\n",
       "      <td>-34.666165</td>\n",
       "      <td>-34.725450</td>\n",
       "      <td>-34.153346</td>\n",
       "      <td>-34.100434</td>\n",
       "      <td>-33.861048</td>\n",
       "      <td>-34.030630</td>\n",
       "      <td>-34.375417</td>\n",
       "      <td>-35.099487</td>\n",
       "      <td>-35.960535</td>\n",
       "      <td>-38.107009</td>\n",
       "      <td>-42.420437</td>\n",
       "      <td>-47.327586</td>\n",
       "      <td>-53.137633</td>\n",
       "      <td>-61.890721</td>\n",
       "    </tr>\n",
       "    <tr>\n",
       "      <th>50%</th>\n",
       "      <td>-27.807413</td>\n",
       "      <td>-29.387222</td>\n",
       "      <td>-28.712131</td>\n",
       "      <td>-27.933085</td>\n",
       "      <td>-27.571885</td>\n",
       "      <td>-27.081676</td>\n",
       "      <td>-26.504785</td>\n",
       "      <td>-26.473354</td>\n",
       "      <td>-26.114613</td>\n",
       "      <td>-25.931877</td>\n",
       "      <td>-25.962533</td>\n",
       "      <td>-25.875791</td>\n",
       "      <td>-26.112070</td>\n",
       "      <td>-26.529736</td>\n",
       "      <td>-27.410032</td>\n",
       "      <td>-28.660625</td>\n",
       "      <td>-30.921256</td>\n",
       "      <td>-33.670572</td>\n",
       "      <td>-37.201061</td>\n",
       "      <td>-42.539764</td>\n",
       "    </tr>\n",
       "    <tr>\n",
       "      <th>75%</th>\n",
       "      <td>-21.061510</td>\n",
       "      <td>-21.479495</td>\n",
       "      <td>-20.826319</td>\n",
       "      <td>-20.537739</td>\n",
       "      <td>-20.033973</td>\n",
       "      <td>-19.687038</td>\n",
       "      <td>-19.247116</td>\n",
       "      <td>-19.170723</td>\n",
       "      <td>-19.028295</td>\n",
       "      <td>-18.891355</td>\n",
       "      <td>-18.997902</td>\n",
       "      <td>-19.157661</td>\n",
       "      <td>-19.454679</td>\n",
       "      <td>-19.695171</td>\n",
       "      <td>-19.774590</td>\n",
       "      <td>-19.639601</td>\n",
       "      <td>-20.650272</td>\n",
       "      <td>-21.697353</td>\n",
       "      <td>-22.340874</td>\n",
       "      <td>-24.519901</td>\n",
       "    </tr>\n",
       "    <tr>\n",
       "      <th>max</th>\n",
       "      <td>49.081359</td>\n",
       "      <td>58.799921</td>\n",
       "      <td>50.667243</td>\n",
       "      <td>62.158035</td>\n",
       "      <td>62.535207</td>\n",
       "      <td>95.208833</td>\n",
       "      <td>48.118030</td>\n",
       "      <td>52.648375</td>\n",
       "      <td>72.037258</td>\n",
       "      <td>48.695552</td>\n",
       "      <td>73.719143</td>\n",
       "      <td>56.644237</td>\n",
       "      <td>72.605249</td>\n",
       "      <td>38.795846</td>\n",
       "      <td>48.000000</td>\n",
       "      <td>55.522199</td>\n",
       "      <td>64.756780</td>\n",
       "      <td>69.804252</td>\n",
       "      <td>70.651787</td>\n",
       "      <td>91.327104</td>\n",
       "    </tr>\n",
       "  </tbody>\n",
       "</table>\n",
       "</div>"
      ],
      "text/plain": [
       "                u1           u2           u3           u4           u5  \\\n",
       "count  5095.000000  5121.000000  5125.000000  5136.000000  5128.000000   \n",
       "mean    -29.682421   -31.600401   -30.636503   -29.801318   -29.084540   \n",
       "std      12.937629    14.990110    14.380169    13.787517    13.212628   \n",
       "min     -82.764632   -96.634897   -97.353669   -93.595635   -88.647479   \n",
       "25%     -36.373936   -39.133140   -38.345142   -37.342647   -36.686760   \n",
       "50%     -27.807413   -29.387222   -28.712131   -27.933085   -27.571885   \n",
       "75%     -21.061510   -21.479495   -20.826319   -20.537739   -20.033973   \n",
       "max      49.081359    58.799921    50.667243    62.158035    62.535207   \n",
       "\n",
       "                u6           u7           u8           u9          u10  \\\n",
       "count  5135.000000  5137.000000  5142.000000  5134.000000  5132.000000   \n",
       "mean    -28.336859   -27.506386   -27.464396   -27.134142   -26.855432   \n",
       "std      12.791102    12.294058    12.095897    11.812572    11.535763   \n",
       "min     -88.716816   -87.772978   -84.946067   -83.898602   -80.932222   \n",
       "25%     -35.825208   -34.666165   -34.725450   -34.153346   -34.100434   \n",
       "50%     -27.081676   -26.504785   -26.473354   -26.114613   -25.931877   \n",
       "75%     -19.687038   -19.247116   -19.170723   -19.028295   -18.891355   \n",
       "max      95.208833    48.118030    52.648375    72.037258    48.695552   \n",
       "\n",
       "               u11          u12          u13          u14          u15  \\\n",
       "count  5114.000000  5115.000000  5100.000000  5099.000000  5086.000000   \n",
       "mean    -26.825103   -27.004955   -27.387555   -27.899873   -28.448843   \n",
       "std      11.466917    11.494633    11.814076    12.510155    13.555590   \n",
       "min     -81.301095   -79.459656   -82.815992   -93.254582   -96.866433   \n",
       "25%     -33.861048   -34.030630   -34.375417   -35.099487   -35.960535   \n",
       "50%     -25.962533   -25.875791   -26.112070   -26.529736   -27.410032   \n",
       "75%     -18.997902   -19.157661   -19.454679   -19.695171   -19.774590   \n",
       "max      73.719143    56.644237    72.605249    38.795846    48.000000   \n",
       "\n",
       "               u16          u17          u18          u19          u20  \n",
       "count  5083.000000  5079.000000  5070.000000  5089.000000  5072.000000  \n",
       "mean    -29.424954   -32.037823   -35.011584   -38.736942   -44.329472  \n",
       "std      15.276901    17.649218    20.598713    24.880695    29.759710  \n",
       "min    -108.236300  -114.966731  -128.822039  -149.475474  -176.069663  \n",
       "25%     -38.107009   -42.420437   -47.327586   -53.137633   -61.890721  \n",
       "50%     -28.660625   -30.921256   -33.670572   -37.201061   -42.539764  \n",
       "75%     -19.639601   -20.650272   -21.697353   -22.340874   -24.519901  \n",
       "max      55.522199    64.756780    69.804252    70.651787    91.327104  "
      ]
     },
     "execution_count": 31,
     "metadata": {},
     "output_type": "execute_result"
    }
   ],
   "source": [
    "uFiltrado.describe()"
   ]
  },
  {
   "cell_type": "code",
   "execution_count": 32,
   "metadata": {},
   "outputs": [
    {
     "data": {
      "text/html": [
       "<div>\n",
       "<style scoped>\n",
       "    .dataframe tbody tr th:only-of-type {\n",
       "        vertical-align: middle;\n",
       "    }\n",
       "\n",
       "    .dataframe tbody tr th {\n",
       "        vertical-align: top;\n",
       "    }\n",
       "\n",
       "    .dataframe thead th {\n",
       "        text-align: right;\n",
       "    }\n",
       "</style>\n",
       "<table border=\"1\" class=\"dataframe\">\n",
       "  <thead>\n",
       "    <tr style=\"text-align: right;\">\n",
       "      <th></th>\n",
       "      <th>v1</th>\n",
       "      <th>v2</th>\n",
       "      <th>v3</th>\n",
       "      <th>v4</th>\n",
       "      <th>v5</th>\n",
       "      <th>v6</th>\n",
       "      <th>v7</th>\n",
       "      <th>v8</th>\n",
       "      <th>v9</th>\n",
       "      <th>v10</th>\n",
       "      <th>v11</th>\n",
       "      <th>v12</th>\n",
       "      <th>v13</th>\n",
       "      <th>v14</th>\n",
       "      <th>v15</th>\n",
       "      <th>v16</th>\n",
       "      <th>v17</th>\n",
       "      <th>v18</th>\n",
       "      <th>v19</th>\n",
       "      <th>v20</th>\n",
       "    </tr>\n",
       "  </thead>\n",
       "  <tbody>\n",
       "    <tr>\n",
       "      <th>count</th>\n",
       "      <td>5112.000000</td>\n",
       "      <td>5131.000000</td>\n",
       "      <td>5139.000000</td>\n",
       "      <td>5155.000000</td>\n",
       "      <td>5146.000000</td>\n",
       "      <td>5135.000000</td>\n",
       "      <td>5130.000000</td>\n",
       "      <td>5132.000000</td>\n",
       "      <td>5150.000000</td>\n",
       "      <td>5147.000000</td>\n",
       "      <td>5147.000000</td>\n",
       "      <td>5136.000000</td>\n",
       "      <td>5127.000000</td>\n",
       "      <td>5109.000000</td>\n",
       "      <td>5117.000000</td>\n",
       "      <td>5108.000000</td>\n",
       "      <td>5087.000000</td>\n",
       "      <td>5055.000000</td>\n",
       "      <td>5047.000000</td>\n",
       "      <td>5055.000000</td>\n",
       "    </tr>\n",
       "    <tr>\n",
       "      <th>mean</th>\n",
       "      <td>22.984222</td>\n",
       "      <td>26.512572</td>\n",
       "      <td>26.667480</td>\n",
       "      <td>26.275253</td>\n",
       "      <td>26.002296</td>\n",
       "      <td>25.579946</td>\n",
       "      <td>27.683634</td>\n",
       "      <td>26.658537</td>\n",
       "      <td>26.357051</td>\n",
       "      <td>25.404934</td>\n",
       "      <td>23.783167</td>\n",
       "      <td>22.833982</td>\n",
       "      <td>21.467188</td>\n",
       "      <td>19.073005</td>\n",
       "      <td>16.218535</td>\n",
       "      <td>12.527994</td>\n",
       "      <td>9.268105</td>\n",
       "      <td>4.722912</td>\n",
       "      <td>0.018138</td>\n",
       "      <td>2.989352</td>\n",
       "    </tr>\n",
       "    <tr>\n",
       "      <th>std</th>\n",
       "      <td>13.035914</td>\n",
       "      <td>14.087672</td>\n",
       "      <td>13.807562</td>\n",
       "      <td>13.605980</td>\n",
       "      <td>13.378443</td>\n",
       "      <td>12.934003</td>\n",
       "      <td>82.139228</td>\n",
       "      <td>53.627463</td>\n",
       "      <td>45.614013</td>\n",
       "      <td>35.179330</td>\n",
       "      <td>12.990751</td>\n",
       "      <td>12.820557</td>\n",
       "      <td>12.894347</td>\n",
       "      <td>13.272466</td>\n",
       "      <td>13.967095</td>\n",
       "      <td>15.125452</td>\n",
       "      <td>17.037667</td>\n",
       "      <td>19.980606</td>\n",
       "      <td>23.759484</td>\n",
       "      <td>31.650320</td>\n",
       "    </tr>\n",
       "    <tr>\n",
       "      <th>min</th>\n",
       "      <td>-15.290421</td>\n",
       "      <td>-38.341184</td>\n",
       "      <td>-19.808075</td>\n",
       "      <td>-116.902261</td>\n",
       "      <td>-162.909784</td>\n",
       "      <td>-179.061772</td>\n",
       "      <td>-25.336412</td>\n",
       "      <td>-107.945165</td>\n",
       "      <td>-95.596671</td>\n",
       "      <td>-50.425720</td>\n",
       "      <td>-47.873771</td>\n",
       "      <td>-30.918084</td>\n",
       "      <td>-65.374060</td>\n",
       "      <td>-79.543273</td>\n",
       "      <td>-83.138439</td>\n",
       "      <td>-79.293918</td>\n",
       "      <td>-92.482266</td>\n",
       "      <td>-99.690804</td>\n",
       "      <td>-144.885600</td>\n",
       "      <td>-153.392847</td>\n",
       "    </tr>\n",
       "    <tr>\n",
       "      <th>25%</th>\n",
       "      <td>14.833901</td>\n",
       "      <td>17.268237</td>\n",
       "      <td>17.457537</td>\n",
       "      <td>17.122586</td>\n",
       "      <td>17.009202</td>\n",
       "      <td>16.896560</td>\n",
       "      <td>16.600903</td>\n",
       "      <td>16.449945</td>\n",
       "      <td>16.236156</td>\n",
       "      <td>15.789692</td>\n",
       "      <td>15.204282</td>\n",
       "      <td>14.283305</td>\n",
       "      <td>12.853180</td>\n",
       "      <td>10.379196</td>\n",
       "      <td>7.194135</td>\n",
       "      <td>2.826284</td>\n",
       "      <td>-1.521159</td>\n",
       "      <td>-7.140816</td>\n",
       "      <td>-13.213321</td>\n",
       "      <td>-15.428151</td>\n",
       "    </tr>\n",
       "    <tr>\n",
       "      <th>50%</th>\n",
       "      <td>21.577515</td>\n",
       "      <td>24.864637</td>\n",
       "      <td>24.954031</td>\n",
       "      <td>24.749591</td>\n",
       "      <td>24.549536</td>\n",
       "      <td>24.233093</td>\n",
       "      <td>23.700628</td>\n",
       "      <td>23.850033</td>\n",
       "      <td>23.639611</td>\n",
       "      <td>23.110777</td>\n",
       "      <td>22.433288</td>\n",
       "      <td>21.650318</td>\n",
       "      <td>20.490981</td>\n",
       "      <td>18.397447</td>\n",
       "      <td>15.947374</td>\n",
       "      <td>12.530727</td>\n",
       "      <td>9.474033</td>\n",
       "      <td>5.466311</td>\n",
       "      <td>0.701587</td>\n",
       "      <td>1.912084</td>\n",
       "    </tr>\n",
       "    <tr>\n",
       "      <th>75%</th>\n",
       "      <td>29.127847</td>\n",
       "      <td>33.442828</td>\n",
       "      <td>33.440171</td>\n",
       "      <td>33.349358</td>\n",
       "      <td>33.170536</td>\n",
       "      <td>32.715337</td>\n",
       "      <td>32.093181</td>\n",
       "      <td>32.582240</td>\n",
       "      <td>32.352576</td>\n",
       "      <td>31.622210</td>\n",
       "      <td>31.124236</td>\n",
       "      <td>30.178715</td>\n",
       "      <td>29.105779</td>\n",
       "      <td>27.352628</td>\n",
       "      <td>25.016176</td>\n",
       "      <td>22.646897</td>\n",
       "      <td>20.511677</td>\n",
       "      <td>17.692188</td>\n",
       "      <td>15.256225</td>\n",
       "      <td>20.863201</td>\n",
       "    </tr>\n",
       "    <tr>\n",
       "      <th>max</th>\n",
       "      <td>128.527549</td>\n",
       "      <td>108.272678</td>\n",
       "      <td>95.744630</td>\n",
       "      <td>88.960245</td>\n",
       "      <td>87.641771</td>\n",
       "      <td>82.214252</td>\n",
       "      <td>3062.300000</td>\n",
       "      <td>1961.401224</td>\n",
       "      <td>1552.400000</td>\n",
       "      <td>1234.311980</td>\n",
       "      <td>86.545580</td>\n",
       "      <td>86.705805</td>\n",
       "      <td>85.015493</td>\n",
       "      <td>84.711695</td>\n",
       "      <td>84.283011</td>\n",
       "      <td>87.546636</td>\n",
       "      <td>84.027287</td>\n",
       "      <td>80.004637</td>\n",
       "      <td>83.620905</td>\n",
       "      <td>157.616329</td>\n",
       "    </tr>\n",
       "  </tbody>\n",
       "</table>\n",
       "</div>"
      ],
      "text/plain": [
       "                v1           v2           v3           v4           v5  \\\n",
       "count  5112.000000  5131.000000  5139.000000  5155.000000  5146.000000   \n",
       "mean     22.984222    26.512572    26.667480    26.275253    26.002296   \n",
       "std      13.035914    14.087672    13.807562    13.605980    13.378443   \n",
       "min     -15.290421   -38.341184   -19.808075  -116.902261  -162.909784   \n",
       "25%      14.833901    17.268237    17.457537    17.122586    17.009202   \n",
       "50%      21.577515    24.864637    24.954031    24.749591    24.549536   \n",
       "75%      29.127847    33.442828    33.440171    33.349358    33.170536   \n",
       "max     128.527549   108.272678    95.744630    88.960245    87.641771   \n",
       "\n",
       "                v6           v7           v8           v9          v10  \\\n",
       "count  5135.000000  5130.000000  5132.000000  5150.000000  5147.000000   \n",
       "mean     25.579946    27.683634    26.658537    26.357051    25.404934   \n",
       "std      12.934003    82.139228    53.627463    45.614013    35.179330   \n",
       "min    -179.061772   -25.336412  -107.945165   -95.596671   -50.425720   \n",
       "25%      16.896560    16.600903    16.449945    16.236156    15.789692   \n",
       "50%      24.233093    23.700628    23.850033    23.639611    23.110777   \n",
       "75%      32.715337    32.093181    32.582240    32.352576    31.622210   \n",
       "max      82.214252  3062.300000  1961.401224  1552.400000  1234.311980   \n",
       "\n",
       "               v11          v12          v13          v14          v15  \\\n",
       "count  5147.000000  5136.000000  5127.000000  5109.000000  5117.000000   \n",
       "mean     23.783167    22.833982    21.467188    19.073005    16.218535   \n",
       "std      12.990751    12.820557    12.894347    13.272466    13.967095   \n",
       "min     -47.873771   -30.918084   -65.374060   -79.543273   -83.138439   \n",
       "25%      15.204282    14.283305    12.853180    10.379196     7.194135   \n",
       "50%      22.433288    21.650318    20.490981    18.397447    15.947374   \n",
       "75%      31.124236    30.178715    29.105779    27.352628    25.016176   \n",
       "max      86.545580    86.705805    85.015493    84.711695    84.283011   \n",
       "\n",
       "               v16          v17          v18          v19          v20  \n",
       "count  5108.000000  5087.000000  5055.000000  5047.000000  5055.000000  \n",
       "mean     12.527994     9.268105     4.722912     0.018138     2.989352  \n",
       "std      15.125452    17.037667    19.980606    23.759484    31.650320  \n",
       "min     -79.293918   -92.482266   -99.690804  -144.885600  -153.392847  \n",
       "25%       2.826284    -1.521159    -7.140816   -13.213321   -15.428151  \n",
       "50%      12.530727     9.474033     5.466311     0.701587     1.912084  \n",
       "75%      22.646897    20.511677    17.692188    15.256225    20.863201  \n",
       "max      87.546636    84.027287    80.004637    83.620905   157.616329  "
      ]
     },
     "execution_count": 32,
     "metadata": {},
     "output_type": "execute_result"
    }
   ],
   "source": [
    "vFiltrado.describe()"
   ]
  },
  {
   "cell_type": "code",
   "execution_count": 33,
   "metadata": {},
   "outputs": [],
   "source": [
    "#add o tempo\n",
    "uFiltrado['time'] =  timeContinuo;\n",
    "vFiltrado['time'] =  timeContinuo;\n",
    "\n",
    "#salvando o dado\n",
    "uFiltrado.to_csv(path+'/adcp-zonal-limpo.csv', sep=';',index = False)\n",
    "vFiltrado.to_csv(path+'/adcp-meridional-limpo.csv', sep=';',index = False)"
   ]
  },
  {
   "cell_type": "code",
   "execution_count": 34,
   "metadata": {},
   "outputs": [
    {
     "data": {
      "text/plain": [
       "(-50.0, 100.0)"
      ]
     },
     "execution_count": 34,
     "metadata": {},
     "output_type": "execute_result"
    },
    {
     "data": {
      "image/png": "[encoded data removed]",
      "text/plain": [
       "<Figure size 432x288 with 1 Axes>"
      ]
     },
     "metadata": {
      "needs_background": "light"
     },
     "output_type": "display_data"
    }
   ],
   "source": [
    "plt.plot(vFiltrado.iloc[:,5])\n",
    "plt.ylim([-50, 100])"
   ]
  },
  {
   "cell_type": "code",
   "execution_count": 35,
   "metadata": {},
   "outputs": [
    {
     "data": {
      "text/plain": [
       "<AxesSubplot:>"
      ]
     },
     "execution_count": 35,
     "metadata": {},
     "output_type": "execute_result"
    },
    {
     "data": {
      "image/png": "[encoded data removed]",
      "text/plain": [
       "<Figure size 432x288 with 1 Axes>"
      ]
     },
     "metadata": {
      "needs_background": "light"
     },
     "output_type": "display_data"
    }
   ],
   "source": [
    "vFiltrado.boxplot()"
   ]
  },
  {
   "cell_type": "code",
   "execution_count": 36,
   "metadata": {},
   "outputs": [
    {
     "data": {
      "text/plain": [
       "[<matplotlib.lines.Line2D at 0x7fe2d88daa60>]"
      ]
     },
     "execution_count": 36,
     "metadata": {},
     "output_type": "execute_result"
    },
    {
     "data": {
      "image/png": "[encoded data removed]",
      "text/plain": [
       "<Figure size 432x288 with 1 Axes>"
      ]
     },
     "metadata": {
      "needs_background": "light"
     },
     "output_type": "display_data"
    }
   ],
   "source": [
    "plt.plot(uFiltrado.iloc[:,19],'.')\n",
    "#plt.ylim([-100, 50])"
   ]
  },
  {
   "cell_type": "code",
   "execution_count": null,
   "metadata": {},
   "outputs": [],
   "source": []
  }
 ],
 "metadata": {
  "kernelspec": {
   "display_name": "Python 3 (ipykernel)",
   "language": "python",
   "name": "python3"
  },
  "language_info": {
   "codemirror_mode": {
    "name": "ipython",
    "version": 3
   },
   "file_extension": ".py",
   "mimetype": "text/x-python",
   "name": "python",
   "nbconvert_exporter": "python",
   "pygments_lexer": "ipython3",
   "version": "3.8.5"
  }
 },
 "nbformat": 4,
 "nbformat_minor": 4
}
