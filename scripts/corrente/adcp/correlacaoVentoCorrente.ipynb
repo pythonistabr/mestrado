{
 "cells": [
  {
   "cell_type": "markdown",
   "id": "7f36eb81",
   "metadata": {},
   "source": [
    "#### informacoes dos dados\n",
    "<p> inicio de medicao do adcp: 2016-11-18 20:00:00</p>\n",
    "<p> fim de medicao adcp : 2017-12-04 13:00:00</p>"
   ]
  },
  {
   "cell_type": "markdown",
   "id": "4ba31d08",
   "metadata": {},
   "source": [
    "### inicio da analise"
   ]
  },
  {
   "cell_type": "code",
   "execution_count": 32,
   "id": "3be8c7b3",
   "metadata": {},
   "outputs": [],
   "source": [
    "import datetime as dt\n",
    "import matplotlib.pyplot as plt\n",
    "import pandas as pd, numpy as np\n",
    "import matplotlib.dates as mdates"
   ]
  },
  {
   "cell_type": "code",
   "execution_count": 56,
   "id": "41c9b014",
   "metadata": {},
   "outputs": [],
   "source": [
    "from filters import moving_avg"
   ]
  },
  {
   "cell_type": "code",
   "execution_count": 81,
   "id": "b7cc8fef",
   "metadata": {},
   "outputs": [
    {
     "name": "stdout",
     "output_type": "stream",
     "text": [
      "Using matplotlib backend: Qt5Agg\n"
     ]
    }
   ],
   "source": [
    "%matplotlib auto"
   ]
  },
  {
   "cell_type": "markdown",
   "id": "3e101d5c",
   "metadata": {},
   "source": [
    "<h3>Funcoes</h3>"
   ]
  },
  {
   "cell_type": "code",
   "execution_count": 34,
   "id": "ffe3a703",
   "metadata": {},
   "outputs": [],
   "source": [
    "def corta_serie_temporal(date_min, date_max, vetor_tempo, data):\n",
    "\n",
    "    date_min = dt.datetime.strptime(date_min,\n",
    "                                    \"%Y-%m-%d %H:%M:%S\")\n",
    "    \n",
    "    date_max = dt.datetime.strptime(date_max,\n",
    "                                    '%Y-%m-%d %H:%M:%S')\n",
    "    vetor_tempo = vetor_tempo\n",
    "    \n",
    "    rc = data.copy()\n",
    "    \n",
    "    condition = ((vetor_tempo >= date_min) & (vetor_tempo <= date_max)).squeeze()\n",
    "    \n",
    "\n",
    "    rc = rc.loc[condition, :]\n",
    "    return rc"
   ]
  },
  {
   "cell_type": "markdown",
   "id": "3d034775",
   "metadata": {},
   "source": [
    "<h3> carregamento dos dados </h3>"
   ]
  },
  {
   "cell_type": "code",
   "execution_count": 35,
   "id": "ed5dcf76",
   "metadata": {},
   "outputs": [],
   "source": [
    "path = '/home/gus/Documentos/mestrado/dados-mestrado/vento-inmet'\n",
    "dfwind = pd.read_csv(path+'/dados_rotacionados_dir_oceanografica.csv', sep=\";\")"
   ]
  },
  {
   "cell_type": "code",
   "execution_count": 36,
   "id": "accc73ee",
   "metadata": {},
   "outputs": [],
   "source": [
    "#-- vetor com os tempos dos dados de vento --\n",
    "vetor_time = [dt.datetime.strptime(ii,'%Y-%m-%d %H:%M:%S')\n",
    "              for ii in dfwind.time]\n",
    "\n",
    "vetor_time = pd.DataFrame(vetor_time)"
   ]
  },
  {
   "cell_type": "code",
   "execution_count": 37,
   "id": "d5f7956f",
   "metadata": {},
   "outputs": [],
   "source": [
    "path = '/home/gus/Documentos/mestrado/dados-mestrado/dados-adcp-completos'\n",
    "\n",
    "# --\n",
    "adcpu = pd.read_csv(path+'/perpendicular-2016-2017.csv', delimiter= ';')\n",
    "adcpv = pd.read_csv(path+'/paralelo-2016-2017.csv', delimiter= ';')\n",
    "# --"
   ]
  },
  {
   "cell_type": "code",
   "execution_count": 38,
   "id": "8ea5d153",
   "metadata": {},
   "outputs": [
    {
     "data": {
      "text/plain": [
       "('2016-11-18 20:00:00', '2017-12-04 13:00:00')"
      ]
     },
     "execution_count": 38,
     "metadata": {},
     "output_type": "execute_result"
    }
   ],
   "source": [
    "# -- checando as datas limites dos dados da boia --\n",
    "\n",
    "adcpu.time.iloc[0], adcpu.time.iloc[-1]"
   ]
  },
  {
   "cell_type": "code",
   "execution_count": 39,
   "id": "9ffd679d",
   "metadata": {},
   "outputs": [
    {
     "data": {
      "text/plain": [
       "('2016-12-01 00:00:00', '2017-12-31 23:00:00')"
      ]
     },
     "execution_count": 39,
     "metadata": {},
     "output_type": "execute_result"
    }
   ],
   "source": [
    "dfwind.time.iloc[0], dfwind.time.iloc[-1]"
   ]
  },
  {
   "cell_type": "markdown",
   "id": "a5694c5c",
   "metadata": {},
   "source": [
    "#### Ajuste das series temporais"
   ]
  },
  {
   "cell_type": "code",
   "execution_count": 40,
   "id": "e4f26f3f",
   "metadata": {},
   "outputs": [],
   "source": [
    "# - vento\n",
    "rc = corta_serie_temporal('2016-11-18 20:00:00','2017-12-04 13:00:00',\n",
    "                         vetor_time, dfwind)"
   ]
  },
  {
   "cell_type": "code",
   "execution_count": 41,
   "id": "f29b397d",
   "metadata": {},
   "outputs": [],
   "source": [
    "# - tempo do adcp\n",
    "adcp_time = adcpu.time.iloc[:]"
   ]
  },
  {
   "cell_type": "code",
   "execution_count": 42,
   "id": "eb8ba6a8",
   "metadata": {},
   "outputs": [],
   "source": [
    "# - tempo do adcp para datetime\n",
    "adcp_timedt = pd.DataFrame([dt.datetime.strptime(\n",
    "    ii,'%Y-%m-%d %H:%M:%S') for ii in adcp_time])"
   ]
  },
  {
   "cell_type": "code",
   "execution_count": 43,
   "id": "e367f58a",
   "metadata": {},
   "outputs": [],
   "source": [
    "# - adcp\n",
    "adcpu = corta_serie_temporal(dfwind.time.iloc[0],\n",
    "                             dfwind.time.iloc[-1], adcp_timedt , adcpu)\n",
    "\n",
    "adcpv = corta_serie_temporal(dfwind.time.iloc[0],\n",
    "                             dfwind.time.iloc[-1], adcp_timedt , adcpv)\n"
   ]
  },
  {
   "cell_type": "code",
   "execution_count": 44,
   "id": "313c4725",
   "metadata": {},
   "outputs": [],
   "source": [
    "dfwind = rc;\n",
    "del rc"
   ]
  },
  {
   "cell_type": "code",
   "execution_count": 45,
   "id": "f7fb02f8",
   "metadata": {},
   "outputs": [
    {
     "name": "stdout",
     "output_type": "stream",
     "text": [
      "As series estão ajustadas\n"
     ]
    }
   ],
   "source": [
    "if len(dfwind) == len(adcpu):\n",
    "    print(\"As series estão ajustadas\")"
   ]
  },
  {
   "cell_type": "markdown",
   "id": "b4d2f98d",
   "metadata": {},
   "source": [
    "### correlação"
   ]
  },
  {
   "cell_type": "code",
   "execution_count": 46,
   "id": "5d40e327",
   "metadata": {},
   "outputs": [
    {
     "data": {
      "text/html": [
       "<div>\n",
       "<style scoped>\n",
       "    .dataframe tbody tr th:only-of-type {\n",
       "        vertical-align: middle;\n",
       "    }\n",
       "\n",
       "    .dataframe tbody tr th {\n",
       "        vertical-align: top;\n",
       "    }\n",
       "\n",
       "    .dataframe thead th {\n",
       "        text-align: right;\n",
       "    }\n",
       "</style>\n",
       "<table border=\"1\" class=\"dataframe\">\n",
       "  <thead>\n",
       "    <tr style=\"text-align: right;\">\n",
       "      <th></th>\n",
       "      <th>wu</th>\n",
       "      <th>wv</th>\n",
       "      <th>wgu</th>\n",
       "      <th>wgv</th>\n",
       "      <th>time</th>\n",
       "    </tr>\n",
       "  </thead>\n",
       "  <tbody>\n",
       "    <tr>\n",
       "      <th>0</th>\n",
       "      <td>-1.626940</td>\n",
       "      <td>0.056814</td>\n",
       "      <td>-4.367049</td>\n",
       "      <td>0.152501</td>\n",
       "      <td>2016-12-01 00:00:00</td>\n",
       "    </tr>\n",
       "    <tr>\n",
       "      <th>1</th>\n",
       "      <td>-2.136798</td>\n",
       "      <td>-0.149419</td>\n",
       "      <td>-4.957370</td>\n",
       "      <td>-0.346653</td>\n",
       "      <td>2016-12-01 01:00:00</td>\n",
       "    </tr>\n",
       "    <tr>\n",
       "      <th>2</th>\n",
       "      <td>-2.055082</td>\n",
       "      <td>0.071765</td>\n",
       "      <td>-5.308962</td>\n",
       "      <td>0.185393</td>\n",
       "      <td>2016-12-01 02:00:00</td>\n",
       "    </tr>\n",
       "    <tr>\n",
       "      <th>3</th>\n",
       "      <td>-2.053517</td>\n",
       "      <td>-0.107620</td>\n",
       "      <td>-5.989423</td>\n",
       "      <td>-0.313892</td>\n",
       "      <td>2016-12-01 03:00:00</td>\n",
       "    </tr>\n",
       "    <tr>\n",
       "      <th>4</th>\n",
       "      <td>-2.994712</td>\n",
       "      <td>0.156946</td>\n",
       "      <td>-6.417239</td>\n",
       "      <td>0.336313</td>\n",
       "      <td>2016-12-01 04:00:00</td>\n",
       "    </tr>\n",
       "  </tbody>\n",
       "</table>\n",
       "</div>"
      ],
      "text/plain": [
       "         wu        wv       wgu       wgv                 time\n",
       "0 -1.626940  0.056814 -4.367049  0.152501  2016-12-01 00:00:00\n",
       "1 -2.136798 -0.149419 -4.957370 -0.346653  2016-12-01 01:00:00\n",
       "2 -2.055082  0.071765 -5.308962  0.185393  2016-12-01 02:00:00\n",
       "3 -2.053517 -0.107620 -5.989423 -0.313892  2016-12-01 03:00:00\n",
       "4 -2.994712  0.156946 -6.417239  0.336313  2016-12-01 04:00:00"
      ]
     },
     "execution_count": 46,
     "metadata": {},
     "output_type": "execute_result"
    }
   ],
   "source": [
    "dfwind.head()"
   ]
  },
  {
   "cell_type": "markdown",
   "id": "763cb263",
   "metadata": {},
   "source": [
    "## rotacionando os dados de vento"
   ]
  },
  {
   "cell_type": "code",
   "execution_count": 47,
   "id": "c6d620a4",
   "metadata": {},
   "outputs": [],
   "source": [
    "wul = dfwind.wu*np.cos(np.deg2rad(60)) + dfwind.wv*np.sin(np.deg2rad(60))\n",
    "wvl = -dfwind.wu*np.sin(np.deg2rad(60)) + dfwind.wv*np.cos(np.deg2rad(60))\n",
    "\n",
    "dfwind['wul'] = wul\n",
    "dfwind['wvl'] = wvl\n",
    "\n",
    "del wul, wvl"
   ]
  },
  {
   "cell_type": "markdown",
   "id": "3343a803",
   "metadata": {},
   "source": [
    "### checando os dataframes"
   ]
  },
  {
   "cell_type": "code",
   "execution_count": 48,
   "id": "e6786a6b",
   "metadata": {},
   "outputs": [
    {
     "data": {
      "text/html": [
       "<div>\n",
       "<style scoped>\n",
       "    .dataframe tbody tr th:only-of-type {\n",
       "        vertical-align: middle;\n",
       "    }\n",
       "\n",
       "    .dataframe tbody tr th {\n",
       "        vertical-align: top;\n",
       "    }\n",
       "\n",
       "    .dataframe thead th {\n",
       "        text-align: right;\n",
       "    }\n",
       "</style>\n",
       "<table border=\"1\" class=\"dataframe\">\n",
       "  <thead>\n",
       "    <tr style=\"text-align: right;\">\n",
       "      <th></th>\n",
       "      <th>wu</th>\n",
       "      <th>wv</th>\n",
       "      <th>wgu</th>\n",
       "      <th>wgv</th>\n",
       "      <th>time</th>\n",
       "      <th>wul</th>\n",
       "      <th>wvl</th>\n",
       "    </tr>\n",
       "  </thead>\n",
       "  <tbody>\n",
       "    <tr>\n",
       "      <th>0</th>\n",
       "      <td>-1.626940</td>\n",
       "      <td>0.056814</td>\n",
       "      <td>-4.367049</td>\n",
       "      <td>0.152501</td>\n",
       "      <td>2016-12-01 00:00:00</td>\n",
       "      <td>-0.764268</td>\n",
       "      <td>1.437378</td>\n",
       "    </tr>\n",
       "    <tr>\n",
       "      <th>1</th>\n",
       "      <td>-2.136798</td>\n",
       "      <td>-0.149419</td>\n",
       "      <td>-4.957370</td>\n",
       "      <td>-0.346653</td>\n",
       "      <td>2016-12-01 01:00:00</td>\n",
       "      <td>-1.197800</td>\n",
       "      <td>1.775811</td>\n",
       "    </tr>\n",
       "    <tr>\n",
       "      <th>2</th>\n",
       "      <td>-2.055082</td>\n",
       "      <td>0.071765</td>\n",
       "      <td>-5.308962</td>\n",
       "      <td>0.185393</td>\n",
       "      <td>2016-12-01 02:00:00</td>\n",
       "      <td>-0.965391</td>\n",
       "      <td>1.815636</td>\n",
       "    </tr>\n",
       "    <tr>\n",
       "      <th>3</th>\n",
       "      <td>-2.053517</td>\n",
       "      <td>-0.107620</td>\n",
       "      <td>-5.989423</td>\n",
       "      <td>-0.313892</td>\n",
       "      <td>2016-12-01 03:00:00</td>\n",
       "      <td>-1.119960</td>\n",
       "      <td>1.724587</td>\n",
       "    </tr>\n",
       "    <tr>\n",
       "      <th>4</th>\n",
       "      <td>-2.994712</td>\n",
       "      <td>0.156946</td>\n",
       "      <td>-6.417239</td>\n",
       "      <td>0.336313</td>\n",
       "      <td>2016-12-01 04:00:00</td>\n",
       "      <td>-1.361436</td>\n",
       "      <td>2.671970</td>\n",
       "    </tr>\n",
       "  </tbody>\n",
       "</table>\n",
       "</div>"
      ],
      "text/plain": [
       "         wu        wv       wgu       wgv                 time       wul  \\\n",
       "0 -1.626940  0.056814 -4.367049  0.152501  2016-12-01 00:00:00 -0.764268   \n",
       "1 -2.136798 -0.149419 -4.957370 -0.346653  2016-12-01 01:00:00 -1.197800   \n",
       "2 -2.055082  0.071765 -5.308962  0.185393  2016-12-01 02:00:00 -0.965391   \n",
       "3 -2.053517 -0.107620 -5.989423 -0.313892  2016-12-01 03:00:00 -1.119960   \n",
       "4 -2.994712  0.156946 -6.417239  0.336313  2016-12-01 04:00:00 -1.361436   \n",
       "\n",
       "        wvl  \n",
       "0  1.437378  \n",
       "1  1.775811  \n",
       "2  1.815636  \n",
       "3  1.724587  \n",
       "4  2.671970  "
      ]
     },
     "execution_count": 48,
     "metadata": {},
     "output_type": "execute_result"
    }
   ],
   "source": [
    "dfwind.head()"
   ]
  },
  {
   "cell_type": "code",
   "execution_count": 49,
   "id": "d76242d5",
   "metadata": {},
   "outputs": [
    {
     "data": {
      "text/html": [
       "<div>\n",
       "<style scoped>\n",
       "    .dataframe tbody tr th:only-of-type {\n",
       "        vertical-align: middle;\n",
       "    }\n",
       "\n",
       "    .dataframe tbody tr th {\n",
       "        vertical-align: top;\n",
       "    }\n",
       "\n",
       "    .dataframe thead th {\n",
       "        text-align: right;\n",
       "    }\n",
       "</style>\n",
       "<table border=\"1\" class=\"dataframe\">\n",
       "  <thead>\n",
       "    <tr style=\"text-align: right;\">\n",
       "      <th></th>\n",
       "      <th>0</th>\n",
       "      <th>1</th>\n",
       "      <th>2</th>\n",
       "      <th>3</th>\n",
       "      <th>4</th>\n",
       "      <th>5</th>\n",
       "      <th>6</th>\n",
       "      <th>7</th>\n",
       "      <th>8</th>\n",
       "      <th>9</th>\n",
       "      <th>...</th>\n",
       "      <th>11</th>\n",
       "      <th>12</th>\n",
       "      <th>13</th>\n",
       "      <th>14</th>\n",
       "      <th>15</th>\n",
       "      <th>16</th>\n",
       "      <th>17</th>\n",
       "      <th>18</th>\n",
       "      <th>19</th>\n",
       "      <th>time</th>\n",
       "    </tr>\n",
       "  </thead>\n",
       "  <tbody>\n",
       "    <tr>\n",
       "      <th>292</th>\n",
       "      <td>2.766456</td>\n",
       "      <td>3.854003</td>\n",
       "      <td>3.311954</td>\n",
       "      <td>3.635609</td>\n",
       "      <td>6.132167</td>\n",
       "      <td>3.430062</td>\n",
       "      <td>1.421306</td>\n",
       "      <td>4.360670</td>\n",
       "      <td>3.294062</td>\n",
       "      <td>2.445067</td>\n",
       "      <td>...</td>\n",
       "      <td>4.545147</td>\n",
       "      <td>5.108417</td>\n",
       "      <td>2.468644</td>\n",
       "      <td>-2.675337</td>\n",
       "      <td>-9.637806</td>\n",
       "      <td>-17.170062</td>\n",
       "      <td>NaN</td>\n",
       "      <td>-35.000894</td>\n",
       "      <td>-74.319552</td>\n",
       "      <td>2016-12-01 00:00:00</td>\n",
       "    </tr>\n",
       "    <tr>\n",
       "      <th>293</th>\n",
       "      <td>-3.342730</td>\n",
       "      <td>-1.956765</td>\n",
       "      <td>-1.315994</td>\n",
       "      <td>-0.333824</td>\n",
       "      <td>-2.800309</td>\n",
       "      <td>-1.315994</td>\n",
       "      <td>-2.278983</td>\n",
       "      <td>-1.256592</td>\n",
       "      <td>-2.117925</td>\n",
       "      <td>-0.680900</td>\n",
       "      <td>...</td>\n",
       "      <td>-1.032690</td>\n",
       "      <td>-1.426545</td>\n",
       "      <td>-1.699171</td>\n",
       "      <td>-0.817927</td>\n",
       "      <td>-4.404494</td>\n",
       "      <td>-5.231856</td>\n",
       "      <td>-12.336748</td>\n",
       "      <td>-31.245520</td>\n",
       "      <td>-49.148609</td>\n",
       "      <td>2016-12-01 01:00:00</td>\n",
       "    </tr>\n",
       "    <tr>\n",
       "      <th>294</th>\n",
       "      <td>-4.346033</td>\n",
       "      <td>-3.469523</td>\n",
       "      <td>-5.694168</td>\n",
       "      <td>-6.424747</td>\n",
       "      <td>-5.896873</td>\n",
       "      <td>-2.076696</td>\n",
       "      <td>-2.593048</td>\n",
       "      <td>-1.471355</td>\n",
       "      <td>-4.295756</td>\n",
       "      <td>-5.786307</td>\n",
       "      <td>...</td>\n",
       "      <td>-3.527156</td>\n",
       "      <td>-2.480307</td>\n",
       "      <td>-4.511584</td>\n",
       "      <td>-6.892748</td>\n",
       "      <td>-8.873202</td>\n",
       "      <td>-14.437034</td>\n",
       "      <td>-20.847654</td>\n",
       "      <td>-30.398226</td>\n",
       "      <td>-49.930014</td>\n",
       "      <td>2016-12-01 02:00:00</td>\n",
       "    </tr>\n",
       "  </tbody>\n",
       "</table>\n",
       "<p>3 rows × 21 columns</p>\n",
       "</div>"
      ],
      "text/plain": [
       "            0         1         2         3         4         5         6  \\\n",
       "292  2.766456  3.854003  3.311954  3.635609  6.132167  3.430062  1.421306   \n",
       "293 -3.342730 -1.956765 -1.315994 -0.333824 -2.800309 -1.315994 -2.278983   \n",
       "294 -4.346033 -3.469523 -5.694168 -6.424747 -5.896873 -2.076696 -2.593048   \n",
       "\n",
       "            7         8         9  ...        11        12        13  \\\n",
       "292  4.360670  3.294062  2.445067  ...  4.545147  5.108417  2.468644   \n",
       "293 -1.256592 -2.117925 -0.680900  ... -1.032690 -1.426545 -1.699171   \n",
       "294 -1.471355 -4.295756 -5.786307  ... -3.527156 -2.480307 -4.511584   \n",
       "\n",
       "           14        15         16         17         18         19  \\\n",
       "292 -2.675337 -9.637806 -17.170062        NaN -35.000894 -74.319552   \n",
       "293 -0.817927 -4.404494  -5.231856 -12.336748 -31.245520 -49.148609   \n",
       "294 -6.892748 -8.873202 -14.437034 -20.847654 -30.398226 -49.930014   \n",
       "\n",
       "                    time  \n",
       "292  2016-12-01 00:00:00  \n",
       "293  2016-12-01 01:00:00  \n",
       "294  2016-12-01 02:00:00  \n",
       "\n",
       "[3 rows x 21 columns]"
      ]
     },
     "execution_count": 49,
     "metadata": {},
     "output_type": "execute_result"
    }
   ],
   "source": [
    "adcpu.head(3)"
   ]
  },
  {
   "cell_type": "code",
   "execution_count": 99,
   "id": "cc55a5db",
   "metadata": {},
   "outputs": [],
   "source": [
    "#x = moving_avg(dfwind.wul, 6)\n",
    "#y = moving_avg(dfwind.wvl, 6)\n",
    "\n",
    "#dfwind['wul12'] = x\n",
    "#dfwind['wvl12'] = y\n",
    "#del x, y"
   ]
  },
  {
   "cell_type": "markdown",
   "id": "60996a25",
   "metadata": {},
   "source": [
    "## A 1ª coluna será destinada a comp. perpendicular das correntes,\n",
    "## enqunto a 2ª coluna será destinada a comp. paralela das correntes."
   ]
  },
  {
   "cell_type": "code",
   "execution_count": 95,
   "id": "2c0f0996",
   "metadata": {},
   "outputs": [],
   "source": [
    "\n",
    "correlacao_wu = np.zeros([20, 2])\n",
    "\n",
    "correlacao_wu.fill(np.NaN)\n",
    "\n",
    "correlacao_wv = correlacao_wu.copy()"
   ]
  },
  {
   "cell_type": "code",
   "execution_count": 96,
   "id": "a0ff93d4",
   "metadata": {},
   "outputs": [],
   "source": [
    "for iterador in range(20):\n",
    "    \n",
    "    # vento perpendicular \n",
    "    R1 = dfwind['wul12'].corr(adcpu.iloc[:, iterador]\n",
    "                              , method = 'pearson')\n",
    "    \n",
    "    R2 = dfwind['wul12'].corr(adcpv.iloc[:, iterador]\n",
    "                              , method = 'pearson')\n",
    "    \n",
    "    # vento paralelo\n",
    "    R3 = dfwind['wvl12'].corr(adcpu.iloc[:, iterador]\n",
    "                              , method = 'pearson')\n",
    "    R4 = dfwind['wvl12'].corr(adcpv.iloc[:, iterador]\n",
    "                              , method = 'pearson')\n",
    "    \n",
    "    \n",
    "    correlacao_wu[iterador, 0] = R1\n",
    "    correlacao_wu[iterador, 1] = R2\n",
    "    \n",
    "    correlacao_wv[iterador, 0] = R3\n",
    "    correlacao_wv[iterador, 1] = R4\n",
    "    \n",
    "    del R1, R2, R3, R4"
   ]
  },
  {
   "cell_type": "code",
   "execution_count": 97,
   "id": "40f9ef14",
   "metadata": {},
   "outputs": [
    {
     "data": {
      "text/plain": [
       "array([[ 0.01298291,  0.20293965],\n",
       "       [ 0.00703502,  0.23502264],\n",
       "       [ 0.04115776,  0.24014538],\n",
       "       [ 0.06516627,  0.24378786],\n",
       "       [ 0.06734328,  0.24540279],\n",
       "       [ 0.07040077,  0.25126114],\n",
       "       [ 0.06375428,  0.25608827],\n",
       "       [ 0.05904064,  0.25651971],\n",
       "       [ 0.05430566,  0.25915675],\n",
       "       [ 0.03829569,  0.26166713],\n",
       "       [ 0.01696988,  0.26797328],\n",
       "       [ 0.00492435,  0.26740358],\n",
       "       [ 0.00045378,  0.26956061],\n",
       "       [-0.0234494 ,  0.24502032],\n",
       "       [-0.01675731,  0.21861395],\n",
       "       [ 0.00826836,  0.1869312 ],\n",
       "       [ 0.04374824,  0.17000087],\n",
       "       [ 0.07409263,  0.17325939],\n",
       "       [ 0.11662446,  0.1627719 ],\n",
       "       [ 0.25547091,  0.2211642 ]])"
      ]
     },
     "execution_count": 97,
     "metadata": {},
     "output_type": "execute_result"
    }
   ],
   "source": [
    "correlacao_wu"
   ]
  },
  {
   "cell_type": "code",
   "execution_count": 98,
   "id": "ad2f19c1",
   "metadata": {},
   "outputs": [
    {
     "data": {
      "text/plain": [
       "array([[ 0.03605139, -0.16999298],\n",
       "       [-0.01496868, -0.19767374],\n",
       "       [-0.03530759, -0.21171301],\n",
       "       [-0.05275257, -0.22368166],\n",
       "       [-0.06241408, -0.2263774 ],\n",
       "       [-0.06245528, -0.23379127],\n",
       "       [-0.06940288, -0.23701833],\n",
       "       [-0.07283641, -0.22991971],\n",
       "       [-0.0744422 , -0.22996157],\n",
       "       [-0.0727191 , -0.22681474],\n",
       "       [-0.05887759, -0.21380317],\n",
       "       [-0.04463119, -0.20089461],\n",
       "       [-0.04091469, -0.17322733],\n",
       "       [-0.04350752, -0.12833953],\n",
       "       [-0.04591774, -0.08657572],\n",
       "       [-0.05850667, -0.03956401],\n",
       "       [-0.06536394, -0.0243812 ],\n",
       "       [-0.07367734, -0.01882027],\n",
       "       [-0.07635463, -0.01050023],\n",
       "       [-0.06648077,  0.00378545]])"
      ]
     },
     "execution_count": 98,
     "metadata": {},
     "output_type": "execute_result"
    }
   ],
   "source": [
    "correlacao_wv"
   ]
  }
 ],
 "metadata": {
  "kernelspec": {
   "display_name": "Python 3 (ipykernel)",
   "language": "python",
   "name": "python3"
  },
  "language_info": {
   "codemirror_mode": {
    "name": "ipython",
    "version": 3
   },
   "file_extension": ".py",
   "mimetype": "text/x-python",
   "name": "python",
   "nbconvert_exporter": "python",
   "pygments_lexer": "ipython3",
   "version": "3.8.5"
  }
 },
 "nbformat": 4,
 "nbformat_minor": 5
}
