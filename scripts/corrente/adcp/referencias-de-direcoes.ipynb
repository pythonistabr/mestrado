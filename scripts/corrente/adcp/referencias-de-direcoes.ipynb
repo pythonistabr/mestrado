{
 "cells": [
  {
   "cell_type": "markdown",
   "id": "76bc913a",
   "metadata": {},
   "source": [
    "### Referencias \n",
    "Long, David G. Display and computation of winds in oceanography and Meteorology. (MERS Technical Report)"
   ]
  },
  {
   "cell_type": "markdown",
   "id": "61428b15",
   "metadata": {},
   "source": [
    "<p style=\"font-size:20px;\"> A convencao meteorologica e a convencao oceanografica (relativa ao norte) diferem entre si 180 (graus). Para a convencao oceanografica, dada uma corrente S, com uma direcao relativa ao norte $\\phi_{o}$, as componentes $\\vec{u}$ e $\\vec{v}$ podem ser computadas de acordo com a equação:</p>\n",
    "\n",
    "\n",
    "\n",
    "<p> $\\phi_{u}$ = 90 - $\\phi_{o}$</p>\n",
    "\n",
    "<p> $\\vec{u} = S\\cdot \\cos(\\phi_{u})$</p>\n",
    "\n",
    "<p> $\\vec{v} = S\\cdot \\sin(\\phi_{u})$</p>\n",
    "\n",
    "<p> Para a convencao meteorologica com direcao $\\phi_{m}$</p>\n",
    "\n",
    "<p>$ \\phi_{u} = 90 -( \\phi_{m} - 180) =  -\\phi_{m} - 90 $</p>\n",
    "\n",
    "<p>$\\vec{u} = -S \\cdot \\cos(\\phi_{u})$</p>\n",
    "\n",
    "<p>$ \\vec{v} = -S \\cdot \\sin(\\phi_{u})$</p>\n",
    "\n",
    "\n",
    "\n",
    "<h4> para encontrar as direcoes oceanograficas e meteorologicas do vento utiliza-se as seguintes equacoes:</h4>\n",
    "\n",
    "<p>$\\phi_{u} = \\arctan(v/u)$</p>\n",
    "\n",
    "<p>$ S = \\sqrt(v^{2} + u^{2})$</p>\n",
    "\n",
    "<p>$ \\phi_{o} = 90 - \\phi_{u}$</p>\n",
    "\n",
    "<p>$\\phi_{m} = -90 - \\phi_{u}$</p>"
   ]
  },
  {
   "cell_type": "code",
   "execution_count": 1,
   "id": "35a9c6da",
   "metadata": {},
   "outputs": [],
   "source": [
    "from numpy import (deg2rad, rad2deg, pi, arctan2)"
   ]
  },
  {
   "cell_type": "code",
   "execution_count": 5,
   "id": "858e52e9",
   "metadata": {},
   "outputs": [
    {
     "name": "stdout",
     "output_type": "stream",
     "text": [
      "0.0\n"
     ]
    }
   ],
   "source": [
    "# teste corrente de norte\n",
    "u = 0; # zonal\n",
    "v = 1; # meridional\n",
    "phi_ocean = 90 - rad2deg(arctan2(1,0))\n",
    "print(phi_ocean)"
   ]
  },
  {
   "cell_type": "code",
   "execution_count": 27,
   "id": "62e69475",
   "metadata": {},
   "outputs": [
    {
     "name": "stdout",
     "output_type": "stream",
     "text": [
      "90.0\n"
     ]
    }
   ],
   "source": [
    "# teste corrente leste\n",
    "u = 1; # zonal\n",
    "v = 0; # meridional\n",
    "phi_ocean = 90 - rad2deg(arctan2(0,1))\n",
    "print(phi_ocean)"
   ]
  },
  {
   "cell_type": "code",
   "execution_count": 30,
   "id": "c4f5c463",
   "metadata": {},
   "outputs": [
    {
     "name": "stdout",
     "output_type": "stream",
     "text": [
      "180.0\n"
     ]
    }
   ],
   "source": [
    "# teste corrente sul\n",
    "u = 0; # zonal\n",
    "v = -1; # meridional\n",
    "phi_ocean = 90 - rad2deg(arctan2(-1,0))\n",
    "print(phi_ocean)"
   ]
  },
  {
   "cell_type": "code",
   "execution_count": 33,
   "id": "a561a48a",
   "metadata": {},
   "outputs": [
    {
     "name": "stdout",
     "output_type": "stream",
     "text": [
      "-90.0\n"
     ]
    }
   ],
   "source": [
    "# teste corrente oeste\n",
    "u = -1; # zonal\n",
    "v = 0; # meridional\n",
    "phi_ocean = 90 - rad2deg(arctan2(0,-1))\n",
    "print(phi_ocean)"
   ]
  }
 ],
 "metadata": {
  "kernelspec": {
   "display_name": "Python 3 (ipykernel)",
   "language": "python",
   "name": "python3"
  },
  "language_info": {
   "codemirror_mode": {
    "name": "ipython",
    "version": 3
   },
   "file_extension": ".py",
   "mimetype": "text/x-python",
   "name": "python",
   "nbconvert_exporter": "python",
   "pygments_lexer": "ipython3",
   "version": "3.9.5"
  }
 },
 "nbformat": 4,
 "nbformat_minor": 5
}
