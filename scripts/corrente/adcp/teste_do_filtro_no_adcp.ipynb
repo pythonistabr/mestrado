{
 "cells": [
  {
   "cell_type": "code",
   "execution_count": 1,
   "id": "8b105302",
   "metadata": {},
   "outputs": [
    {
     "name": "stdout",
     "output_type": "stream",
     "text": [
      "/home/gus/Documentos/mestrado/dados-mestrado/dados-adcp-completos\n"
     ]
    }
   ],
   "source": [
    "cd '/home/gus/Documentos/mestrado/dados-mestrado/dados-adcp-completos/'"
   ]
  },
  {
   "cell_type": "code",
   "execution_count": 2,
   "id": "0b0288db",
   "metadata": {},
   "outputs": [],
   "source": [
    "import numpy as np\n",
    "import pandas as pd\n",
    "import matplotlib.pyplot as plt\n",
    "import matplotlib.dates as mdates"
   ]
  },
  {
   "cell_type": "code",
   "execution_count": 3,
   "id": "272622df",
   "metadata": {},
   "outputs": [],
   "source": [
    "from low_pass_filter import butter_low_pass_filter"
   ]
  },
  {
   "cell_type": "code",
   "execution_count": 4,
   "id": "ef91a280",
   "metadata": {},
   "outputs": [
    {
     "name": "stdout",
     "output_type": "stream",
     "text": [
      "Using matplotlib backend: Qt5Agg\n"
     ]
    }
   ],
   "source": [
    "%matplotlib auto"
   ]
  },
  {
   "cell_type": "code",
   "execution_count": 5,
   "id": "c0f3df5d",
   "metadata": {},
   "outputs": [
    {
     "name": "stdout",
     "output_type": "stream",
     "text": [
      "adcp_fortaleza.csv                boia-zonal-limpo.csv   vl_filtrado_total.csv\r\n",
      "adcp_fortaleza_sem_cabecalho.csv  fortaleza.pdf          vlSerie1.csv\r\n",
      "adcp_fortaleza.xls                ul_filtrado_total.csv  vlSerie2.csv\r\n",
      "\u001b[0m\u001b[01;34madcp_series_cortadas\u001b[0m/             ulSerie1.csv\r\n",
      "boia-meridional-limpo.csv         ulSerie2.csv\r\n"
     ]
    }
   ],
   "source": [
    "ls"
   ]
  },
  {
   "cell_type": "code",
   "execution_count": 6,
   "id": "018aea42",
   "metadata": {},
   "outputs": [],
   "source": [
    "dful1 = pd.read_csv('ulSerie1.csv', delimiter=';')\n",
    "dful2 = pd.read_csv('ulSerie1.csv', delimiter=';')"
   ]
  },
  {
   "cell_type": "code",
   "execution_count": 7,
   "id": "8000feb4",
   "metadata": {},
   "outputs": [],
   "source": [
    "dfvl1 = pd.read_csv('vlSerie1.csv', delimiter=';')\n",
    "dfvl2 = pd.read_csv('vlSerie1.csv', delimiter=';')"
   ]
  },
  {
   "cell_type": "code",
   "execution_count": 8,
   "id": "b0054b48",
   "metadata": {},
   "outputs": [],
   "source": [
    "Time1 = mdates.datestr2num(dful1.time)\n",
    "Time2 = mdates.datestr2num(dful2.time)"
   ]
  },
  {
   "cell_type": "code",
   "execution_count": 9,
   "id": "a5869229",
   "metadata": {},
   "outputs": [
    {
     "data": {
      "text/plain": [
       "0       0.278157\n",
       "1       0.278157\n",
       "2       0.278157\n",
       "3       0.278157\n",
       "4       0.278157\n",
       "5       0.278157\n",
       "6       0.278157\n",
       "7       0.278157\n",
       "8       0.278157\n",
       "9       0.278157\n",
       "10      0.278157\n",
       "11      0.278157\n",
       "12      0.278157\n",
       "13      0.278157\n",
       "14      0.278157\n",
       "15      0.278157\n",
       "16      0.278157\n",
       "17      0.278157\n",
       "18      0.278157\n",
       "19      0.278157\n",
       "time    0.000000\n",
       "dtype: float64"
      ]
     },
     "execution_count": 9,
     "metadata": {},
     "output_type": "execute_result"
    }
   ],
   "source": [
    "dful1.isna().sum()/len(dful1)"
   ]
  },
  {
   "cell_type": "code",
   "execution_count": 10,
   "id": "ff714300",
   "metadata": {},
   "outputs": [
    {
     "data": {
      "text/plain": [
       "0       0.278157\n",
       "1       0.278157\n",
       "2       0.278157\n",
       "3       0.278157\n",
       "4       0.278157\n",
       "5       0.278157\n",
       "6       0.278157\n",
       "7       0.278157\n",
       "8       0.278157\n",
       "9       0.278157\n",
       "10      0.278157\n",
       "11      0.278157\n",
       "12      0.278157\n",
       "13      0.278157\n",
       "14      0.278157\n",
       "15      0.278157\n",
       "16      0.278157\n",
       "17      0.278157\n",
       "18      0.278157\n",
       "19      0.278157\n",
       "time    0.000000\n",
       "dtype: float64"
      ]
     },
     "execution_count": 10,
     "metadata": {},
     "output_type": "execute_result"
    }
   ],
   "source": [
    "dful2.isna().sum()/len(dful2)"
   ]
  },
  {
   "cell_type": "markdown",
   "id": "efe5fa75",
   "metadata": {},
   "source": [
    "### interpolação"
   ]
  },
  {
   "cell_type": "code",
   "execution_count": 11,
   "id": "66bbbbfb",
   "metadata": {},
   "outputs": [],
   "source": [
    "dful1.interpolate(method='linear', limit=12, inplace=True)\n",
    "dful2.interpolate(method='linear', limit=12, inplace=True)"
   ]
  },
  {
   "cell_type": "code",
   "execution_count": 12,
   "id": "11a9fbf8",
   "metadata": {},
   "outputs": [],
   "source": [
    "dfvl1.interpolate(method='linear', limit=12, inplace=True)\n",
    "dfvl2.interpolate(method='linear', limit=12, inplace=True)"
   ]
  },
  {
   "cell_type": "code",
   "execution_count": 23,
   "id": "89587cd9",
   "metadata": {},
   "outputs": [],
   "source": [
    "Length = len(dfvl1)\n",
    "r = np.random.random(size=Length)\n",
    "White_Noise = np.sin(r) - np.cos(r)\n"
   ]
  },
  {
   "cell_type": "code",
   "execution_count": 24,
   "id": "7ada62f0",
   "metadata": {},
   "outputs": [],
   "source": [
    "signal = [ np.nansum([dfvl2.iloc[ii, 18], White_Noise[ii]]) for ii in range(Length)]       \n",
    "signalFiltered = butter_low_pass_filter(signal, 2, 25)"
   ]
  },
  {
   "cell_type": "code",
   "execution_count": 26,
   "id": "e382700e",
   "metadata": {},
   "outputs": [
    {
     "data": {
      "text/plain": [
       "[<matplotlib.lines.Line2D at 0x7f919c96c040>]"
      ]
     },
     "execution_count": 26,
     "metadata": {},
     "output_type": "execute_result"
    }
   ],
   "source": [
    "plt.plot(dfvl2.iloc[:,18])\n",
    "plt.plot(signalFiltered)"
   ]
  },
  {
   "cell_type": "code",
   "execution_count": null,
   "id": "4203bba4",
   "metadata": {},
   "outputs": [],
   "source": [
    "dful1.isna().sum()/len(dful1)"
   ]
  },
  {
   "cell_type": "code",
   "execution_count": null,
   "id": "3f78c3b3",
   "metadata": {},
   "outputs": [],
   "source": [
    "dful2.isna().sum()/len(dful2)"
   ]
  },
  {
   "cell_type": "code",
   "execution_count": null,
   "id": "014d548e",
   "metadata": {},
   "outputs": [],
   "source": [
    "dfvl1.isna().sum()/len(dfvl1)"
   ]
  },
  {
   "cell_type": "code",
   "execution_count": null,
   "id": "af1eff51",
   "metadata": {},
   "outputs": [],
   "source": [
    "dfvl2.isna().sum()/len(dfvl2)"
   ]
  },
  {
   "cell_type": "code",
   "execution_count": null,
   "id": "8f4ddc59",
   "metadata": {},
   "outputs": [],
   "source": []
  }
 ],
 "metadata": {
  "kernelspec": {
   "display_name": "Python 3 (ipykernel)",
   "language": "python",
   "name": "python3"
  },
  "language_info": {
   "codemirror_mode": {
    "name": "ipython",
    "version": 3
   },
   "file_extension": ".py",
   "mimetype": "text/x-python",
   "name": "python",
   "nbconvert_exporter": "python",
   "pygments_lexer": "ipython3",
   "version": "3.8.5"
  }
 },
 "nbformat": 4,
 "nbformat_minor": 5
}
