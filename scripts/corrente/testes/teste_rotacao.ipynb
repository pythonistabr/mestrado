{
 "cells": [
  {
   "cell_type": "markdown",
   "id": "05e7e010",
   "metadata": {},
   "source": [
    "## Teste de Rotacao"
   ]
  },
  {
   "cell_type": "code",
   "execution_count": 1,
   "id": "197bb697",
   "metadata": {},
   "outputs": [],
   "source": [
    "import numpy as np"
   ]
  },
  {
   "cell_type": "markdown",
   "id": "ee92aa2b",
   "metadata": {},
   "source": [
    "### corrente Norte"
   ]
  },
  {
   "cell_type": "code",
   "execution_count": 5,
   "id": "b2c8cbfb",
   "metadata": {},
   "outputs": [
    {
     "name": "stdout",
     "output_type": "stream",
     "text": [
      "paralela 14.) = 0.50, perpendicular = 0.87\n",
      "\n",
      "meridional = 1.00, zonal = 0.00\n"
     ]
    }
   ],
   "source": [
    "adcp = 0; \n",
    "r = 1;\n",
    "adcp_rad = np.deg2rad(adcp)\n",
    "\n",
    "rotacao_plataforma = np.deg2rad(60);\n",
    "\n",
    "u = r * np.cos((np.pi/2) - adcp_rad);\n",
    "v = r * np.sin((np.pi/2) - adcp_rad);\n",
    "\n",
    "ul = u*np.cos(rotacao_plataforma) + v*np.sin(rotacao_plataforma)\n",
    "vl = -u*np.sin(rotacao_plataforma) + v*np.cos(rotacao_plataforma)\n",
    "\n",
    "print('paralela = {:.2f}, perpendicular = {:.2f}'.format(vl, ul))\n",
    "print()\n",
    "print('meridional = {:.2f}, zonal = {:.2f}'.format(v, u))"
   ]
  },
  {
   "cell_type": "markdown",
   "id": "d1fa5f31",
   "metadata": {},
   "source": [
    "### Corrente Leste"
   ]
  },
  {
   "cell_type": "code",
   "execution_count": 3,
   "id": "7c1b158c",
   "metadata": {},
   "outputs": [
    {
     "name": "stdout",
     "output_type": "stream",
     "text": [
      "paralela = -0.87, perpendicular = 0.50\n",
      "\n",
      "meridional = 0.00, zonal = 1.00\n"
     ]
    }
   ],
   "source": [
    "\n",
    "# corrente de leste\n",
    "adcp = 90; \n",
    "r = 1;\n",
    "adcp_rad = np.deg2rad(adcp)\n",
    "\n",
    "rotacao_plataforma = np.deg2rad(60);\n",
    "\n",
    "u = r * np.cos((np.pi/2) - adcp_rad);\n",
    "v = r * np.sin((np.pi/2) - adcp_rad);\n",
    "\n",
    "ul = u*np.cos(rotacao_plataforma) + v*np.sin(rotacao_plataforma)\n",
    "vl = -u*np.sin(rotacao_plataforma) + v*np.cos(rotacao_plataforma)\n",
    "\n",
    "print('paralela = {:.2f}, perpendicular = {:.2f}'.format(vl, ul))\n",
    "print()\n",
    "print('meridional = {:.2f}, zonal = {:.2f}'.format(v, u))"
   ]
  },
  {
   "cell_type": "markdown",
   "id": "1336649a",
   "metadata": {},
   "source": [
    "### Corrente Sul"
   ]
  },
  {
   "cell_type": "code",
   "execution_count": 4,
   "id": "8826cfff",
   "metadata": {},
   "outputs": [
    {
     "name": "stdout",
     "output_type": "stream",
     "text": [
      "paralela = -0.50, perpendicular = -0.87\n",
      "\n",
      "meridional = -1.00, zonal = 0.00\n"
     ]
    }
   ],
   "source": [
    "# corrente de sul\n",
    "\n",
    "adcp = 180;\n",
    "adcp_rad = np.deg2rad(adcp)\n",
    "r = 1;\n",
    "\n",
    "\n",
    "\n",
    "rotacao_plataforma = np.deg2rad(60);\n",
    "\n",
    "u = r * np.cos((np.pi/2) - adcp_rad);\n",
    "v = r * np.sin((np.pi/2) - adcp_rad);\n",
    "\n",
    "ul = u*np.cos(rotacao_plataforma) + v*np.sin(rotacao_plataforma)\n",
    "vl = -u*np.sin(rotacao_plataforma) + v*np.cos(rotacao_plataforma)\n",
    "\n",
    "print('paralela = {:.2f}, perpendicular = {:.2f}'.format(vl, ul))\n",
    "print()\n",
    "print('meridional = {:.2f}, zonal = {:.2f}'.format(v, u))"
   ]
  },
  {
   "cell_type": "markdown",
   "id": "0bec497e",
   "metadata": {},
   "source": [
    "### Corrente Oeste"
   ]
  },
  {
   "cell_type": "code",
   "execution_count": 5,
   "id": "ef163dcd",
   "metadata": {},
   "outputs": [
    {
     "name": "stdout",
     "output_type": "stream",
     "text": [
      "paralela = 0.87, perpendicular = -0.50\n",
      "\n",
      "meridional = -0.00, zonal = -1.00\n"
     ]
    }
   ],
   "source": [
    "adcp = 270;\n",
    "adcp_rad = np.deg2rad(adcp)\n",
    "r = 1;\n",
    "phi_u = (90 - adcp)%360\n",
    "\n",
    "\n",
    "rotacao_plataforma = np.deg2rad(60);\n",
    "\n",
    "u = r * np.cos((np.pi/2) - adcp_rad);\n",
    "v = r * np.sin((np.pi/2) - adcp_rad);\n",
    "\n",
    "ul = u*np.cos(rotacao_plataforma) + v*np.sin(rotacao_plataforma)\n",
    "vl = -u*np.sin(rotacao_plataforma) + v*np.cos(rotacao_plataforma)\n",
    "\n",
    "print('paralela = {:.2f}, perpendicular = {:.2f}'.format(vl, ul))\n",
    "print()\n",
    "print('meridional = {:.2f}, zonal = {:.2f}'.format(v, u))"
   ]
  },
  {
   "cell_type": "markdown",
   "id": "39290f23",
   "metadata": {},
   "source": [
    "### Corrente Noroeste"
   ]
  },
  {
   "cell_type": "code",
   "execution_count": 6,
   "id": "29f300ed",
   "metadata": {},
   "outputs": [
    {
     "name": "stdout",
     "output_type": "stream",
     "text": [
      "paralela = 0.97, perpendicular = 0.26\n",
      "\n",
      "meridional = 0.71, zonal = -0.71\n"
     ]
    }
   ],
   "source": [
    "\n",
    "adcp = 315; \n",
    "r = 1;\n",
    "adcp_rad = np.deg2rad(adcp)\n",
    "\n",
    "rotacao_plataforma = np.deg2rad(60);\n",
    "\n",
    "u = r * np.cos((np.pi/2) - adcp_rad);\n",
    "v = r * np.sin((np.pi/2) - adcp_rad);\n",
    "\n",
    "ul = u*np.cos(rotacao_plataforma) + v*np.sin(rotacao_plataforma)\n",
    "vl = -u*np.sin(rotacao_plataforma) + v*np.cos(rotacao_plataforma)\n",
    "\n",
    "print('paralela = {:.2f}, perpendicular = {:.2f}'.format(vl, ul))\n",
    "print()\n",
    "print('meridional = {:.2f}, zonal = {:.2f}'.format(v, u))"
   ]
  },
  {
   "cell_type": "markdown",
   "id": "304a4b8b",
   "metadata": {},
   "source": [
    "### corrente onshore"
   ]
  },
  {
   "cell_type": "code",
   "execution_count": 9,
   "id": "262dafce",
   "metadata": {},
   "outputs": [
    {
     "name": "stdout",
     "output_type": "stream",
     "text": [
      "paralela = 0.00, perpendicular = -1.00\n",
      "\n",
      "meridional = -0.87, zonal = -0.50\n"
     ]
    }
   ],
   "source": [
    "adcp = 210; \n",
    "r = 1;\n",
    "adcp_rad = np.deg2rad(adcp)\n",
    "\n",
    "rotacao_plataforma = np.deg2rad(60);\n",
    "\n",
    "u = r * np.cos((np.pi/2) - adcp_rad);\n",
    "v = r * np.sin((np.pi/2) - adcp_rad);\n",
    "\n",
    "ul = u*np.cos(rotacao_plataforma) + v*np.sin(rotacao_plataforma)\n",
    "vl = -u*np.sin(rotacao_plataforma) + v*np.cos(rotacao_plataforma)\n",
    "\n",
    "print('paralela = {:.2f}, perpendicular = {:.2f}'.format(vl, ul))\n",
    "print()\n",
    "print('meridional = {:.2f}, zonal = {:.2f}'.format(v, u))"
   ]
  },
  {
   "cell_type": "markdown",
   "id": "bf8766de",
   "metadata": {},
   "source": [
    "### Corrente offshore"
   ]
  },
  {
   "cell_type": "code",
   "execution_count": 8,
   "id": "421a1e68",
   "metadata": {},
   "outputs": [
    {
     "name": "stdout",
     "output_type": "stream",
     "text": [
      "paralela = 0.00, perpendicular = 1.00\n",
      "\n",
      "meridional = 0.87, zonal = 0.50\n"
     ]
    }
   ],
   "source": [
    "adcp = 30; \n",
    "r = 1;\n",
    "adcp_rad = np.deg2rad(adcp)\n",
    "\n",
    "rotacao_plataforma = np.deg2rad(60);\n",
    "\n",
    "u = r * np.cos((np.pi/2) - adcp_rad);\n",
    "v = r * np.sin((np.pi/2) - adcp_rad);\n",
    "\n",
    "ul = u*np.cos(rotacao_plataforma) + v*np.sin(rotacao_plataforma)\n",
    "vl = -u*np.sin(rotacao_plataforma) + v*np.cos(rotacao_plataforma)\n",
    "\n",
    "print('paralela = {:.2f}, perpendicular = {:.2f}'.format(vl, ul))\n",
    "print()\n",
    "print('meridional = {:.2f}, zonal = {:.2f}'.format(v, u))"
   ]
  },
  {
   "cell_type": "markdown",
   "id": "28493c46",
   "metadata": {},
   "source": [
    "# norte\n",
    "x = 0\n",
    "y = 1\n",
    "\n",
    "import numpy as np\n",
    "phi = np.deg2rad(60)\n",
    "ul = x * np.cos(phi) + y * np.sin(phi)\n",
    "vl = -x * np.sin(phi) + y * np.cos(phi)\n",
    "\n",
    "print(vl)\n",
    "print(ul)"
   ]
  },
  {
   "cell_type": "markdown",
   "id": "f83a2704",
   "metadata": {},
   "source": [
    "# leste\n",
    "x = 1\n",
    "y = 0\n",
    "\n",
    "import numpy as np\n",
    "phi = np.deg2rad(60)\n",
    "ul = x * np.cos(phi) + y * np.sin(phi)\n",
    "vl = -x * np.sin(phi) + y * np.cos(phi)\n",
    "\n",
    "print(vl)\n",
    "print(ul)"
   ]
  },
  {
   "cell_type": "markdown",
   "id": "b0fda29e",
   "metadata": {},
   "source": [
    "# sul\n",
    "x = 0\n",
    "y = -1\n",
    "\n",
    "import numpy as np\n",
    "phi = np.deg2rad(60)\n",
    "ul = x * np.cos(phi) + y * np.sin(phi)\n",
    "vl = -x * np.sin(phi) + y * np.cos(phi)\n",
    "\n",
    "print(vl)\n",
    "print(ul)"
   ]
  },
  {
   "cell_type": "markdown",
   "id": "fe7fa627",
   "metadata": {},
   "source": [
    "# oeste\n",
    "x = -1\n",
    "y = 0\n",
    "\n",
    "import numpy as np\n",
    "phi = np.deg2rad(60)\n",
    "ul = x * np.cos(phi) + y * np.sin(phi)\n",
    "vl = -x * np.sin(phi) + y * np.cos(phi)\n",
    "\n",
    "print(vl)\n",
    "print(ul)"
   ]
  },
  {
   "cell_type": "code",
   "execution_count": null,
   "id": "0043489b",
   "metadata": {},
   "outputs": [],
   "source": []
  }
 ],
 "metadata": {
  "kernelspec": {
   "display_name": "Python 3 (ipykernel)",
   "language": "python",
   "name": "python3"
  },
  "language_info": {
   "codemirror_mode": {
    "name": "ipython",
    "version": 3
   },
   "file_extension": ".py",
   "mimetype": "text/x-python",
   "name": "python",
   "nbconvert_exporter": "python",
   "pygments_lexer": "ipython3",
   "version": "3.9.5"
  }
 },
 "nbformat": 4,
 "nbformat_minor": 5
}
